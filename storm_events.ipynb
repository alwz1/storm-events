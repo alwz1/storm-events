{
 "cells": [
  {
   "cell_type": "markdown",
   "metadata": {},
   "source": [
    "## Storm Events\n",
    "Exploratory data analysis of storm events from 2010 to 2019. The datasets are from Storm Events Database of National Centers for Environmental Information (NCEI)."
   ]
  },
  {
   "cell_type": "markdown",
   "metadata": {},
   "source": [
    "#### Get data from Storm Events Database of NCEI"
   ]
  },
  {
   "cell_type": "code",
   "execution_count": null,
   "metadata": {},
   "outputs": [],
   "source": [
    "!wget https: // www1.ncdc.noaa.gov/pub/data/swdi/stormevents/csvfiles/StormEvents_details-ftp_v1.0_d2010_c20191116.csv.gz\n",
    "!mv StormEvents_details-ftp_v1.0_d2010_c20191116.csv.gz StormEvents_2010.csv.gz\n",
    "\n",
    "!wget https: // www1.ncdc.noaa.gov/pub/data/swdi/stormevents/csvfiles/StormEvents_details-ftp_v1.0_d2011_c20180718.csv.gz\n",
    "!mv StormEvents_details-ftp_v1.0_d2011_c20180718.csv.gz StormEvents_2011.csv.gz\n",
    "\n",
    "!wget https: // www1.ncdc.noaa.gov/pub/data/swdi/stormevents/csvfiles/StormEvents_details-ftp_v1.0_d2012_c20200317.csv.gz\n",
    "!mv StormEvents_details-ftp_v1.0_d2012_c20200317.csv.gz StormEvents_2012.csv.gz\n",
    "\n",
    "!wget https: // www1.ncdc.noaa.gov/pub/data/swdi/stormevents/csvfiles/StormEvents_details-ftp_v1.0_d2013_c20170519.csv.gz\n",
    "!mv StormEvents_details-ftp_v1.0_d2013_c20170519.csv.gz StormEvents_2013.csv.gz\n",
    "\n",
    "!wget https: // www1.ncdc.noaa.gov/pub/data/swdi/stormevents/csvfiles/StormEvents_details-ftp_v1.0_d2014_c20191116.csv.gz\n",
    "!mv StormEvents_details-ftp_v1.0_d2014_c20191116.csv.gz StormEvents_2014.csv.gz\n",
    "\n",
    "!wget https: // www1.ncdc.noaa.gov/pub/data/swdi/stormevents/csvfiles/StormEvents_details-ftp_v1.0_d2015_c20191116.csv.gz\n",
    "!mv StormEvents_details-ftp_v1.0_d2015_c20191116.csv.gz StormEvents_2015.csv.gz\n",
    "\n",
    "!wget https: // www1.ncdc.noaa.gov/pub/data/swdi/stormevents/csvfiles/StormEvents_details-ftp_v1.0_d2016_c20190817.csv.gz\n",
    "!mv StormEvents_details-ftp_v1.0_d2016_c20190817.csv.gz StormEvents_2016.csv.gz\n",
    "\n",
    "!wget https: // www1.ncdc.noaa.gov/pub/data/swdi/stormevents/csvfiles/StormEvents_details-ftp_v1.0_d2017_c20200121.csv.gz\n",
    "!mv StormEvents_details-ftp_v1.0_d2017_c20200121.csv.gz StormEvents_2017.csv.gz\n",
    "\n",
    "!wget https: // www1.ncdc.noaa.gov/pub/data/swdi/stormevents/csvfiles/StormEvents_details-ftp_v1.0_d2018_c20200317.csv.gz\n",
    "!mv StormEvents_details-ftp_v1.0_d2018_c20200317.csv.gz StormEvents_2018.csv.gz\n",
    "\n",
    "!wget https: // www1.ncdc.noaa.gov/pub/data/swdi/stormevents/csvfiles/StormEvents_details-ftp_v1.0_d2019_c20200416.csv.gz\n",
    "!mv StormEvents_details-ftp_v1.0_d2019_c20200416.csv.gz StormEvents_2019.csv.gz"
   ]
  },
  {
   "cell_type": "code",
   "execution_count": null,
   "metadata": {},
   "outputs": [],
   "source": [
    "# import necessary libraries\n",
    "\n",
    "import numpy as np\n",
    "import pandas as pd\n",
    "import seaborn as sns\n",
    "import matplotlib.pyplot as plt\n",
    "from matplotlib.ticker import PercentFormatter\n",
    "\n",
    "%matplotlib inline"
   ]
  },
  {
   "cell_type": "markdown",
   "metadata": {},
   "source": [
    "## Initial data exploration"
   ]
  },
  {
   "cell_type": "code",
   "execution_count": null,
   "metadata": {},
   "outputs": [],
   "source": [
    "df_2010 = pd.read_csv('StormEvents_2010.csv.gz', compression='gzip')\n",
    "# returns the first five rows\n",
    "df_2010.head()"
   ]
  },
  {
   "cell_type": "code",
   "execution_count": null,
   "metadata": {},
   "outputs": [],
   "source": [
    "# check for number of rows and columns\n",
    "df_2010.shape "
   ]
  },
  {
   "cell_type": "code",
   "execution_count": null,
   "metadata": {},
   "outputs": [],
   "source": [
    "# check the names of the columns (fields)\n",
    "df_2010.columns"
   ]
  },
  {
   "cell_type": "code",
   "execution_count": null,
   "metadata": {},
   "outputs": [],
   "source": [
    "#  select columns of interest from the yearly Storm Events datasets\n",
    "\n",
    "selected_columns = ['EVENT_ID', 'STATE', 'YEAR', 'MONTH_NAME', 'EVENT_TYPE', 'INJURIES_DIRECT',\n",
    "                    'INJURIES_INDIRECT', 'DEATHS_DIRECT', 'DEATHS_INDIRECT', 'DAMAGE_PROPERTY']"
   ]
  },
  {
   "cell_type": "code",
   "execution_count": null,
   "metadata": {},
   "outputs": [],
   "source": [
    "# read and concatenate yearly Storm Events datasets into a single data frame\n",
    "\n",
    "df = pd.read_csv('StormEvents_2010.csv.gz',\n",
    "                 compression='gzip')[selected_columns]\n",
    "\n",
    "for i in range(1, 10):\n",
    "    df_temp = pd.read_csv('StormEvents_' + str(2010 + i)\n",
    "                          + '.csv.gz', compression='gzip')\n",
    "    df = pd.concat([df, df_temp[selected_columns]])"
   ]
  },
  {
   "cell_type": "code",
   "execution_count": null,
   "metadata": {},
   "outputs": [],
   "source": [
    "# check for number of rows and columns\n",
    "df.shape"
   ]
  },
  {
   "cell_type": "code",
   "execution_count": null,
   "metadata": {},
   "outputs": [],
   "source": [
    "# number of distinct event types\n",
    "num_types = df['EVENT_TYPE'].nunique()\n",
    "print(\"There are {} storm event types.\".format(num_types))"
   ]
  },
  {
   "cell_type": "markdown",
   "metadata": {},
   "source": [
    "## Event type\n",
    "#### Which storm events occured most frequently?"
   ]
  },
  {
   "cell_type": "code",
   "execution_count": null,
   "metadata": {},
   "outputs": [],
   "source": [
    "# plot 10 most frequent storm types\n",
    "df['EVENT_TYPE'].value_counts()[0:10]\\\n",
    "    .plot(kind='bar', title='Top 10 Strom Events from 2010 to 2019')"
   ]
  },
  {
   "cell_type": "code",
   "execution_count": null,
   "metadata": {
    "scrolled": true
   },
   "outputs": [],
   "source": [
    "# check 10 most frequent storm types\n",
    "df['EVENT_TYPE'].value_counts()[:10]"
   ]
  },
  {
   "cell_type": "markdown",
   "metadata": {},
   "source": [
    "# Fatalities"
   ]
  },
  {
   "cell_type": "code",
   "execution_count": null,
   "metadata": {},
   "outputs": [],
   "source": [
    "# check if there are any null values for fatalities\n",
    "df[['DEATHS_DIRECT', 'DEATHS_INDIRECT']].isnull().any()"
   ]
  },
  {
   "cell_type": "code",
   "execution_count": null,
   "metadata": {},
   "outputs": [],
   "source": [
    "def fatality(col_name):\n",
    "    \"\"\" Returns direct, indirect, and total fatalities grouped by col_name. \"\"\"\n",
    "\n",
    "    df_fatality = df.groupby(col_name).sum(\n",
    "    )[['DEATHS_DIRECT', 'DEATHS_INDIRECT']]\n",
    "\n",
    "    df_fatality['DEATHS_TOTAL'] = df_fatality['DEATHS_DIRECT'] + \\\n",
    "        df_fatality['DEATHS_INDIRECT']\n",
    "\n",
    "    return df_fatality"
   ]
  },
  {
   "cell_type": "markdown",
   "metadata": {},
   "source": [
    "## Direct fatalities by event type\n",
    "\n",
    "#### Which storm events caused the most direct fatalities?"
   ]
  },
  {
   "cell_type": "code",
   "execution_count": null,
   "metadata": {},
   "outputs": [],
   "source": [
    "# fatality dataframe grouped by storm type, and sorted by direct fatality\n",
    "df_fatalityD_event = fatality('EVENT_TYPE').sort_values(\n",
    "    'DEATHS_DIRECT', ascending=False)\n",
    "\n",
    "# add cumulative percentage for direct fatality\n",
    "df_fatalityD_event['cumpercentage'] = df_fatalityD_event['DEATHS_DIRECT']\\\n",
    "    .cumsum() / df_fatalityD_event['DEATHS_DIRECT'].sum()*100"
   ]
  },
  {
   "cell_type": "code",
   "execution_count": null,
   "metadata": {},
   "outputs": [],
   "source": [
    "# top 5 storm types for direct fatality\n",
    "df_fatalityD_event.head()"
   ]
  },
  {
   "cell_type": "code",
   "execution_count": null,
   "metadata": {},
   "outputs": [],
   "source": [
    "# total fatalities\n",
    "df_total_deaths = df_fatalityD_event.sum()\n",
    "print(df_total_deaths)\n",
    "print('\\n')\n",
    "print(\"The total direct fatality is {}.\".format(df_total_deaths[0]))"
   ]
  },
  {
   "cell_type": "code",
   "execution_count": null,
   "metadata": {},
   "outputs": [],
   "source": [
    "# create and save direct_fatalities bar plot\n",
    "\n",
    "fig, axs = plt.subplots(figsize=(15, 10))\n",
    "\n",
    "# plot direct fatality\n",
    "df_fatalityD_event['DEATHS_DIRECT'][:33].plot(kind='bar')\n",
    "axs.set_title('Direct Fatality', fontsize=24)\n",
    "axs.set_xlabel('', fontsize=16)\n",
    "plt.xticks(fontsize=16)\n",
    "plt.yticks(fontsize=16)\n",
    "plt.tight_layout()\n",
    "\n",
    "# create twin axes\n",
    "axs2 = axs.twinx()\n",
    "axs2.yaxis.set_major_formatter(PercentFormatter())\n",
    "\n",
    "# plot cumulative percentage\n",
    "axs2.plot(df_fatalityD_event.index, df_fatalityD_event['cumpercentage'],\n",
    "          color=\"C1\", marker=\"D\", ms=7)\n",
    "plt.xticks(fontsize=16)\n",
    "plt.yticks(fontsize=16)\n",
    "plt.tight_layout()\n",
    "\n",
    "fig.savefig('direct_fatalities.png')"
   ]
  },
  {
   "cell_type": "code",
   "execution_count": null,
   "metadata": {},
   "outputs": [],
   "source": [
    "# top 5 event types for direct fatality\n",
    "top5_events = ['Tornado', 'Flash Flood',\n",
    "               'Excessive Heat', 'Heat', 'Rip Current']"
   ]
  },
  {
   "cell_type": "markdown",
   "metadata": {},
   "source": [
    "## Top 5 direct fatalities by year\n",
    "\n",
    "#### What are the yearly direct fatalities caused by the top five storm event types?"
   ]
  },
  {
   "cell_type": "code",
   "execution_count": null,
   "metadata": {},
   "outputs": [],
   "source": [
    "# create yearly direct fatalities by top 5 storm event types dataframe\n",
    "\n",
    "df_yearly_deaths = df[df['EVENT_TYPE'] == 'Tornado'].groupby('YEAR').sum()[\n",
    "    'DEATHS_DIRECT']\n",
    "\n",
    "for event in top5_events[1:]:\n",
    "    df_yearly_temp = df[df['EVENT_TYPE'] == event].groupby('YEAR').sum()[\n",
    "        'DEATHS_DIRECT']\n",
    "    # concatenate the storm event types\n",
    "    df_yearly_deaths = pd.concat([df_yearly_deaths, df_yearly_temp], axis=1)\n",
    "\n",
    "# rename the columns\n",
    "df_yearly_deaths.columns = top5_events"
   ]
  },
  {
   "cell_type": "code",
   "execution_count": null,
   "metadata": {},
   "outputs": [],
   "source": [
    "df_yearly_deaths"
   ]
  },
  {
   "cell_type": "code",
   "execution_count": null,
   "metadata": {},
   "outputs": [],
   "source": [
    "# yearly total direct fatalities by top 5 storm types\n",
    "df_yearly_deaths.sum(axis=1)"
   ]
  },
  {
   "cell_type": "code",
   "execution_count": null,
   "metadata": {},
   "outputs": [],
   "source": [
    "# total direct fatality by top 5 storm types grouped by types\n",
    "df_yearly_deaths.sum(axis=0)"
   ]
  },
  {
   "cell_type": "code",
   "execution_count": null,
   "metadata": {},
   "outputs": [],
   "source": [
    "# total direct fatality by top 5 storm types\n",
    "total_direct_deaths = df_yearly_deaths.sum().sum()\n",
    "print(\"The total direct fatality by the top 5 storm events is {}.\"\n",
    "      .format(total_direct_deaths))"
   ]
  },
  {
   "cell_type": "code",
   "execution_count": null,
   "metadata": {},
   "outputs": [],
   "source": [
    "3275/5568"
   ]
  },
  {
   "cell_type": "code",
   "execution_count": null,
   "metadata": {},
   "outputs": [],
   "source": [
    "print(\"58.8% of direct fatality was caused by the top 5 strom events.\")"
   ]
  },
  {
   "cell_type": "code",
   "execution_count": null,
   "metadata": {},
   "outputs": [],
   "source": [
    "# statistics for the yearly direct fatalities by the top five storm types\n",
    "df_yearly_deaths.describe().transpose()"
   ]
  },
  {
   "cell_type": "code",
   "execution_count": null,
   "metadata": {},
   "outputs": [],
   "source": [
    "# create and save the yearly direct fatalities by the top five storm types box plot\n",
    "fig, axs = plt.subplots(figsize=(8, 5))\n",
    "fig = sns.boxplot(data=df_yearly_deaths)\n",
    "axs.set_title('Direct Fatality', fontsize=16)\n",
    "plt.xticks(fontsize=12)\n",
    "plt.yticks(fontsize=12)\n",
    "fig.figure.savefig('direct_boxplt.png')"
   ]
  },
  {
   "cell_type": "code",
   "execution_count": null,
   "metadata": {},
   "outputs": [],
   "source": [
    "# create and save the yearly direct fatalities by the top five storm types stacked bar plot\n",
    "fig, axs = plt.subplots(figsize=(10, 5))\n",
    "df_yearly_deaths.plot(kind='bar', stacked=True, ax=axs)\n",
    "axs.set_title('Direct fatality by top 5 storm events', fontsize=16)\n",
    "axs.set_xlabel('')\n",
    "plt.xticks(fontsize=14)\n",
    "plt.yticks(fontsize=14)\n",
    "plt.tight_layout()\n",
    "fig.savefig('top5_direct_fatalities.png')"
   ]
  },
  {
   "cell_type": "markdown",
   "metadata": {},
   "source": [
    "## Total fatalities by event type\n",
    "\n",
    "#### Which storm event types caused the most total fatalities?"
   ]
  },
  {
   "cell_type": "code",
   "execution_count": null,
   "metadata": {},
   "outputs": [],
   "source": [
    "# dataframe for fatality grouped by storm type and sorted by total fatality\n",
    "df_fatality_event = fatality('EVENT_TYPE')\\\n",
    "    .sort_values('DEATHS_TOTAL', ascending=False)"
   ]
  },
  {
   "cell_type": "code",
   "execution_count": null,
   "metadata": {},
   "outputs": [],
   "source": [
    "# add cumulative percentage for total fatality\n",
    "df_fatality_event['cumpercentage'] = df_fatality_event['DEATHS_TOTAL']\\\n",
    "    .cumsum()/df_fatality_event['DEATHS_TOTAL'].sum()*100"
   ]
  },
  {
   "cell_type": "code",
   "execution_count": null,
   "metadata": {},
   "outputs": [],
   "source": [
    "df_fatality_event"
   ]
  },
  {
   "cell_type": "code",
   "execution_count": null,
   "metadata": {},
   "outputs": [],
   "source": [
    "# fatalities\n",
    "df_fatality_event.sum()"
   ]
  },
  {
   "cell_type": "code",
   "execution_count": null,
   "metadata": {},
   "outputs": [],
   "source": [
    "# create and save total_fatalities bar plot\n",
    "\n",
    "# plot total fatality\n",
    "fig, axs = plt.subplots(figsize=(15, 10))\n",
    "df_fatality_event['DEATHS_TOTAL'][:41].plot(kind='bar')\n",
    "axs.set_title('Total Fatality', fontsize=24)\n",
    "axs.set_xlabel('', fontsize=16)\n",
    "plt.xticks(fontsize=16)\n",
    "plt.yticks(fontsize=16)\n",
    "plt.tight_layout()\n",
    "\n",
    "# create twin axes\n",
    "axs2 = axs.twinx()\n",
    "axs2.yaxis.set_major_formatter(PercentFormatter())\n",
    "\n",
    "# plot cumulative percentage\n",
    "axs2.plot(df_fatality_event.index, df_fatality_event['cumpercentage'],\n",
    "          color=\"C1\", marker=\"D\", ms=7)\n",
    "plt.xticks(fontsize=16)\n",
    "plt.yticks(fontsize=16)\n",
    "plt.tight_layout()\n",
    "\n",
    "fig.savefig('total_fatalities.png')"
   ]
  },
  {
   "cell_type": "code",
   "execution_count": null,
   "metadata": {},
   "outputs": [],
   "source": [
    "# top 5 total fatalities\n",
    "df_fatality_event['DEATHS_TOTAL'][:5]"
   ]
  },
  {
   "cell_type": "code",
   "execution_count": null,
   "metadata": {},
   "outputs": [],
   "source": [
    "# total fatality by top 5 storm types\n",
    "df_fatality_event['DEATHS_TOTAL'][:5].sum()"
   ]
  },
  {
   "cell_type": "code",
   "execution_count": null,
   "metadata": {},
   "outputs": [],
   "source": [
    "3730/7551 * 100"
   ]
  },
  {
   "cell_type": "code",
   "execution_count": null,
   "metadata": {},
   "outputs": [],
   "source": [
    "print(\"49.4% of total fatality was caused by the top 5 strom events.\")"
   ]
  },
  {
   "cell_type": "markdown",
   "metadata": {},
   "source": [
    "### Total fatalities by state"
   ]
  },
  {
   "cell_type": "code",
   "execution_count": null,
   "metadata": {},
   "outputs": [],
   "source": [
    "df_fatality_state = fatality('STATE').sort_values(\n",
    "    'DEATHS_TOTAL', ascending=False)"
   ]
  },
  {
   "cell_type": "code",
   "execution_count": null,
   "metadata": {},
   "outputs": [],
   "source": [
    "df_fatality_state.head()"
   ]
  },
  {
   "cell_type": "code",
   "execution_count": null,
   "metadata": {},
   "outputs": [],
   "source": [
    "fig, axs = plt.subplots(figsize=(15, 7))\n",
    "df_fatality_state['DEATHS_TOTAL'].plot(kind='bar')\n",
    "axs.set_title('Total Fatalities')\n",
    "plt.tight_layout()"
   ]
  },
  {
   "cell_type": "markdown",
   "metadata": {},
   "source": [
    "### Total fatalities by year"
   ]
  },
  {
   "cell_type": "code",
   "execution_count": null,
   "metadata": {},
   "outputs": [],
   "source": [
    "df_fatality_year = fatality('YEAR').sort_values(\n",
    "    'DEATHS_TOTAL', ascending=False)"
   ]
  },
  {
   "cell_type": "code",
   "execution_count": null,
   "metadata": {},
   "outputs": [],
   "source": [
    "df_fatality_year.head()"
   ]
  },
  {
   "cell_type": "code",
   "execution_count": null,
   "metadata": {},
   "outputs": [],
   "source": [
    "df_fatality_year['DEATHS_TOTAL'] \\\n",
    "    .plot(kind='bar', title='Total Fatalities')"
   ]
  },
  {
   "cell_type": "markdown",
   "metadata": {},
   "source": [
    "# Property Damage"
   ]
  },
  {
   "cell_type": "code",
   "execution_count": null,
   "metadata": {},
   "outputs": [],
   "source": [
    "df_damage = df[['EVENT_ID', 'STATE', 'EVENT_TYPE',\n",
    "                'YEAR', 'MONTH_NAME', 'DAMAGE_PROPERTY']]"
   ]
  },
  {
   "cell_type": "code",
   "execution_count": null,
   "metadata": {},
   "outputs": [],
   "source": [
    "df_damage.count()"
   ]
  },
  {
   "cell_type": "code",
   "execution_count": null,
   "metadata": {
    "scrolled": true
   },
   "outputs": [],
   "source": [
    "# percentage of missing values for DAMAGE_PROPERTY\n",
    "(626677-513677) / 626777 * 100"
   ]
  },
  {
   "cell_type": "code",
   "execution_count": null,
   "metadata": {},
   "outputs": [],
   "source": [
    "# check the number of unique EVENT_ID\n",
    "df_damage['EVENT_ID'].nunique()"
   ]
  },
  {
   "cell_type": "code",
   "execution_count": null,
   "metadata": {},
   "outputs": [],
   "source": [
    "# check for yearly missing values for DAMAGE_PROPERTY\n",
    "df_damage.groupby('YEAR').count()"
   ]
  },
  {
   "cell_type": "code",
   "execution_count": null,
   "metadata": {},
   "outputs": [],
   "source": [
    "# percentage of yearly missing values\n",
    "percent_missing = (1 - (df_damage.groupby('YEAR').count()\n",
    "                        ['DAMAGE_PROPERTY'] / df_damage.groupby('YEAR').count()['STATE'])) * 100"
   ]
  },
  {
   "cell_type": "code",
   "execution_count": null,
   "metadata": {},
   "outputs": [],
   "source": [
    "percent_missing"
   ]
  },
  {
   "cell_type": "code",
   "execution_count": null,
   "metadata": {},
   "outputs": [],
   "source": [
    "percent_missing.describe()"
   ]
  },
  {
   "cell_type": "code",
   "execution_count": null,
   "metadata": {},
   "outputs": [],
   "source": [
    "def convert_billion(damage):\n",
    "    \"\"\" converts property damage(string) into property damage in billions(float) \"\"\"\n",
    "\n",
    "    dict_1 = {'K': 0.000001, 'M': 0.001, 'B': 1}\n",
    "\n",
    "    if str(damage)[-1] in ['K', 'M', 'B']:\n",
    "        damage = float(damage[:-1]) * dict_1[damage[-1]]\n",
    "\n",
    "    return float(damage)"
   ]
  },
  {
   "cell_type": "code",
   "execution_count": null,
   "metadata": {},
   "outputs": [],
   "source": [
    "df_damage_1 = df_damage.drop(['EVENT_ID'], axis=1)"
   ]
  },
  {
   "cell_type": "code",
   "execution_count": null,
   "metadata": {},
   "outputs": [],
   "source": [
    "df_damage_1['DAMAGE_PROPERTY_billion'] = df_damage_1['DAMAGE_PROPERTY'].apply(\n",
    "    convert_billion)"
   ]
  },
  {
   "cell_type": "code",
   "execution_count": null,
   "metadata": {},
   "outputs": [],
   "source": [
    "df_damage_1.head(20)"
   ]
  },
  {
   "cell_type": "code",
   "execution_count": null,
   "metadata": {},
   "outputs": [],
   "source": [
    "# find median DAMAGE_PROPERTY_billion for each storm type\n",
    "# returns a dictionary of medians\n",
    "storm_types = df_damage_1['EVENT_TYPE'].unique()\n",
    "\n",
    "medians = []\n",
    "for event in storm_types:\n",
    "    medians.append(df_damage_1[df_damage_1['EVENT_TYPE'] == event]\n",
    "                   ['DAMAGE_PROPERTY_billion'].median())\n",
    "\n",
    "dict_medians = dict(zip(storm_types, medians))"
   ]
  },
  {
   "cell_type": "code",
   "execution_count": null,
   "metadata": {},
   "outputs": [],
   "source": [
    "def impute_damage(cols):\n",
    "    \"\"\" returns imputed damage_property in billions\n",
    "        Arg: \n",
    "        cols = ['DAMAGE_PROPERTY_billion', 'EVENT_TYPE']\n",
    "        Return:\n",
    "        imputed 'DAMAGE_PROPERTY_billion'\n",
    "    \"\"\"\n",
    "    damage = cols[0]\n",
    "    event_type = cols[1]\n",
    "\n",
    "    if pd.isnull(damage):\n",
    "        return dict_medians[event_type]\n",
    "\n",
    "    else:\n",
    "        return damage"
   ]
  },
  {
   "cell_type": "code",
   "execution_count": null,
   "metadata": {},
   "outputs": [],
   "source": [
    "df_damage_1['DAMAGE_PROPERTY_billion'] = df_damage_1[[\n",
    "    'DAMAGE_PROPERTY_billion', 'EVENT_TYPE']].apply(impute_damage, axis=1)"
   ]
  },
  {
   "cell_type": "code",
   "execution_count": null,
   "metadata": {},
   "outputs": [],
   "source": [
    "df_damage_1.head(20)"
   ]
  },
  {
   "cell_type": "markdown",
   "metadata": {},
   "source": [
    "## Billion-dollar storm events"
   ]
  },
  {
   "cell_type": "code",
   "execution_count": null,
   "metadata": {},
   "outputs": [],
   "source": [
    "df_damage_billion = df_damage_1[df_damage_1['DAMAGE_PROPERTY_billion'] >= 1]\n",
    "df_damage_billion.sort_values('DAMAGE_PROPERTY_billion', ascending=False)"
   ]
  },
  {
   "cell_type": "code",
   "execution_count": null,
   "metadata": {},
   "outputs": [],
   "source": [
    "df_damage_billion['EVENT_TYPE'].value_counts()"
   ]
  },
  {
   "cell_type": "code",
   "execution_count": null,
   "metadata": {},
   "outputs": [],
   "source": [
    "fig, axs = plt.subplots(figsize=(12, 5))\n",
    "sns.countplot(x='EVENT_TYPE', data=df_damage_billion)\n",
    "axs.set_title('Billion-dollar storm events')"
   ]
  },
  {
   "cell_type": "code",
   "execution_count": null,
   "metadata": {},
   "outputs": [],
   "source": [
    "# check if coastal floods have different EVENT_ID's\n",
    "\n",
    "df_damage_billion_test = df_damage_1[(df_damage_1['DAMAGE_PROPERTY_billion'] >= 1) &\n",
    "                                     (df_damage_1['EVENT_TYPE'] == 'Coastal Flood')]\n",
    "df_damage_billion_test"
   ]
  },
  {
   "cell_type": "code",
   "execution_count": null,
   "metadata": {},
   "outputs": [],
   "source": [
    "print(\"There are {} storm events that caused 1 billion or more in property damage.\"\n",
    "      .format(df_damage_billion.shape[0]))"
   ]
  },
  {
   "cell_type": "code",
   "execution_count": null,
   "metadata": {},
   "outputs": [],
   "source": [
    "df_damage_billion['DAMAGE_PROPERTY_billion'].sum()"
   ]
  },
  {
   "cell_type": "code",
   "execution_count": null,
   "metadata": {},
   "outputs": [],
   "source": [
    "print(\"The total property damage by billion-dollar storm events is $115.75 billion.\")"
   ]
  },
  {
   "cell_type": "markdown",
   "metadata": {},
   "source": [
    "## Property damage by event type\n",
    "\n",
    "#### Which storm events caused the most property damage?"
   ]
  },
  {
   "cell_type": "code",
   "execution_count": null,
   "metadata": {},
   "outputs": [],
   "source": [
    "df_damage_event = pd.DataFrame(df_damage_1.groupby('EVENT_TYPE')\n",
    "                               .sum()['DAMAGE_PROPERTY_billion']\n",
    "                               .sort_values(ascending=False))"
   ]
  },
  {
   "cell_type": "code",
   "execution_count": null,
   "metadata": {},
   "outputs": [],
   "source": [
    "df_damage_event['cumpercentage'] = df_damage_event['DAMAGE_PROPERTY_billion'].cumsum(\n",
    ") / df_damage_event['DAMAGE_PROPERTY_billion'].sum() * 100"
   ]
  },
  {
   "cell_type": "code",
   "execution_count": null,
   "metadata": {},
   "outputs": [],
   "source": [
    "df_damage_event[:10]"
   ]
  },
  {
   "cell_type": "code",
   "execution_count": null,
   "metadata": {},
   "outputs": [],
   "source": [
    "# create and save total_fatalities bar plot\n",
    "\n",
    "# plot damage_property\n",
    "fig, axs = plt.subplots(figsize=(15, 10))\n",
    "\n",
    "df_damage_event['DAMAGE_PROPERTY_billion'][:25].plot(kind='bar')\n",
    "axs.set_title('Damage_property in $ billions', fontsize=24)\n",
    "axs.set_xlabel('', fontsize=16)\n",
    "plt.xticks(fontsize=16)\n",
    "plt.yticks(fontsize=16)\n",
    "plt.tight_layout()\n",
    "\n",
    "# create twin axes\n",
    "axs2 = axs.twinx()\n",
    "axs2.yaxis.set_major_formatter(PercentFormatter())\n",
    "\n",
    "# plot cumulative percentage\n",
    "axs2.plot(df_damage_event.index, df_damage_event['cumpercentage'],\n",
    "          color=\"C1\", marker=\"D\", ms=7)\n",
    "plt.xticks(fontsize=16)\n",
    "plt.yticks(fontsize=16)\n",
    "plt.tight_layout()\n",
    "\n",
    "fig.savefig('damage_property.png')"
   ]
  },
  {
   "cell_type": "code",
   "execution_count": null,
   "metadata": {},
   "outputs": [],
   "source": [
    "# top 5 damage events\n",
    "top5_damage = ['Flash Flood', 'Wildfire', 'Flood', 'Tornado', 'Coastal Flood']"
   ]
  },
  {
   "cell_type": "code",
   "execution_count": null,
   "metadata": {},
   "outputs": [],
   "source": [
    "# total property damage in millions\n",
    "df_damage_event.sum()"
   ]
  },
  {
   "cell_type": "code",
   "execution_count": null,
   "metadata": {},
   "outputs": [],
   "source": [
    "# property damage by the top 5 events\n",
    "df_damage_event[:5].sum()"
   ]
  },
  {
   "cell_type": "code",
   "execution_count": null,
   "metadata": {},
   "outputs": [],
   "source": [
    "163.77893544000102/217.12280303000188"
   ]
  },
  {
   "cell_type": "code",
   "execution_count": null,
   "metadata": {},
   "outputs": [],
   "source": [
    "print(\"75.4% of property damage was caused by top 5 strom events.\")"
   ]
  },
  {
   "cell_type": "markdown",
   "metadata": {},
   "source": [
    "## Top 5 property damage by year\n",
    "\n",
    "#### What are the yearly property damages caused by the top 5 storm event types?"
   ]
  },
  {
   "cell_type": "code",
   "execution_count": null,
   "metadata": {},
   "outputs": [],
   "source": [
    "# yearly distribution of top 5 property damage\n",
    "\n",
    "df_yearly_damage = df_damage_1[df_damage_1['EVENT_TYPE'] == 'Flash Flood']\\\n",
    "    .groupby('YEAR')\\\n",
    "    .sum()['DAMAGE_PROPERTY_billion']\n",
    "\n",
    "for event in top5_damage[1:]:\n",
    "    df_yearly_temp = df_damage_1[df_damage_1['EVENT_TYPE'] == event]\\\n",
    "        .groupby('YEAR')\\\n",
    "        .sum()['DAMAGE_PROPERTY_billion']\n",
    "    df_yearly_damage = pd.concat([df_yearly_damage, df_yearly_temp], axis=1)\n",
    "\n",
    "df_yearly_damage.columns = top5_damage  # rename the columns"
   ]
  },
  {
   "cell_type": "code",
   "execution_count": null,
   "metadata": {},
   "outputs": [],
   "source": [
    "df_yearly_damage"
   ]
  },
  {
   "cell_type": "code",
   "execution_count": null,
   "metadata": {},
   "outputs": [],
   "source": [
    "df_yearly_damage.describe().transpose()"
   ]
  },
  {
   "cell_type": "code",
   "execution_count": null,
   "metadata": {},
   "outputs": [],
   "source": [
    "fig, axs = plt.subplots(figsize=(8, 5))\n",
    "fig = sns.boxplot(data=df_yearly_damage)\n",
    "axs.set_title('Property damage in $billions', fontsize=16)\n",
    "plt.xticks(fontsize=12)\n",
    "plt.yticks(fontsize=12)\n",
    "fig.figure.savefig('property_boxplt.png')"
   ]
  },
  {
   "cell_type": "code",
   "execution_count": null,
   "metadata": {
    "scrolled": false
   },
   "outputs": [],
   "source": [
    "fig, axs = plt.subplots(figsize=(10, 5))\n",
    "df_yearly_damage.plot(kind='bar',\n",
    "                      stacked=True,\n",
    "                      ax=axs)\n",
    "axs.set_title(\n",
    "    'Property damage in $billions by top 5 strom events', fontsize=16)\n",
    "axs.set_xlabel('')\n",
    "# axs.yaxis.grid(True)\n",
    "plt.xticks(fontsize=14)\n",
    "plt.yticks(fontsize=14)\n",
    "plt.tight_layout()\n",
    "fig.savefig('top5_damage.png')"
   ]
  }
 ],
 "metadata": {
  "kernelspec": {
   "display_name": "Python 3",
   "language": "python",
   "name": "python3"
  },
  "language_info": {
   "codemirror_mode": {
    "name": "ipython",
    "version": 3
   },
   "file_extension": ".py",
   "mimetype": "text/x-python",
   "name": "python",
   "nbconvert_exporter": "python",
   "pygments_lexer": "ipython3",
   "version": "3.7.4"
  }
 },
 "nbformat": 4,
 "nbformat_minor": 2
}

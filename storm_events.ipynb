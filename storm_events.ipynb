{
 "cells": [
  {
   "cell_type": "code",
   "execution_count": 1,
   "metadata": {},
   "outputs": [],
   "source": [
    "import numpy as np\n",
    "import pandas as pd\n",
    "import seaborn as sns\n",
    "import matplotlib.pyplot as plt\n",
    "\n",
    "%matplotlib inline"
   ]
  },
  {
   "cell_type": "markdown",
   "metadata": {},
   "source": [
    "### Get Strom Events Data from 2010 to 2019 from National Centers for Environmental Information (NCEI)"
   ]
  },
  {
   "cell_type": "markdown",
   "metadata": {},
   "source": [
    "!wget https://www1.ncdc.noaa.gov/pub/data/swdi/stormevents/csvfiles/StormEvents_details-ftp_v1.0_d2010_c20191116.csv.gz\n",
    "!mv StormEvents_details-ftp_v1.0_d2010_c20191116.csv.gz StormEvents_2010.csv.gz\n",
    "\n",
    "!wget https://www1.ncdc.noaa.gov/pub/data/swdi/stormevents/csvfiles/StormEvents_details-ftp_v1.0_d2011_c20180718.csv.gz\n",
    "!mv StormEvents_details-ftp_v1.0_d2011_c20180718.csv.gz StormEvents_2011.csv.gz\n",
    "\n",
    "!wget https://www1.ncdc.noaa.gov/pub/data/swdi/stormevents/csvfiles/StormEvents_details-ftp_v1.0_d2012_c20200317.csv.gz\n",
    "!mv StormEvents_details-ftp_v1.0_d2012_c20200317.csv.gz StormEvents_2012.csv.gz\n",
    "\n",
    "!wget https://www1.ncdc.noaa.gov/pub/data/swdi/stormevents/csvfiles/StormEvents_details-ftp_v1.0_d2013_c20170519.csv.gz\n",
    "!mv StormEvents_details-ftp_v1.0_d2013_c20170519.csv.gz StormEvents_2013.csv.gz\n",
    "\n",
    "!wget https://www1.ncdc.noaa.gov/pub/data/swdi/stormevents/csvfiles/StormEvents_details-ftp_v1.0_d2014_c20191116.csv.gz\n",
    "!mv StormEvents_details-ftp_v1.0_d2014_c20191116.csv.gz StormEvents_2014.csv.gz\n",
    "\n",
    "!wget https://www1.ncdc.noaa.gov/pub/data/swdi/stormevents/csvfiles/StormEvents_details-ftp_v1.0_d2015_c20191116.csv.gz\n",
    "!mv StormEvents_details-ftp_v1.0_d2015_c20191116.csv.gz StormEvents_2015.csv.gz\n",
    "    \n",
    "!wget https://www1.ncdc.noaa.gov/pub/data/swdi/stormevents/csvfiles/StormEvents_details-ftp_v1.0_d2016_c20190817.csv.gz    \n",
    "!mv StormEvents_details-ftp_v1.0_d2016_c20190817.csv.gz StormEvents_2016.csv.gz \n",
    "\n",
    "!wget https://www1.ncdc.noaa.gov/pub/data/swdi/stormevents/csvfiles/StormEvents_details-ftp_v1.0_d2017_c20200121.csv.gz\n",
    "!mv StormEvents_details-ftp_v1.0_d2017_c20200121.csv.gz StormEvents_2017.csv.gz  \n",
    "\n",
    "!wget https://www1.ncdc.noaa.gov/pub/data/swdi/stormevents/csvfiles/StormEvents_details-ftp_v1.0_d2018_c20200317.csv.gz\n",
    "!mv StormEvents_details-ftp_v1.0_d2018_c20200317.csv.gz StormEvents_2018.csv.gz\n",
    "\n",
    "!wget https://www1.ncdc.noaa.gov/pub/data/swdi/stormevents/csvfiles/StormEvents_details-ftp_v1.0_d2019_c20200317.csv.gz\n",
    "!mv StormEvents_details-ftp_v1.0_d2019_c20200317.csv.gz StormEvents_2019.csv.gz       \n"
   ]
  },
  {
   "cell_type": "code",
   "execution_count": 2,
   "metadata": {},
   "outputs": [],
   "source": [
    "# columns of interest from the yearly Storm Events Datasets\n",
    "\n",
    "selected_columns = ['STATE', 'STATE_FIPS','YEAR', 'MONTH_NAME',\n",
    "                    'EVENT_TYPE', 'CZ_TYPE', 'CZ_FIPS', 'CZ_NAME',\n",
    "                    'WFO', 'BEGIN_DATE_TIME', 'END_DATE_TIME',\n",
    "                    'INJURIES_DIRECT', 'INJURIES_INDIRECT', \n",
    "                    'DEATHS_DIRECT','DEATHS_INDIRECT', \n",
    "                    'DAMAGE_PROPERTY', 'DAMAGE_CROPS', 'SOURCE',\n",
    "                    'MAGNITUDE', 'MAGNITUDE_TYPE', 'FLOOD_CAUSE',\n",
    "                    'TOR_F_SCALE','TOR_LENGTH', 'TOR_WIDTH', \n",
    "                    'TOR_OTHER_WFO', 'TOR_OTHER_CZ_STATE',\n",
    "                    'TOR_OTHER_CZ_FIPS', 'TOR_OTHER_CZ_NAME', \n",
    "                    'BEGIN_LOCATION', 'END_LOCATION',\n",
    "                    'BEGIN_RANGE', 'END_RANGE','BEGIN_AZIMUTH',\n",
    "                    'END_AZIMUTH','BEGIN_LAT',\n",
    "                    'BEGIN_LON', 'END_LAT', 'END_LON']"
   ]
  },
  {
   "cell_type": "code",
   "execution_count": 3,
   "metadata": {},
   "outputs": [],
   "source": [
    "# read and concatenate yearly Storm Events Datasets into a single data frame \n",
    "\n",
    "df = pd.read_csv('StormEvents_2010.csv.gz', compression = 'gzip')[selected_columns]\n",
    "\n",
    "for i in range(1,10):\n",
    "    df_temp = pd.read_csv('StormEvents_' + str(2010 + i) + '.csv.gz', compression = 'gzip')\n",
    "    df = pd.concat([df, df_temp[selected_columns]])\n",
    "   "
   ]
  },
  {
   "cell_type": "code",
   "execution_count": 4,
   "metadata": {},
   "outputs": [
    {
     "data": {
      "text/plain": [
       "(626677, 38)"
      ]
     },
     "execution_count": 4,
     "metadata": {},
     "output_type": "execute_result"
    }
   ],
   "source": [
    "df.shape"
   ]
  },
  {
   "cell_type": "code",
   "execution_count": 5,
   "metadata": {},
   "outputs": [
    {
     "data": {
      "text/html": [
       "<div>\n",
       "<style scoped>\n",
       "    .dataframe tbody tr th:only-of-type {\n",
       "        vertical-align: middle;\n",
       "    }\n",
       "\n",
       "    .dataframe tbody tr th {\n",
       "        vertical-align: top;\n",
       "    }\n",
       "\n",
       "    .dataframe thead th {\n",
       "        text-align: right;\n",
       "    }\n",
       "</style>\n",
       "<table border=\"1\" class=\"dataframe\">\n",
       "  <thead>\n",
       "    <tr style=\"text-align: right;\">\n",
       "      <th></th>\n",
       "      <th>STATE</th>\n",
       "      <th>STATE_FIPS</th>\n",
       "      <th>YEAR</th>\n",
       "      <th>MONTH_NAME</th>\n",
       "      <th>EVENT_TYPE</th>\n",
       "      <th>CZ_TYPE</th>\n",
       "      <th>CZ_FIPS</th>\n",
       "      <th>CZ_NAME</th>\n",
       "      <th>WFO</th>\n",
       "      <th>BEGIN_DATE_TIME</th>\n",
       "      <th>...</th>\n",
       "      <th>BEGIN_LOCATION</th>\n",
       "      <th>END_LOCATION</th>\n",
       "      <th>BEGIN_RANGE</th>\n",
       "      <th>END_RANGE</th>\n",
       "      <th>BEGIN_AZIMUTH</th>\n",
       "      <th>END_AZIMUTH</th>\n",
       "      <th>BEGIN_LAT</th>\n",
       "      <th>BEGIN_LON</th>\n",
       "      <th>END_LAT</th>\n",
       "      <th>END_LON</th>\n",
       "    </tr>\n",
       "  </thead>\n",
       "  <tbody>\n",
       "    <tr>\n",
       "      <th>0</th>\n",
       "      <td>NEW HAMPSHIRE</td>\n",
       "      <td>33</td>\n",
       "      <td>2010</td>\n",
       "      <td>July</td>\n",
       "      <td>Heat</td>\n",
       "      <td>Z</td>\n",
       "      <td>12</td>\n",
       "      <td>EASTERN HILLSBOROUGH</td>\n",
       "      <td>BOX</td>\n",
       "      <td>07-JUL-10 12:51:00</td>\n",
       "      <td>...</td>\n",
       "      <td>NaN</td>\n",
       "      <td>NaN</td>\n",
       "      <td>NaN</td>\n",
       "      <td>NaN</td>\n",
       "      <td>NaN</td>\n",
       "      <td>NaN</td>\n",
       "      <td>NaN</td>\n",
       "      <td>NaN</td>\n",
       "      <td>NaN</td>\n",
       "      <td>NaN</td>\n",
       "    </tr>\n",
       "    <tr>\n",
       "      <th>1</th>\n",
       "      <td>NEW HAMPSHIRE</td>\n",
       "      <td>33</td>\n",
       "      <td>2010</td>\n",
       "      <td>January</td>\n",
       "      <td>Heavy Snow</td>\n",
       "      <td>Z</td>\n",
       "      <td>12</td>\n",
       "      <td>EASTERN HILLSBOROUGH</td>\n",
       "      <td>BOX</td>\n",
       "      <td>17-JAN-10 23:00:00</td>\n",
       "      <td>...</td>\n",
       "      <td>NaN</td>\n",
       "      <td>NaN</td>\n",
       "      <td>NaN</td>\n",
       "      <td>NaN</td>\n",
       "      <td>NaN</td>\n",
       "      <td>NaN</td>\n",
       "      <td>NaN</td>\n",
       "      <td>NaN</td>\n",
       "      <td>NaN</td>\n",
       "      <td>NaN</td>\n",
       "    </tr>\n",
       "    <tr>\n",
       "      <th>2</th>\n",
       "      <td>NEW HAMPSHIRE</td>\n",
       "      <td>33</td>\n",
       "      <td>2010</td>\n",
       "      <td>October</td>\n",
       "      <td>Strong Wind</td>\n",
       "      <td>Z</td>\n",
       "      <td>12</td>\n",
       "      <td>EASTERN HILLSBOROUGH</td>\n",
       "      <td>BOX</td>\n",
       "      <td>01-OCT-10 08:30:00</td>\n",
       "      <td>...</td>\n",
       "      <td>NaN</td>\n",
       "      <td>NaN</td>\n",
       "      <td>NaN</td>\n",
       "      <td>NaN</td>\n",
       "      <td>NaN</td>\n",
       "      <td>NaN</td>\n",
       "      <td>NaN</td>\n",
       "      <td>NaN</td>\n",
       "      <td>NaN</td>\n",
       "      <td>NaN</td>\n",
       "    </tr>\n",
       "    <tr>\n",
       "      <th>3</th>\n",
       "      <td>NEW HAMPSHIRE</td>\n",
       "      <td>33</td>\n",
       "      <td>2010</td>\n",
       "      <td>July</td>\n",
       "      <td>Heat</td>\n",
       "      <td>Z</td>\n",
       "      <td>12</td>\n",
       "      <td>EASTERN HILLSBOROUGH</td>\n",
       "      <td>BOX</td>\n",
       "      <td>06-JUL-10 09:51:00</td>\n",
       "      <td>...</td>\n",
       "      <td>NaN</td>\n",
       "      <td>NaN</td>\n",
       "      <td>NaN</td>\n",
       "      <td>NaN</td>\n",
       "      <td>NaN</td>\n",
       "      <td>NaN</td>\n",
       "      <td>NaN</td>\n",
       "      <td>NaN</td>\n",
       "      <td>NaN</td>\n",
       "      <td>NaN</td>\n",
       "    </tr>\n",
       "    <tr>\n",
       "      <th>4</th>\n",
       "      <td>NEW HAMPSHIRE</td>\n",
       "      <td>33</td>\n",
       "      <td>2010</td>\n",
       "      <td>December</td>\n",
       "      <td>Winter Storm</td>\n",
       "      <td>Z</td>\n",
       "      <td>12</td>\n",
       "      <td>EASTERN HILLSBOROUGH</td>\n",
       "      <td>BOX</td>\n",
       "      <td>26-DEC-10 17:00:00</td>\n",
       "      <td>...</td>\n",
       "      <td>NaN</td>\n",
       "      <td>NaN</td>\n",
       "      <td>NaN</td>\n",
       "      <td>NaN</td>\n",
       "      <td>NaN</td>\n",
       "      <td>NaN</td>\n",
       "      <td>NaN</td>\n",
       "      <td>NaN</td>\n",
       "      <td>NaN</td>\n",
       "      <td>NaN</td>\n",
       "    </tr>\n",
       "  </tbody>\n",
       "</table>\n",
       "<p>5 rows × 38 columns</p>\n",
       "</div>"
      ],
      "text/plain": [
       "           STATE  STATE_FIPS  YEAR MONTH_NAME    EVENT_TYPE CZ_TYPE  CZ_FIPS  \\\n",
       "0  NEW HAMPSHIRE          33  2010       July          Heat       Z       12   \n",
       "1  NEW HAMPSHIRE          33  2010    January    Heavy Snow       Z       12   \n",
       "2  NEW HAMPSHIRE          33  2010    October   Strong Wind       Z       12   \n",
       "3  NEW HAMPSHIRE          33  2010       July          Heat       Z       12   \n",
       "4  NEW HAMPSHIRE          33  2010   December  Winter Storm       Z       12   \n",
       "\n",
       "                CZ_NAME  WFO     BEGIN_DATE_TIME  ... BEGIN_LOCATION  \\\n",
       "0  EASTERN HILLSBOROUGH  BOX  07-JUL-10 12:51:00  ...            NaN   \n",
       "1  EASTERN HILLSBOROUGH  BOX  17-JAN-10 23:00:00  ...            NaN   \n",
       "2  EASTERN HILLSBOROUGH  BOX  01-OCT-10 08:30:00  ...            NaN   \n",
       "3  EASTERN HILLSBOROUGH  BOX  06-JUL-10 09:51:00  ...            NaN   \n",
       "4  EASTERN HILLSBOROUGH  BOX  26-DEC-10 17:00:00  ...            NaN   \n",
       "\n",
       "   END_LOCATION  BEGIN_RANGE  END_RANGE  BEGIN_AZIMUTH END_AZIMUTH BEGIN_LAT  \\\n",
       "0           NaN          NaN        NaN            NaN         NaN       NaN   \n",
       "1           NaN          NaN        NaN            NaN         NaN       NaN   \n",
       "2           NaN          NaN        NaN            NaN         NaN       NaN   \n",
       "3           NaN          NaN        NaN            NaN         NaN       NaN   \n",
       "4           NaN          NaN        NaN            NaN         NaN       NaN   \n",
       "\n",
       "  BEGIN_LON  END_LAT END_LON  \n",
       "0       NaN      NaN     NaN  \n",
       "1       NaN      NaN     NaN  \n",
       "2       NaN      NaN     NaN  \n",
       "3       NaN      NaN     NaN  \n",
       "4       NaN      NaN     NaN  \n",
       "\n",
       "[5 rows x 38 columns]"
      ]
     },
     "execution_count": 5,
     "metadata": {},
     "output_type": "execute_result"
    }
   ],
   "source": [
    "df.head()"
   ]
  },
  {
   "cell_type": "code",
   "execution_count": 6,
   "metadata": {},
   "outputs": [
    {
     "name": "stdout",
     "output_type": "stream",
     "text": [
      "There are 56 storm event types.\n"
     ]
    }
   ],
   "source": [
    "# number of distinct event types\n",
    "print(\"There are {} storm event types.\".format(len(df['EVENT_TYPE'].unique())))"
   ]
  },
  {
   "cell_type": "markdown",
   "metadata": {},
   "source": [
    "## Event type"
   ]
  },
  {
   "cell_type": "code",
   "execution_count": 7,
   "metadata": {},
   "outputs": [
    {
     "data": {
      "text/plain": [
       "<matplotlib.axes._subplots.AxesSubplot at 0x107210e90>"
      ]
     },
     "execution_count": 7,
     "metadata": {},
     "output_type": "execute_result"
    },
    {
     "data": {
      "image/png": "[encoded data removed]",
      "text/plain": [
       "<Figure size 432x288 with 1 Axes>"
      ]
     },
     "metadata": {
      "needs_background": "light"
     },
     "output_type": "display_data"
    }
   ],
   "source": [
    "df['EVENT_TYPE'].value_counts()[0:10]\\\n",
    ".plot(kind = 'bar', title ='Top 10 Strom Events from 2010 to 2019')"
   ]
  },
  {
   "cell_type": "markdown",
   "metadata": {},
   "source": [
    "## Fatalities"
   ]
  },
  {
   "cell_type": "code",
   "execution_count": 8,
   "metadata": {},
   "outputs": [],
   "source": [
    "def fatality(col_name):\n",
    "    \"\"\" Returns direct, indirect, and total fatalities grouped by col_name. \"\"\"\n",
    "    \n",
    "    df_fatality = df.groupby(col_name).sum()[['DEATHS_DIRECT','DEATHS_INDIRECT']]\n",
    "    df_fatality['DEATHS_TOTAL'] = df_fatality['DEATHS_DIRECT'] \\\n",
    "                                 + df_fatality['DEATHS_INDIRECT']\n",
    "    \n",
    "    return df_fatality    "
   ]
  },
  {
   "cell_type": "markdown",
   "metadata": {},
   "source": [
    "### Total fatalities by event type"
   ]
  },
  {
   "cell_type": "code",
   "execution_count": 9,
   "metadata": {},
   "outputs": [],
   "source": [
    "df_fatality_event = fatality('EVENT_TYPE').sort_values('DEATHS_TOTAL', ascending = False)"
   ]
  },
  {
   "cell_type": "code",
   "execution_count": 10,
   "metadata": {},
   "outputs": [
    {
     "data": {
      "text/html": [
       "<div>\n",
       "<style scoped>\n",
       "    .dataframe tbody tr th:only-of-type {\n",
       "        vertical-align: middle;\n",
       "    }\n",
       "\n",
       "    .dataframe tbody tr th {\n",
       "        vertical-align: top;\n",
       "    }\n",
       "\n",
       "    .dataframe thead th {\n",
       "        text-align: right;\n",
       "    }\n",
       "</style>\n",
       "<table border=\"1\" class=\"dataframe\">\n",
       "  <thead>\n",
       "    <tr style=\"text-align: right;\">\n",
       "      <th></th>\n",
       "      <th>DEATHS_DIRECT</th>\n",
       "      <th>DEATHS_INDIRECT</th>\n",
       "      <th>DEATHS_TOTAL</th>\n",
       "    </tr>\n",
       "    <tr>\n",
       "      <th>EVENT_TYPE</th>\n",
       "      <th></th>\n",
       "      <th></th>\n",
       "      <th></th>\n",
       "    </tr>\n",
       "  </thead>\n",
       "  <tbody>\n",
       "    <tr>\n",
       "      <th>Tornado</th>\n",
       "      <td>908</td>\n",
       "      <td>26</td>\n",
       "      <td>934</td>\n",
       "    </tr>\n",
       "    <tr>\n",
       "      <th>Excessive Heat</th>\n",
       "      <td>635</td>\n",
       "      <td>129</td>\n",
       "      <td>764</td>\n",
       "    </tr>\n",
       "    <tr>\n",
       "      <th>Heat</th>\n",
       "      <td>552</td>\n",
       "      <td>194</td>\n",
       "      <td>746</td>\n",
       "    </tr>\n",
       "    <tr>\n",
       "      <th>Flash Flood</th>\n",
       "      <td>691</td>\n",
       "      <td>41</td>\n",
       "      <td>732</td>\n",
       "    </tr>\n",
       "    <tr>\n",
       "      <th>Winter Weather</th>\n",
       "      <td>56</td>\n",
       "      <td>498</td>\n",
       "      <td>554</td>\n",
       "    </tr>\n",
       "  </tbody>\n",
       "</table>\n",
       "</div>"
      ],
      "text/plain": [
       "                DEATHS_DIRECT  DEATHS_INDIRECT  DEATHS_TOTAL\n",
       "EVENT_TYPE                                                  \n",
       "Tornado                   908               26           934\n",
       "Excessive Heat            635              129           764\n",
       "Heat                      552              194           746\n",
       "Flash Flood               691               41           732\n",
       "Winter Weather             56              498           554"
      ]
     },
     "execution_count": 10,
     "metadata": {},
     "output_type": "execute_result"
    }
   ],
   "source": [
    "df_fatality_event.head()"
   ]
  },
  {
   "cell_type": "code",
   "execution_count": 11,
   "metadata": {},
   "outputs": [
    {
     "data": {
      "text/plain": [
       "<matplotlib.axes._subplots.AxesSubplot at 0x1a259f3ed0>"
      ]
     },
     "execution_count": 11,
     "metadata": {},
     "output_type": "execute_result"
    },
    {
     "data": {
      "image/png": "[encoded data removed]",
      "text/plain": [
       "<Figure size 1080x504 with 1 Axes>"
      ]
     },
     "metadata": {
      "needs_background": "light"
     },
     "output_type": "display_data"
    }
   ],
   "source": [
    "df_fatality_event['DEATHS_TOTAL'] \\\n",
    ".plot(kind = 'bar', title = 'Total Fatalities', figsize = (15,7))"
   ]
  },
  {
   "cell_type": "markdown",
   "metadata": {},
   "source": [
    "### Total fatalities by state"
   ]
  },
  {
   "cell_type": "code",
   "execution_count": 12,
   "metadata": {},
   "outputs": [],
   "source": [
    "df_fatality_state = fatality('STATE').sort_values('DEATHS_TOTAL', ascending = False)"
   ]
  },
  {
   "cell_type": "code",
   "execution_count": 13,
   "metadata": {},
   "outputs": [
    {
     "data": {
      "text/html": [
       "<div>\n",
       "<style scoped>\n",
       "    .dataframe tbody tr th:only-of-type {\n",
       "        vertical-align: middle;\n",
       "    }\n",
       "\n",
       "    .dataframe tbody tr th {\n",
       "        vertical-align: top;\n",
       "    }\n",
       "\n",
       "    .dataframe thead th {\n",
       "        text-align: right;\n",
       "    }\n",
       "</style>\n",
       "<table border=\"1\" class=\"dataframe\">\n",
       "  <thead>\n",
       "    <tr style=\"text-align: right;\">\n",
       "      <th></th>\n",
       "      <th>DEATHS_DIRECT</th>\n",
       "      <th>DEATHS_INDIRECT</th>\n",
       "      <th>DEATHS_TOTAL</th>\n",
       "    </tr>\n",
       "    <tr>\n",
       "      <th>STATE</th>\n",
       "      <th></th>\n",
       "      <th></th>\n",
       "      <th></th>\n",
       "    </tr>\n",
       "  </thead>\n",
       "  <tbody>\n",
       "    <tr>\n",
       "      <th>TEXAS</th>\n",
       "      <td>467</td>\n",
       "      <td>178</td>\n",
       "      <td>645</td>\n",
       "    </tr>\n",
       "    <tr>\n",
       "      <th>NEVADA</th>\n",
       "      <td>359</td>\n",
       "      <td>173</td>\n",
       "      <td>532</td>\n",
       "    </tr>\n",
       "    <tr>\n",
       "      <th>CALIFORNIA</th>\n",
       "      <td>342</td>\n",
       "      <td>92</td>\n",
       "      <td>434</td>\n",
       "    </tr>\n",
       "    <tr>\n",
       "      <th>FLORIDA</th>\n",
       "      <td>281</td>\n",
       "      <td>140</td>\n",
       "      <td>421</td>\n",
       "    </tr>\n",
       "    <tr>\n",
       "      <th>ALABAMA</th>\n",
       "      <td>359</td>\n",
       "      <td>36</td>\n",
       "      <td>395</td>\n",
       "    </tr>\n",
       "  </tbody>\n",
       "</table>\n",
       "</div>"
      ],
      "text/plain": [
       "            DEATHS_DIRECT  DEATHS_INDIRECT  DEATHS_TOTAL\n",
       "STATE                                                   \n",
       "TEXAS                 467              178           645\n",
       "NEVADA                359              173           532\n",
       "CALIFORNIA            342               92           434\n",
       "FLORIDA               281              140           421\n",
       "ALABAMA               359               36           395"
      ]
     },
     "execution_count": 13,
     "metadata": {},
     "output_type": "execute_result"
    }
   ],
   "source": [
    "df_fatality_state.head()"
   ]
  },
  {
   "cell_type": "code",
   "execution_count": 14,
   "metadata": {},
   "outputs": [
    {
     "data": {
      "text/plain": [
       "<matplotlib.axes._subplots.AxesSubplot at 0x1a2293c8d0>"
      ]
     },
     "execution_count": 14,
     "metadata": {},
     "output_type": "execute_result"
    },
    {
     "data": {
      "image/png": "[encoded data removed]",
      "text/plain": [
       "<Figure size 1080x504 with 1 Axes>"
      ]
     },
     "metadata": {
      "needs_background": "light"
     },
     "output_type": "display_data"
    }
   ],
   "source": [
    "df_fatality_state['DEATHS_TOTAL'] \\\n",
    ".plot(kind = 'bar', title = 'Total Fatalities', figsize = (15,7))"
   ]
  },
  {
   "cell_type": "markdown",
   "metadata": {},
   "source": [
    "### Total fatalities by year"
   ]
  },
  {
   "cell_type": "code",
   "execution_count": 15,
   "metadata": {},
   "outputs": [],
   "source": [
    "df_fatality_year = fatality('YEAR').sort_values('DEATHS_TOTAL', ascending = False)"
   ]
  },
  {
   "cell_type": "code",
   "execution_count": 16,
   "metadata": {},
   "outputs": [
    {
     "data": {
      "text/html": [
       "<div>\n",
       "<style scoped>\n",
       "    .dataframe tbody tr th:only-of-type {\n",
       "        vertical-align: middle;\n",
       "    }\n",
       "\n",
       "    .dataframe tbody tr th {\n",
       "        vertical-align: top;\n",
       "    }\n",
       "\n",
       "    .dataframe thead th {\n",
       "        text-align: right;\n",
       "    }\n",
       "</style>\n",
       "<table border=\"1\" class=\"dataframe\">\n",
       "  <thead>\n",
       "    <tr style=\"text-align: right;\">\n",
       "      <th></th>\n",
       "      <th>DEATHS_DIRECT</th>\n",
       "      <th>DEATHS_INDIRECT</th>\n",
       "      <th>DEATHS_TOTAL</th>\n",
       "    </tr>\n",
       "    <tr>\n",
       "      <th>YEAR</th>\n",
       "      <th></th>\n",
       "      <th></th>\n",
       "      <th></th>\n",
       "    </tr>\n",
       "  </thead>\n",
       "  <tbody>\n",
       "    <tr>\n",
       "      <th>2011</th>\n",
       "      <td>1096</td>\n",
       "      <td>240</td>\n",
       "      <td>1336</td>\n",
       "    </tr>\n",
       "    <tr>\n",
       "      <th>2018</th>\n",
       "      <td>728</td>\n",
       "      <td>315</td>\n",
       "      <td>1043</td>\n",
       "    </tr>\n",
       "    <tr>\n",
       "      <th>2017</th>\n",
       "      <td>491</td>\n",
       "      <td>230</td>\n",
       "      <td>721</td>\n",
       "    </tr>\n",
       "    <tr>\n",
       "      <th>2012</th>\n",
       "      <td>537</td>\n",
       "      <td>170</td>\n",
       "      <td>707</td>\n",
       "    </tr>\n",
       "    <tr>\n",
       "      <th>2015</th>\n",
       "      <td>536</td>\n",
       "      <td>165</td>\n",
       "      <td>701</td>\n",
       "    </tr>\n",
       "  </tbody>\n",
       "</table>\n",
       "</div>"
      ],
      "text/plain": [
       "      DEATHS_DIRECT  DEATHS_INDIRECT  DEATHS_TOTAL\n",
       "YEAR                                              \n",
       "2011           1096              240          1336\n",
       "2018            728              315          1043\n",
       "2017            491              230           721\n",
       "2012            537              170           707\n",
       "2015            536              165           701"
      ]
     },
     "execution_count": 16,
     "metadata": {},
     "output_type": "execute_result"
    }
   ],
   "source": [
    "df_fatality_year.head()"
   ]
  },
  {
   "cell_type": "code",
   "execution_count": 17,
   "metadata": {},
   "outputs": [
    {
     "data": {
      "text/plain": [
       "<matplotlib.axes._subplots.AxesSubplot at 0x1a1c0acf90>"
      ]
     },
     "execution_count": 17,
     "metadata": {},
     "output_type": "execute_result"
    },
    {
     "data": {
      "image/png": "[encoded data removed]",
      "text/plain": [
       "<Figure size 1080x504 with 1 Axes>"
      ]
     },
     "metadata": {
      "needs_background": "light"
     },
     "output_type": "display_data"
    }
   ],
   "source": [
    "df_fatality_year['DEATHS_TOTAL'] \\\n",
    ".plot(kind = 'bar', title = 'Total Fatalities', figsize = (15,7))"
   ]
  },
  {
   "cell_type": "markdown",
   "metadata": {},
   "source": [
    "## Direct fatalities by event type"
   ]
  },
  {
   "cell_type": "code",
   "execution_count": 18,
   "metadata": {},
   "outputs": [],
   "source": [
    "df_fatalityD_event = fatality('EVENT_TYPE').sort_values('DEATHS_DIRECT', ascending = False)"
   ]
  },
  {
   "cell_type": "code",
   "execution_count": 19,
   "metadata": {},
   "outputs": [
    {
     "data": {
      "text/html": [
       "<div>\n",
       "<style scoped>\n",
       "    .dataframe tbody tr th:only-of-type {\n",
       "        vertical-align: middle;\n",
       "    }\n",
       "\n",
       "    .dataframe tbody tr th {\n",
       "        vertical-align: top;\n",
       "    }\n",
       "\n",
       "    .dataframe thead th {\n",
       "        text-align: right;\n",
       "    }\n",
       "</style>\n",
       "<table border=\"1\" class=\"dataframe\">\n",
       "  <thead>\n",
       "    <tr style=\"text-align: right;\">\n",
       "      <th></th>\n",
       "      <th>DEATHS_DIRECT</th>\n",
       "      <th>DEATHS_INDIRECT</th>\n",
       "      <th>DEATHS_TOTAL</th>\n",
       "    </tr>\n",
       "    <tr>\n",
       "      <th>EVENT_TYPE</th>\n",
       "      <th></th>\n",
       "      <th></th>\n",
       "      <th></th>\n",
       "    </tr>\n",
       "  </thead>\n",
       "  <tbody>\n",
       "    <tr>\n",
       "      <th>Tornado</th>\n",
       "      <td>908</td>\n",
       "      <td>26</td>\n",
       "      <td>934</td>\n",
       "    </tr>\n",
       "    <tr>\n",
       "      <th>Flash Flood</th>\n",
       "      <td>691</td>\n",
       "      <td>41</td>\n",
       "      <td>732</td>\n",
       "    </tr>\n",
       "    <tr>\n",
       "      <th>Excessive Heat</th>\n",
       "      <td>635</td>\n",
       "      <td>129</td>\n",
       "      <td>764</td>\n",
       "    </tr>\n",
       "    <tr>\n",
       "      <th>Heat</th>\n",
       "      <td>552</td>\n",
       "      <td>194</td>\n",
       "      <td>746</td>\n",
       "    </tr>\n",
       "    <tr>\n",
       "      <th>Rip Current</th>\n",
       "      <td>489</td>\n",
       "      <td>7</td>\n",
       "      <td>496</td>\n",
       "    </tr>\n",
       "  </tbody>\n",
       "</table>\n",
       "</div>"
      ],
      "text/plain": [
       "                DEATHS_DIRECT  DEATHS_INDIRECT  DEATHS_TOTAL\n",
       "EVENT_TYPE                                                  \n",
       "Tornado                   908               26           934\n",
       "Flash Flood               691               41           732\n",
       "Excessive Heat            635              129           764\n",
       "Heat                      552              194           746\n",
       "Rip Current               489                7           496"
      ]
     },
     "execution_count": 19,
     "metadata": {},
     "output_type": "execute_result"
    }
   ],
   "source": [
    "df_fatalityD_event.head()"
   ]
  },
  {
   "cell_type": "code",
   "execution_count": 20,
   "metadata": {},
   "outputs": [
    {
     "data": {
      "text/plain": [
       "<matplotlib.axes._subplots.AxesSubplot at 0x1a1c1ad110>"
      ]
     },
     "execution_count": 20,
     "metadata": {},
     "output_type": "execute_result"
    },
    {
     "data": {
      "image/png": "[encoded data removed]",
      "text/plain": [
       "<Figure size 1080x504 with 1 Axes>"
      ]
     },
     "metadata": {
      "needs_background": "light"
     },
     "output_type": "display_data"
    }
   ],
   "source": [
    "df_fatalityD_event['DEATHS_DIRECT'] \\\n",
    ".plot(kind = 'bar', title = 'Direct Fatalities', figsize = (15,7))"
   ]
  },
  {
   "cell_type": "code",
   "execution_count": 21,
   "metadata": {},
   "outputs": [],
   "source": [
    "top5_events = ['Tornado', 'Flash Flood', 'Excessive Heat', 'Heat', 'Rip Current']"
   ]
  },
  {
   "cell_type": "markdown",
   "metadata": {},
   "source": [
    "## Yearly direct fatalities by tornados"
   ]
  },
  {
   "cell_type": "code",
   "execution_count": 22,
   "metadata": {},
   "outputs": [
    {
     "name": "stdout",
     "output_type": "stream",
     "text": [
      "YEAR\n",
      "2010     45\n",
      "2011    553\n",
      "2012     69\n",
      "2013     55\n",
      "2014     47\n",
      "2015     36\n",
      "2016     18\n",
      "2017     35\n",
      "2018     10\n",
      "2019     40\n",
      "Name: DEATHS_DIRECT, dtype: int64\n"
     ]
    },
    {
     "data": {
      "text/plain": [
       "<matplotlib.axes._subplots.AxesSubplot at 0x1a1c9a9950>"
      ]
     },
     "execution_count": 22,
     "metadata": {},
     "output_type": "execute_result"
    },
    {
     "data": {
      "image/png": "[encoded data removed]",
      "text/plain": [
       "<Figure size 432x288 with 1 Axes>"
      ]
     },
     "metadata": {
      "needs_background": "light"
     },
     "output_type": "display_data"
    }
   ],
   "source": [
    "df_tornados = df[df['EVENT_TYPE'] == 'Tornado'].groupby('YEAR').sum()['DEATHS_DIRECT']\n",
    "print(df_tornados)\n",
    "df_tornados.plot(kind='bar', logy = False, title = 'Direct Fatalities by Tornados')"
   ]
  },
  {
   "cell_type": "markdown",
   "metadata": {},
   "source": [
    "## Top 5 direct fatalities by year"
   ]
  },
  {
   "cell_type": "code",
   "execution_count": 23,
   "metadata": {},
   "outputs": [],
   "source": [
    "df_yearly_deaths = df[df['EVENT_TYPE'] == 'Tornado'].groupby('YEAR').sum()['DEATHS_DIRECT']\n",
    "\n",
    "for event in top5_events[1:]:\n",
    "    df_yearly_temp = df[df['EVENT_TYPE'] == event].groupby('YEAR').sum()['DEATHS_DIRECT']\n",
    "    df_yearly_deaths = pd.concat([df_yearly_deaths, df_yearly_temp], axis=1)\n",
    "\n",
    "df_yearly_deaths.columns = top5_events # rename the columns"
   ]
  },
  {
   "cell_type": "code",
   "execution_count": 24,
   "metadata": {},
   "outputs": [
    {
     "data": {
      "text/html": [
       "<div>\n",
       "<style scoped>\n",
       "    .dataframe tbody tr th:only-of-type {\n",
       "        vertical-align: middle;\n",
       "    }\n",
       "\n",
       "    .dataframe tbody tr th {\n",
       "        vertical-align: top;\n",
       "    }\n",
       "\n",
       "    .dataframe thead th {\n",
       "        text-align: right;\n",
       "    }\n",
       "</style>\n",
       "<table border=\"1\" class=\"dataframe\">\n",
       "  <thead>\n",
       "    <tr style=\"text-align: right;\">\n",
       "      <th></th>\n",
       "      <th>Tornado</th>\n",
       "      <th>Flash Flood</th>\n",
       "      <th>Excessive Heat</th>\n",
       "      <th>Heat</th>\n",
       "      <th>Rip Current</th>\n",
       "    </tr>\n",
       "    <tr>\n",
       "      <th>YEAR</th>\n",
       "      <th></th>\n",
       "      <th></th>\n",
       "      <th></th>\n",
       "      <th></th>\n",
       "      <th></th>\n",
       "    </tr>\n",
       "  </thead>\n",
       "  <tbody>\n",
       "    <tr>\n",
       "      <th>2010</th>\n",
       "      <td>45</td>\n",
       "      <td>67</td>\n",
       "      <td>74</td>\n",
       "      <td>64</td>\n",
       "      <td>47</td>\n",
       "    </tr>\n",
       "    <tr>\n",
       "      <th>2011</th>\n",
       "      <td>553</td>\n",
       "      <td>69</td>\n",
       "      <td>127</td>\n",
       "      <td>79</td>\n",
       "      <td>30</td>\n",
       "    </tr>\n",
       "    <tr>\n",
       "      <th>2012</th>\n",
       "      <td>69</td>\n",
       "      <td>18</td>\n",
       "      <td>91</td>\n",
       "      <td>65</td>\n",
       "      <td>38</td>\n",
       "    </tr>\n",
       "    <tr>\n",
       "      <th>2013</th>\n",
       "      <td>55</td>\n",
       "      <td>60</td>\n",
       "      <td>50</td>\n",
       "      <td>42</td>\n",
       "      <td>53</td>\n",
       "    </tr>\n",
       "    <tr>\n",
       "      <th>2014</th>\n",
       "      <td>47</td>\n",
       "      <td>31</td>\n",
       "      <td>5</td>\n",
       "      <td>15</td>\n",
       "      <td>47</td>\n",
       "    </tr>\n",
       "    <tr>\n",
       "      <th>2015</th>\n",
       "      <td>36</td>\n",
       "      <td>142</td>\n",
       "      <td>12</td>\n",
       "      <td>33</td>\n",
       "      <td>46</td>\n",
       "    </tr>\n",
       "    <tr>\n",
       "      <th>2016</th>\n",
       "      <td>18</td>\n",
       "      <td>86</td>\n",
       "      <td>50</td>\n",
       "      <td>44</td>\n",
       "      <td>49</td>\n",
       "    </tr>\n",
       "    <tr>\n",
       "      <th>2017</th>\n",
       "      <td>35</td>\n",
       "      <td>123</td>\n",
       "      <td>54</td>\n",
       "      <td>53</td>\n",
       "      <td>63</td>\n",
       "    </tr>\n",
       "    <tr>\n",
       "      <th>2018</th>\n",
       "      <td>10</td>\n",
       "      <td>54</td>\n",
       "      <td>156</td>\n",
       "      <td>125</td>\n",
       "      <td>59</td>\n",
       "    </tr>\n",
       "    <tr>\n",
       "      <th>2019</th>\n",
       "      <td>40</td>\n",
       "      <td>41</td>\n",
       "      <td>16</td>\n",
       "      <td>32</td>\n",
       "      <td>57</td>\n",
       "    </tr>\n",
       "  </tbody>\n",
       "</table>\n",
       "</div>"
      ],
      "text/plain": [
       "      Tornado  Flash Flood  Excessive Heat  Heat  Rip Current\n",
       "YEAR                                                         \n",
       "2010       45           67              74    64           47\n",
       "2011      553           69             127    79           30\n",
       "2012       69           18              91    65           38\n",
       "2013       55           60              50    42           53\n",
       "2014       47           31               5    15           47\n",
       "2015       36          142              12    33           46\n",
       "2016       18           86              50    44           49\n",
       "2017       35          123              54    53           63\n",
       "2018       10           54             156   125           59\n",
       "2019       40           41              16    32           57"
      ]
     },
     "execution_count": 24,
     "metadata": {},
     "output_type": "execute_result"
    }
   ],
   "source": [
    "df_yearly_deaths"
   ]
  },
  {
   "cell_type": "code",
   "execution_count": 25,
   "metadata": {},
   "outputs": [
    {
     "data": {
      "text/html": [
       "<div>\n",
       "<style scoped>\n",
       "    .dataframe tbody tr th:only-of-type {\n",
       "        vertical-align: middle;\n",
       "    }\n",
       "\n",
       "    .dataframe tbody tr th {\n",
       "        vertical-align: top;\n",
       "    }\n",
       "\n",
       "    .dataframe thead th {\n",
       "        text-align: right;\n",
       "    }\n",
       "</style>\n",
       "<table border=\"1\" class=\"dataframe\">\n",
       "  <thead>\n",
       "    <tr style=\"text-align: right;\">\n",
       "      <th></th>\n",
       "      <th>count</th>\n",
       "      <th>mean</th>\n",
       "      <th>std</th>\n",
       "      <th>min</th>\n",
       "      <th>25%</th>\n",
       "      <th>50%</th>\n",
       "      <th>75%</th>\n",
       "      <th>max</th>\n",
       "    </tr>\n",
       "  </thead>\n",
       "  <tbody>\n",
       "    <tr>\n",
       "      <th>Tornado</th>\n",
       "      <td>10.0</td>\n",
       "      <td>90.8</td>\n",
       "      <td>163.274683</td>\n",
       "      <td>10.0</td>\n",
       "      <td>35.25</td>\n",
       "      <td>42.5</td>\n",
       "      <td>53.00</td>\n",
       "      <td>553.0</td>\n",
       "    </tr>\n",
       "    <tr>\n",
       "      <th>Flash Flood</th>\n",
       "      <td>10.0</td>\n",
       "      <td>69.1</td>\n",
       "      <td>38.977059</td>\n",
       "      <td>18.0</td>\n",
       "      <td>44.25</td>\n",
       "      <td>63.5</td>\n",
       "      <td>81.75</td>\n",
       "      <td>142.0</td>\n",
       "    </tr>\n",
       "    <tr>\n",
       "      <th>Excessive Heat</th>\n",
       "      <td>10.0</td>\n",
       "      <td>63.5</td>\n",
       "      <td>49.710830</td>\n",
       "      <td>5.0</td>\n",
       "      <td>24.50</td>\n",
       "      <td>52.0</td>\n",
       "      <td>86.75</td>\n",
       "      <td>156.0</td>\n",
       "    </tr>\n",
       "    <tr>\n",
       "      <th>Heat</th>\n",
       "      <td>10.0</td>\n",
       "      <td>55.2</td>\n",
       "      <td>30.846574</td>\n",
       "      <td>15.0</td>\n",
       "      <td>35.25</td>\n",
       "      <td>48.5</td>\n",
       "      <td>64.75</td>\n",
       "      <td>125.0</td>\n",
       "    </tr>\n",
       "    <tr>\n",
       "      <th>Rip Current</th>\n",
       "      <td>10.0</td>\n",
       "      <td>48.9</td>\n",
       "      <td>9.859570</td>\n",
       "      <td>30.0</td>\n",
       "      <td>46.25</td>\n",
       "      <td>48.0</td>\n",
       "      <td>56.00</td>\n",
       "      <td>63.0</td>\n",
       "    </tr>\n",
       "  </tbody>\n",
       "</table>\n",
       "</div>"
      ],
      "text/plain": [
       "                count  mean         std   min    25%   50%    75%    max\n",
       "Tornado          10.0  90.8  163.274683  10.0  35.25  42.5  53.00  553.0\n",
       "Flash Flood      10.0  69.1   38.977059  18.0  44.25  63.5  81.75  142.0\n",
       "Excessive Heat   10.0  63.5   49.710830   5.0  24.50  52.0  86.75  156.0\n",
       "Heat             10.0  55.2   30.846574  15.0  35.25  48.5  64.75  125.0\n",
       "Rip Current      10.0  48.9    9.859570  30.0  46.25  48.0  56.00   63.0"
      ]
     },
     "execution_count": 25,
     "metadata": {},
     "output_type": "execute_result"
    }
   ],
   "source": [
    "df_yearly_deaths.describe().transpose()"
   ]
  },
  {
   "cell_type": "code",
   "execution_count": 68,
   "metadata": {},
   "outputs": [
    {
     "data": {
      "text/plain": [
       "<matplotlib.axes._subplots.AxesSubplot at 0x1a2f6dced0>"
      ]
     },
     "execution_count": 68,
     "metadata": {},
     "output_type": "execute_result"
    },
    {
     "data": {
      "image/png": "[encoded data removed]",
      "text/plain": [
       "<Figure size 432x288 with 1 Axes>"
      ]
     },
     "metadata": {
      "needs_background": "light"
     },
     "output_type": "display_data"
    }
   ],
   "source": [
    "sns.boxplot(data = df_yearly_deaths)"
   ]
  },
  {
   "cell_type": "code",
   "execution_count": 72,
   "metadata": {},
   "outputs": [
    {
     "data": {
      "text/plain": [
       "<matplotlib.axes._subplots.AxesSubplot at 0x1a2fd8b4d0>"
      ]
     },
     "execution_count": 72,
     "metadata": {},
     "output_type": "execute_result"
    },
    {
     "data": {
      "image/png": "[encoded data removed]",
      "text/plain": [
       "<Figure size 720x360 with 1 Axes>"
      ]
     },
     "metadata": {
      "needs_background": "light"
     },
     "output_type": "display_data"
    }
   ],
   "source": [
    "df_yearly_deaths.plot(kind = 'bar',\n",
    "                      stacked = True,\n",
    "                      logy = False, title = 'Direct fatalities by top 5 strom events', \n",
    "                      figsize = (10,5))"
   ]
  },
  {
   "cell_type": "markdown",
   "metadata": {},
   "source": [
    "## Property Damage"
   ]
  },
  {
   "cell_type": "code",
   "execution_count": 27,
   "metadata": {},
   "outputs": [],
   "source": [
    "df_damage = df[['STATE','EVENT_TYPE','YEAR','MONTH_NAME','DAMAGE_PROPERTY']].dropna()"
   ]
  },
  {
   "cell_type": "code",
   "execution_count": 28,
   "metadata": {},
   "outputs": [
    {
     "data": {
      "text/plain": [
       "(513677, 5)"
      ]
     },
     "execution_count": 28,
     "metadata": {},
     "output_type": "execute_result"
    }
   ],
   "source": [
    "df_damage.shape"
   ]
  },
  {
   "cell_type": "code",
   "execution_count": 29,
   "metadata": {},
   "outputs": [
    {
     "data": {
      "text/html": [
       "<div>\n",
       "<style scoped>\n",
       "    .dataframe tbody tr th:only-of-type {\n",
       "        vertical-align: middle;\n",
       "    }\n",
       "\n",
       "    .dataframe tbody tr th {\n",
       "        vertical-align: top;\n",
       "    }\n",
       "\n",
       "    .dataframe thead th {\n",
       "        text-align: right;\n",
       "    }\n",
       "</style>\n",
       "<table border=\"1\" class=\"dataframe\">\n",
       "  <thead>\n",
       "    <tr style=\"text-align: right;\">\n",
       "      <th></th>\n",
       "      <th>STATE</th>\n",
       "      <th>EVENT_TYPE</th>\n",
       "      <th>YEAR</th>\n",
       "      <th>MONTH_NAME</th>\n",
       "      <th>DAMAGE_PROPERTY</th>\n",
       "    </tr>\n",
       "  </thead>\n",
       "  <tbody>\n",
       "    <tr>\n",
       "      <th>0</th>\n",
       "      <td>NEW HAMPSHIRE</td>\n",
       "      <td>Heat</td>\n",
       "      <td>2010</td>\n",
       "      <td>July</td>\n",
       "      <td>0.00K</td>\n",
       "    </tr>\n",
       "    <tr>\n",
       "      <th>1</th>\n",
       "      <td>NEW HAMPSHIRE</td>\n",
       "      <td>Heavy Snow</td>\n",
       "      <td>2010</td>\n",
       "      <td>January</td>\n",
       "      <td>0.00K</td>\n",
       "    </tr>\n",
       "    <tr>\n",
       "      <th>2</th>\n",
       "      <td>NEW HAMPSHIRE</td>\n",
       "      <td>Strong Wind</td>\n",
       "      <td>2010</td>\n",
       "      <td>October</td>\n",
       "      <td>50.00K</td>\n",
       "    </tr>\n",
       "    <tr>\n",
       "      <th>3</th>\n",
       "      <td>NEW HAMPSHIRE</td>\n",
       "      <td>Heat</td>\n",
       "      <td>2010</td>\n",
       "      <td>July</td>\n",
       "      <td>0.00K</td>\n",
       "    </tr>\n",
       "    <tr>\n",
       "      <th>4</th>\n",
       "      <td>NEW HAMPSHIRE</td>\n",
       "      <td>Winter Storm</td>\n",
       "      <td>2010</td>\n",
       "      <td>December</td>\n",
       "      <td>0.00K</td>\n",
       "    </tr>\n",
       "  </tbody>\n",
       "</table>\n",
       "</div>"
      ],
      "text/plain": [
       "           STATE    EVENT_TYPE  YEAR MONTH_NAME DAMAGE_PROPERTY\n",
       "0  NEW HAMPSHIRE          Heat  2010       July           0.00K\n",
       "1  NEW HAMPSHIRE    Heavy Snow  2010    January           0.00K\n",
       "2  NEW HAMPSHIRE   Strong Wind  2010    October          50.00K\n",
       "3  NEW HAMPSHIRE          Heat  2010       July           0.00K\n",
       "4  NEW HAMPSHIRE  Winter Storm  2010   December           0.00K"
      ]
     },
     "execution_count": 29,
     "metadata": {},
     "output_type": "execute_result"
    }
   ],
   "source": [
    "df_damage.head()"
   ]
  },
  {
   "cell_type": "code",
   "execution_count": 30,
   "metadata": {},
   "outputs": [],
   "source": [
    "df_damage_1 = df_damage[df_damage['DAMAGE_PROPERTY'].str.contains('K|M|B')== True].copy()"
   ]
  },
  {
   "cell_type": "code",
   "execution_count": 31,
   "metadata": {},
   "outputs": [
    {
     "data": {
      "text/html": [
       "<div>\n",
       "<style scoped>\n",
       "    .dataframe tbody tr th:only-of-type {\n",
       "        vertical-align: middle;\n",
       "    }\n",
       "\n",
       "    .dataframe tbody tr th {\n",
       "        vertical-align: top;\n",
       "    }\n",
       "\n",
       "    .dataframe thead th {\n",
       "        text-align: right;\n",
       "    }\n",
       "</style>\n",
       "<table border=\"1\" class=\"dataframe\">\n",
       "  <thead>\n",
       "    <tr style=\"text-align: right;\">\n",
       "      <th></th>\n",
       "      <th>STATE</th>\n",
       "      <th>EVENT_TYPE</th>\n",
       "      <th>YEAR</th>\n",
       "      <th>MONTH_NAME</th>\n",
       "      <th>DAMAGE_PROPERTY</th>\n",
       "    </tr>\n",
       "  </thead>\n",
       "  <tbody>\n",
       "    <tr>\n",
       "      <th>70113</th>\n",
       "      <td>MICHIGAN</td>\n",
       "      <td>Flash Flood</td>\n",
       "      <td>2011</td>\n",
       "      <td>July</td>\n",
       "      <td>0.00</td>\n",
       "    </tr>\n",
       "  </tbody>\n",
       "</table>\n",
       "</div>"
      ],
      "text/plain": [
       "          STATE   EVENT_TYPE  YEAR MONTH_NAME DAMAGE_PROPERTY\n",
       "70113  MICHIGAN  Flash Flood  2011       July            0.00"
      ]
     },
     "execution_count": 31,
     "metadata": {},
     "output_type": "execute_result"
    }
   ],
   "source": [
    "# check if any DAMAGE_PROPERTY values are without K, M, or B\n",
    "df_damage[df_damage['DAMAGE_PROPERTY'].str.contains('K|M|B')== False]"
   ]
  },
  {
   "cell_type": "code",
   "execution_count": 32,
   "metadata": {},
   "outputs": [
    {
     "data": {
      "text/html": [
       "<div>\n",
       "<style scoped>\n",
       "    .dataframe tbody tr th:only-of-type {\n",
       "        vertical-align: middle;\n",
       "    }\n",
       "\n",
       "    .dataframe tbody tr th {\n",
       "        vertical-align: top;\n",
       "    }\n",
       "\n",
       "    .dataframe thead th {\n",
       "        text-align: right;\n",
       "    }\n",
       "</style>\n",
       "<table border=\"1\" class=\"dataframe\">\n",
       "  <thead>\n",
       "    <tr style=\"text-align: right;\">\n",
       "      <th></th>\n",
       "      <th>STATE</th>\n",
       "      <th>EVENT_TYPE</th>\n",
       "      <th>YEAR</th>\n",
       "      <th>MONTH_NAME</th>\n",
       "      <th>DAMAGE_PROPERTY</th>\n",
       "    </tr>\n",
       "  </thead>\n",
       "  <tbody>\n",
       "    <tr>\n",
       "      <th>0</th>\n",
       "      <td>NEW HAMPSHIRE</td>\n",
       "      <td>Heat</td>\n",
       "      <td>2010</td>\n",
       "      <td>July</td>\n",
       "      <td>0.00K</td>\n",
       "    </tr>\n",
       "    <tr>\n",
       "      <th>1</th>\n",
       "      <td>NEW HAMPSHIRE</td>\n",
       "      <td>Heavy Snow</td>\n",
       "      <td>2010</td>\n",
       "      <td>January</td>\n",
       "      <td>0.00K</td>\n",
       "    </tr>\n",
       "    <tr>\n",
       "      <th>2</th>\n",
       "      <td>NEW HAMPSHIRE</td>\n",
       "      <td>Strong Wind</td>\n",
       "      <td>2010</td>\n",
       "      <td>October</td>\n",
       "      <td>50.00K</td>\n",
       "    </tr>\n",
       "    <tr>\n",
       "      <th>3</th>\n",
       "      <td>NEW HAMPSHIRE</td>\n",
       "      <td>Heat</td>\n",
       "      <td>2010</td>\n",
       "      <td>July</td>\n",
       "      <td>0.00K</td>\n",
       "    </tr>\n",
       "    <tr>\n",
       "      <th>4</th>\n",
       "      <td>NEW HAMPSHIRE</td>\n",
       "      <td>Winter Storm</td>\n",
       "      <td>2010</td>\n",
       "      <td>December</td>\n",
       "      <td>0.00K</td>\n",
       "    </tr>\n",
       "  </tbody>\n",
       "</table>\n",
       "</div>"
      ],
      "text/plain": [
       "           STATE    EVENT_TYPE  YEAR MONTH_NAME DAMAGE_PROPERTY\n",
       "0  NEW HAMPSHIRE          Heat  2010       July           0.00K\n",
       "1  NEW HAMPSHIRE    Heavy Snow  2010    January           0.00K\n",
       "2  NEW HAMPSHIRE   Strong Wind  2010    October          50.00K\n",
       "3  NEW HAMPSHIRE          Heat  2010       July           0.00K\n",
       "4  NEW HAMPSHIRE  Winter Storm  2010   December           0.00K"
      ]
     },
     "execution_count": 32,
     "metadata": {},
     "output_type": "execute_result"
    }
   ],
   "source": [
    "df_damage_1.head()"
   ]
  },
  {
   "cell_type": "code",
   "execution_count": 33,
   "metadata": {},
   "outputs": [],
   "source": [
    "# Create a numeric column for DAMAGE_PROPERTY in million. \n",
    "dict_1 ={'K':0.001, 'M':1, 'B':1000}\n",
    "\n",
    "df_damage_1['DAMAGE_PROPERTY_million'] = df_damage_1['DAMAGE_PROPERTY']\\\n",
    "                                        .transform(lambda x: float(x[:-1]) * dict_1[x[-1]])"
   ]
  },
  {
   "cell_type": "markdown",
   "metadata": {},
   "source": [
    "## Property damage by event type"
   ]
  },
  {
   "cell_type": "code",
   "execution_count": 73,
   "metadata": {
    "scrolled": false
   },
   "outputs": [
    {
     "data": {
      "text/plain": [
       "<matplotlib.axes._subplots.AxesSubplot at 0x1a2ff8d750>"
      ]
     },
     "execution_count": 73,
     "metadata": {},
     "output_type": "execute_result"
    },
    {
     "data": {
      "image/png": "[encoded data removed]",
      "text/plain": [
       "<Figure size 720x360 with 1 Axes>"
      ]
     },
     "metadata": {
      "needs_background": "light"
     },
     "output_type": "display_data"
    }
   ],
   "source": [
    "df_damage_1.groupby('EVENT_TYPE')\\\n",
    ".sum()['DAMAGE_PROPERTY_million']\\\n",
    ".sort_values(ascending = False)[:15]\\\n",
    ".plot(kind = 'bar', figsize = (10,5), title = 'Damage_property in million $')\n"
   ]
  },
  {
   "cell_type": "code",
   "execution_count": 35,
   "metadata": {},
   "outputs": [],
   "source": [
    "# top 5 damage events\n",
    "top5_damage = ['Flash Flood', 'Wildfire', 'Flood', 'Tornado', 'Coastal Flood']"
   ]
  },
  {
   "cell_type": "markdown",
   "metadata": {},
   "source": [
    "## Property damage by state"
   ]
  },
  {
   "cell_type": "code",
   "execution_count": 75,
   "metadata": {},
   "outputs": [
    {
     "data": {
      "text/plain": [
       "<matplotlib.axes._subplots.AxesSubplot at 0x1a2eb264d0>"
      ]
     },
     "execution_count": 75,
     "metadata": {},
     "output_type": "execute_result"
    },
    {
     "data": {
      "image/png": "[encoded data removed]",
      "text/plain": [
       "<Figure size 1080x504 with 1 Axes>"
      ]
     },
     "metadata": {
      "needs_background": "light"
     },
     "output_type": "display_data"
    }
   ],
   "source": [
    "df_damage_1.groupby('STATE')\\\n",
    ".sum()['DAMAGE_PROPERTY_million']\\\n",
    ".sort_values(ascending = False)[:]\\\n",
    ".plot(kind = 'bar', y = 'Y', figsize = (15,7), title = 'Propety damage in $millions')"
   ]
  },
  {
   "cell_type": "markdown",
   "metadata": {},
   "source": [
    "## Property damage by month"
   ]
  },
  {
   "cell_type": "code",
   "execution_count": 76,
   "metadata": {},
   "outputs": [
    {
     "data": {
      "text/plain": [
       "<matplotlib.axes._subplots.AxesSubplot at 0x1a2e66da50>"
      ]
     },
     "execution_count": 76,
     "metadata": {},
     "output_type": "execute_result"
    },
    {
     "data": {
      "image/png": "[encoded data removed]",
      "text/plain": [
       "<Figure size 720x360 with 1 Axes>"
      ]
     },
     "metadata": {
      "needs_background": "light"
     },
     "output_type": "display_data"
    }
   ],
   "source": [
    "df_damage_1.groupby('MONTH_NAME')\\\n",
    ".sum()['DAMAGE_PROPERTY_million']\\\n",
    ".sort_values(ascending = False)\\\n",
    ".plot(kind = 'bar', figsize = (10,5), title = 'Property damage in $ million')"
   ]
  },
  {
   "cell_type": "markdown",
   "metadata": {},
   "source": [
    "## Top 5 property damage by year"
   ]
  },
  {
   "cell_type": "code",
   "execution_count": 38,
   "metadata": {},
   "outputs": [],
   "source": [
    "# yearly distribution of top 5 property damage\n",
    "\n",
    "df_yearly_damage = df_damage_1[df_damage_1['EVENT_TYPE'] == 'Flash Flood']\\\n",
    "                   .groupby('YEAR')\\\n",
    "                   .sum()['DAMAGE_PROPERTY_million']\n",
    "\n",
    "for event in top5_damage[1:]:\n",
    "    df_yearly_temp = df_damage_1[df_damage_1['EVENT_TYPE'] == event]\\\n",
    "                     .groupby('YEAR')\\\n",
    "                     .sum()['DAMAGE_PROPERTY_million']\n",
    "    df_yearly_damage = pd.concat([df_yearly_damage, df_yearly_temp], axis=1)\n",
    "\n",
    "df_yearly_damage.columns = top5_damage # rename the columns"
   ]
  },
  {
   "cell_type": "code",
   "execution_count": 39,
   "metadata": {},
   "outputs": [
    {
     "data": {
      "text/html": [
       "<div>\n",
       "<style scoped>\n",
       "    .dataframe tbody tr th:only-of-type {\n",
       "        vertical-align: middle;\n",
       "    }\n",
       "\n",
       "    .dataframe tbody tr th {\n",
       "        vertical-align: top;\n",
       "    }\n",
       "\n",
       "    .dataframe thead th {\n",
       "        text-align: right;\n",
       "    }\n",
       "</style>\n",
       "<table border=\"1\" class=\"dataframe\">\n",
       "  <thead>\n",
       "    <tr style=\"text-align: right;\">\n",
       "      <th></th>\n",
       "      <th>Flash Flood</th>\n",
       "      <th>Wildfire</th>\n",
       "      <th>Flood</th>\n",
       "      <th>Tornado</th>\n",
       "      <th>Coastal Flood</th>\n",
       "    </tr>\n",
       "    <tr>\n",
       "      <th>YEAR</th>\n",
       "      <th></th>\n",
       "      <th></th>\n",
       "      <th></th>\n",
       "      <th></th>\n",
       "      <th></th>\n",
       "    </tr>\n",
       "  </thead>\n",
       "  <tbody>\n",
       "    <tr>\n",
       "      <th>2010</th>\n",
       "      <td>833.80040</td>\n",
       "      <td>244.88967</td>\n",
       "      <td>3093.91854</td>\n",
       "      <td>1136.92045</td>\n",
       "      <td>7.7450</td>\n",
       "    </tr>\n",
       "    <tr>\n",
       "      <th>2011</th>\n",
       "      <td>1356.24670</td>\n",
       "      <td>667.21740</td>\n",
       "      <td>6621.68595</td>\n",
       "      <td>9684.15070</td>\n",
       "      <td>27.2740</td>\n",
       "    </tr>\n",
       "    <tr>\n",
       "      <th>2012</th>\n",
       "      <td>379.16150</td>\n",
       "      <td>1460.08730</td>\n",
       "      <td>119.05130</td>\n",
       "      <td>1648.69650</td>\n",
       "      <td>21049.5488</td>\n",
       "    </tr>\n",
       "    <tr>\n",
       "      <th>2013</th>\n",
       "      <td>957.03283</td>\n",
       "      <td>355.80930</td>\n",
       "      <td>1215.71020</td>\n",
       "      <td>3642.16775</td>\n",
       "      <td>23.9435</td>\n",
       "    </tr>\n",
       "    <tr>\n",
       "      <th>2014</th>\n",
       "      <td>2476.86760</td>\n",
       "      <td>323.81146</td>\n",
       "      <td>148.98499</td>\n",
       "      <td>622.07000</td>\n",
       "      <td>3.3865</td>\n",
       "    </tr>\n",
       "    <tr>\n",
       "      <th>2015</th>\n",
       "      <td>1833.83237</td>\n",
       "      <td>22.89700</td>\n",
       "      <td>686.59510</td>\n",
       "      <td>317.88110</td>\n",
       "      <td>14.3935</td>\n",
       "    </tr>\n",
       "    <tr>\n",
       "      <th>2016</th>\n",
       "      <td>3645.40207</td>\n",
       "      <td>181.50101</td>\n",
       "      <td>7066.26598</td>\n",
       "      <td>181.17620</td>\n",
       "      <td>0.7235</td>\n",
       "    </tr>\n",
       "    <tr>\n",
       "      <th>2017</th>\n",
       "      <td>63118.68526</td>\n",
       "      <td>155.96450</td>\n",
       "      <td>1527.37730</td>\n",
       "      <td>633.77220</td>\n",
       "      <td>6.3105</td>\n",
       "    </tr>\n",
       "    <tr>\n",
       "      <th>2018</th>\n",
       "      <td>683.10386</td>\n",
       "      <td>18842.00800</td>\n",
       "      <td>520.45062</td>\n",
       "      <td>670.25390</td>\n",
       "      <td>14.1650</td>\n",
       "    </tr>\n",
       "    <tr>\n",
       "      <th>2019</th>\n",
       "      <td>1440.12773</td>\n",
       "      <td>28.13100</td>\n",
       "      <td>978.01990</td>\n",
       "      <td>3090.38550</td>\n",
       "      <td>0.4450</td>\n",
       "    </tr>\n",
       "  </tbody>\n",
       "</table>\n",
       "</div>"
      ],
      "text/plain": [
       "      Flash Flood     Wildfire       Flood     Tornado  Coastal Flood\n",
       "YEAR                                                                 \n",
       "2010    833.80040    244.88967  3093.91854  1136.92045         7.7450\n",
       "2011   1356.24670    667.21740  6621.68595  9684.15070        27.2740\n",
       "2012    379.16150   1460.08730   119.05130  1648.69650     21049.5488\n",
       "2013    957.03283    355.80930  1215.71020  3642.16775        23.9435\n",
       "2014   2476.86760    323.81146   148.98499   622.07000         3.3865\n",
       "2015   1833.83237     22.89700   686.59510   317.88110        14.3935\n",
       "2016   3645.40207    181.50101  7066.26598   181.17620         0.7235\n",
       "2017  63118.68526    155.96450  1527.37730   633.77220         6.3105\n",
       "2018    683.10386  18842.00800   520.45062   670.25390        14.1650\n",
       "2019   1440.12773     28.13100   978.01990  3090.38550         0.4450"
      ]
     },
     "execution_count": 39,
     "metadata": {},
     "output_type": "execute_result"
    }
   ],
   "source": [
    "df_yearly_damage"
   ]
  },
  {
   "cell_type": "code",
   "execution_count": 81,
   "metadata": {},
   "outputs": [
    {
     "data": {
      "text/html": [
       "<div>\n",
       "<style scoped>\n",
       "    .dataframe tbody tr th:only-of-type {\n",
       "        vertical-align: middle;\n",
       "    }\n",
       "\n",
       "    .dataframe tbody tr th {\n",
       "        vertical-align: top;\n",
       "    }\n",
       "\n",
       "    .dataframe thead th {\n",
       "        text-align: right;\n",
       "    }\n",
       "</style>\n",
       "<table border=\"1\" class=\"dataframe\">\n",
       "  <thead>\n",
       "    <tr style=\"text-align: right;\">\n",
       "      <th></th>\n",
       "      <th>count</th>\n",
       "      <th>mean</th>\n",
       "      <th>std</th>\n",
       "      <th>min</th>\n",
       "      <th>25%</th>\n",
       "      <th>50%</th>\n",
       "      <th>75%</th>\n",
       "      <th>max</th>\n",
       "    </tr>\n",
       "  </thead>\n",
       "  <tbody>\n",
       "    <tr>\n",
       "      <th>Flash Flood</th>\n",
       "      <td>10.0</td>\n",
       "      <td>7672.426032</td>\n",
       "      <td>19505.637047</td>\n",
       "      <td>379.1615</td>\n",
       "      <td>864.608507</td>\n",
       "      <td>1398.187215</td>\n",
       "      <td>2316.108793</td>\n",
       "      <td>63118.68526</td>\n",
       "    </tr>\n",
       "    <tr>\n",
       "      <th>Wildfire</th>\n",
       "      <td>10.0</td>\n",
       "      <td>2228.231664</td>\n",
       "      <td>5852.806964</td>\n",
       "      <td>22.8970</td>\n",
       "      <td>162.348627</td>\n",
       "      <td>284.350565</td>\n",
       "      <td>589.365375</td>\n",
       "      <td>18842.00800</td>\n",
       "    </tr>\n",
       "    <tr>\n",
       "      <th>Flood</th>\n",
       "      <td>10.0</td>\n",
       "      <td>2197.805988</td>\n",
       "      <td>2594.731138</td>\n",
       "      <td>119.0513</td>\n",
       "      <td>561.986740</td>\n",
       "      <td>1096.865050</td>\n",
       "      <td>2702.283230</td>\n",
       "      <td>7066.26598</td>\n",
       "    </tr>\n",
       "    <tr>\n",
       "      <th>Tornado</th>\n",
       "      <td>10.0</td>\n",
       "      <td>2162.747430</td>\n",
       "      <td>2890.721148</td>\n",
       "      <td>181.1762</td>\n",
       "      <td>624.995550</td>\n",
       "      <td>903.587175</td>\n",
       "      <td>2729.963250</td>\n",
       "      <td>9684.15070</td>\n",
       "    </tr>\n",
       "    <tr>\n",
       "      <th>Coastal Flood</th>\n",
       "      <td>10.0</td>\n",
       "      <td>2114.793530</td>\n",
       "      <td>6653.001202</td>\n",
       "      <td>0.4450</td>\n",
       "      <td>4.117500</td>\n",
       "      <td>10.955000</td>\n",
       "      <td>21.556000</td>\n",
       "      <td>21049.54880</td>\n",
       "    </tr>\n",
       "  </tbody>\n",
       "</table>\n",
       "</div>"
      ],
      "text/plain": [
       "               count         mean           std       min         25%  \\\n",
       "Flash Flood     10.0  7672.426032  19505.637047  379.1615  864.608507   \n",
       "Wildfire        10.0  2228.231664   5852.806964   22.8970  162.348627   \n",
       "Flood           10.0  2197.805988   2594.731138  119.0513  561.986740   \n",
       "Tornado         10.0  2162.747430   2890.721148  181.1762  624.995550   \n",
       "Coastal Flood   10.0  2114.793530   6653.001202    0.4450    4.117500   \n",
       "\n",
       "                       50%          75%          max  \n",
       "Flash Flood    1398.187215  2316.108793  63118.68526  \n",
       "Wildfire        284.350565   589.365375  18842.00800  \n",
       "Flood          1096.865050  2702.283230   7066.26598  \n",
       "Tornado         903.587175  2729.963250   9684.15070  \n",
       "Coastal Flood    10.955000    21.556000  21049.54880  "
      ]
     },
     "execution_count": 81,
     "metadata": {},
     "output_type": "execute_result"
    }
   ],
   "source": [
    "df_yearly_damage.describe().transpose()"
   ]
  },
  {
   "cell_type": "code",
   "execution_count": 79,
   "metadata": {},
   "outputs": [
    {
     "data": {
      "text/plain": [
       "<matplotlib.axes._subplots.AxesSubplot at 0x1a331103d0>"
      ]
     },
     "execution_count": 79,
     "metadata": {},
     "output_type": "execute_result"
    },
    {
     "data": {
      "image/png": "[encoded data removed]",
      "text/plain": [
       "<Figure size 432x288 with 1 Axes>"
      ]
     },
     "metadata": {
      "needs_background": "light"
     },
     "output_type": "display_data"
    }
   ],
   "source": [
    "sns.boxplot(data = df_yearly_damage)"
   ]
  },
  {
   "cell_type": "code",
   "execution_count": 77,
   "metadata": {},
   "outputs": [
    {
     "data": {
      "text/plain": [
       "<matplotlib.axes._subplots.AxesSubplot at 0x1a31bc2d50>"
      ]
     },
     "execution_count": 77,
     "metadata": {},
     "output_type": "execute_result"
    },
    {
     "data": {
      "image/png": "[encoded data removed]",
      "text/plain": [
       "<Figure size 720x360 with 1 Axes>"
      ]
     },
     "metadata": {
      "needs_background": "light"
     },
     "output_type": "display_data"
    }
   ],
   "source": [
    "df_yearly_damage.plot(kind = 'bar',\n",
    "                      stacked = True,\n",
    "                      logy = False, \n",
    "                      title = 'Property damage in $millions by top 5 strom events', \n",
    "                      figsize = (10,5))"
   ]
  },
  {
   "cell_type": "code",
   "execution_count": null,
   "metadata": {
    "scrolled": false
   },
   "outputs": [],
   "source": []
  }
 ],
 "metadata": {
  "kernelspec": {
   "display_name": "Python 3",
   "language": "python",
   "name": "python3"
  },
  "language_info": {
   "codemirror_mode": {
    "name": "ipython",
    "version": 3
   },
   "file_extension": ".py",
   "mimetype": "text/x-python",
   "name": "python",
   "nbconvert_exporter": "python",
   "pygments_lexer": "ipython3",
   "version": "3.7.4"
  }
 },
 "nbformat": 4,
 "nbformat_minor": 2
}

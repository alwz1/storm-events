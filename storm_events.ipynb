{
 "cells": [
  {
   "cell_type": "markdown",
   "metadata": {},
   "source": [
    "## Storm Events\n",
    "Exploratory data analysis of storm events from 2010 to 2019. The datasets are from Storm Events Database of National Centers for Environmental Information (NCEI)."
   ]
  },
  {
   "cell_type": "markdown",
   "metadata": {},
   "source": [
    "#### Get data from Storm Events Database of NCEI"
   ]
  },
  {
   "cell_type": "code",
   "execution_count": 1,
   "metadata": {},
   "outputs": [
    {
     "name": "stdout",
     "output_type": "stream",
     "text": [
      "--2020-04-24 11:53:45--  https://www1.ncdc.noaa.gov/pub/data/swdi/stormevents/csvfiles/StormEvents_details-ftp_v1.0_d2010_c20191116.csv.gz\n",
      "Resolving www1.ncdc.noaa.gov... 2610:20:8040:2::177, 2610:20:8040:2::178, 2610:20:8040:2::171, ...\n",
      "Connecting to www1.ncdc.noaa.gov|2610:20:8040:2::177|:443... connected.\n",
      "HTTP request sent, awaiting response... 200 OK\n",
      "Length: 11651563 (11M) [application/x-gzip]\n",
      "Saving to: 'StormEvents_details-ftp_v1.0_d2010_c20191116.csv.gz'\n",
      "\n",
      "StormEvents_details 100%[===================>]  11.11M  3.43MB/s    in 3.5s    \n",
      "\n",
      "2020-04-24 11:53:49 (3.17 MB/s) - 'StormEvents_details-ftp_v1.0_d2010_c20191116.csv.gz' saved [11651563/11651563]\n",
      "\n",
      "--2020-04-24 11:53:49--  https://www1.ncdc.noaa.gov/pub/data/swdi/stormevents/csvfiles/StormEvents_details-ftp_v1.0_d2011_c20180718.csv.gz\n",
      "Resolving www1.ncdc.noaa.gov... 2610:20:8040:2::178, 2610:20:8040:2::171, 2610:20:8040:2::172, ...\n",
      "Connecting to www1.ncdc.noaa.gov|2610:20:8040:2::178|:443... connected.\n",
      "HTTP request sent, awaiting response... 200 OK\n",
      "Length: 15662091 (15M) [application/x-gzip]\n",
      "Saving to: 'StormEvents_details-ftp_v1.0_d2011_c20180718.csv.gz'\n",
      "\n",
      "StormEvents_details 100%[===================>]  14.94M  8.36MB/s    in 1.8s    \n",
      "\n",
      "2020-04-24 11:53:51 (8.36 MB/s) - 'StormEvents_details-ftp_v1.0_d2011_c20180718.csv.gz' saved [15662091/15662091]\n",
      "\n",
      "--2020-04-24 11:53:51--  https://www1.ncdc.noaa.gov/pub/data/swdi/stormevents/csvfiles/StormEvents_details-ftp_v1.0_d2012_c20200317.csv.gz\n",
      "Resolving www1.ncdc.noaa.gov... 2610:20:8040:2::171, 2610:20:8040:2::172, 2610:20:8040:2::177, ...\n",
      "Connecting to www1.ncdc.noaa.gov|2610:20:8040:2::171|:443... connected.\n",
      "HTTP request sent, awaiting response... 200 OK\n",
      "Length: 11783552 (11M) [application/x-gzip]\n",
      "Saving to: 'StormEvents_details-ftp_v1.0_d2012_c20200317.csv.gz'\n",
      "\n",
      "StormEvents_details 100%[===================>]  11.24M  5.10MB/s    in 2.2s    \n",
      "\n",
      "2020-04-24 11:53:54 (5.10 MB/s) - 'StormEvents_details-ftp_v1.0_d2012_c20200317.csv.gz' saved [11783552/11783552]\n",
      "\n",
      "--2020-04-24 11:53:54--  https://www1.ncdc.noaa.gov/pub/data/swdi/stormevents/csvfiles/StormEvents_details-ftp_v1.0_d2013_c20170519.csv.gz\n",
      "Resolving www1.ncdc.noaa.gov... 2610:20:8040:2::172, 2610:20:8040:2::177, 2610:20:8040:2::178, ...\n",
      "Connecting to www1.ncdc.noaa.gov|2610:20:8040:2::172|:443... connected.\n",
      "HTTP request sent, awaiting response... 200 OK\n",
      "Length: 11665436 (11M) [application/x-gzip]\n",
      "Saving to: 'StormEvents_details-ftp_v1.0_d2013_c20170519.csv.gz'\n",
      "\n",
      "StormEvents_details 100%[===================>]  11.12M  6.80MB/s    in 1.6s    \n",
      "\n",
      "2020-04-24 11:53:56 (6.80 MB/s) - 'StormEvents_details-ftp_v1.0_d2013_c20170519.csv.gz' saved [11665436/11665436]\n",
      "\n",
      "--2020-04-24 11:53:56--  https://www1.ncdc.noaa.gov/pub/data/swdi/stormevents/csvfiles/StormEvents_details-ftp_v1.0_d2014_c20191116.csv.gz\n",
      "Resolving www1.ncdc.noaa.gov... 2610:20:8040:2::177, 2610:20:8040:2::178, 2610:20:8040:2::171, ...\n",
      "Connecting to www1.ncdc.noaa.gov|2610:20:8040:2::177|:443... connected.\n",
      "HTTP request sent, awaiting response... 200 OK\n",
      "Length: 11055264 (11M) [application/x-gzip]\n",
      "Saving to: 'StormEvents_details-ftp_v1.0_d2014_c20191116.csv.gz'\n",
      "\n",
      "StormEvents_details 100%[===================>]  10.54M  3.73MB/s    in 2.8s    \n",
      "\n",
      "2020-04-24 11:53:59 (3.73 MB/s) - 'StormEvents_details-ftp_v1.0_d2014_c20191116.csv.gz' saved [11055264/11055264]\n",
      "\n",
      "--2020-04-24 11:54:00--  https://www1.ncdc.noaa.gov/pub/data/swdi/stormevents/csvfiles/StormEvents_details-ftp_v1.0_d2015_c20191116.csv.gz\n",
      "Resolving www1.ncdc.noaa.gov... 2610:20:8040:2::177, 2610:20:8040:2::178, 2610:20:8040:2::171, ...\n",
      "Connecting to www1.ncdc.noaa.gov|2610:20:8040:2::177|:443... connected.\n",
      "HTTP request sent, awaiting response... 200 OK\n",
      "Length: 10002243 (9.5M) [application/x-gzip]\n",
      "Saving to: 'StormEvents_details-ftp_v1.0_d2015_c20191116.csv.gz'\n",
      "\n",
      "StormEvents_details 100%[===================>]   9.54M  4.13MB/s    in 2.3s    \n",
      "\n",
      "2020-04-24 11:54:02 (4.13 MB/s) - 'StormEvents_details-ftp_v1.0_d2015_c20191116.csv.gz' saved [10002243/10002243]\n",
      "\n",
      "--2020-04-24 11:54:02--  https://www1.ncdc.noaa.gov/pub/data/swdi/stormevents/csvfiles/StormEvents_details-ftp_v1.0_d2016_c20190817.csv.gz\n",
      "Resolving www1.ncdc.noaa.gov... 2610:20:8040:2::177, 2610:20:8040:2::178, 2610:20:8040:2::171, ...\n",
      "Connecting to www1.ncdc.noaa.gov|2610:20:8040:2::177|:443... connected.\n",
      "HTTP request sent, awaiting response... 200 OK\n",
      "Length: 9008527 (8.6M) [application/x-gzip]\n",
      "Saving to: 'StormEvents_details-ftp_v1.0_d2016_c20190817.csv.gz'\n",
      "\n",
      "StormEvents_details 100%[===================>]   8.59M  3.87MB/s    in 2.2s    \n",
      "\n",
      "2020-04-24 11:54:05 (3.87 MB/s) - 'StormEvents_details-ftp_v1.0_d2016_c20190817.csv.gz' saved [9008527/9008527]\n",
      "\n",
      "--2020-04-24 11:54:05--  https://www1.ncdc.noaa.gov/pub/data/swdi/stormevents/csvfiles/StormEvents_details-ftp_v1.0_d2017_c20200121.csv.gz\n",
      "Resolving www1.ncdc.noaa.gov... 2610:20:8040:2::177, 2610:20:8040:2::178, 2610:20:8040:2::171, ...\n",
      "Connecting to www1.ncdc.noaa.gov|2610:20:8040:2::177|:443... connected.\n",
      "HTTP request sent, awaiting response... 200 OK\n",
      "Length: 9628443 (9.2M) [application/x-gzip]\n",
      "Saving to: 'StormEvents_details-ftp_v1.0_d2017_c20200121.csv.gz'\n",
      "\n",
      "StormEvents_details 100%[===================>]   9.18M  4.15MB/s    in 2.2s    \n",
      "\n",
      "2020-04-24 11:54:08 (4.15 MB/s) - 'StormEvents_details-ftp_v1.0_d2017_c20200121.csv.gz' saved [9628443/9628443]\n",
      "\n",
      "--2020-04-24 11:54:08--  https://www1.ncdc.noaa.gov/pub/data/swdi/stormevents/csvfiles/StormEvents_details-ftp_v1.0_d2018_c20200317.csv.gz\n",
      "Resolving www1.ncdc.noaa.gov... 2610:20:8040:2::177, 2610:20:8040:2::178, 2610:20:8040:2::171, ...\n",
      "Connecting to www1.ncdc.noaa.gov|2610:20:8040:2::177|:443... connected.\n",
      "HTTP request sent, awaiting response... 200 OK\n",
      "Length: 10592222 (10M) [application/x-gzip]\n",
      "Saving to: 'StormEvents_details-ftp_v1.0_d2018_c20200317.csv.gz'\n",
      "\n",
      "StormEvents_details 100%[===================>]  10.10M  4.42MB/s    in 2.3s    \n",
      "\n",
      "2020-04-24 11:54:11 (4.42 MB/s) - 'StormEvents_details-ftp_v1.0_d2018_c20200317.csv.gz' saved [10592222/10592222]\n",
      "\n",
      "--2020-04-24 11:54:11--  https://www1.ncdc.noaa.gov/pub/data/swdi/stormevents/csvfiles/StormEvents_details-ftp_v1.0_d2019_c20200416.csv.gz\n",
      "Resolving www1.ncdc.noaa.gov... 2610:20:8040:2::177, 2610:20:8040:2::178, 2610:20:8040:2::171, ...\n",
      "Connecting to www1.ncdc.noaa.gov|2610:20:8040:2::177|:443... connected.\n",
      "HTTP request sent, awaiting response... 200 OK\n",
      "Length: 11588568 (11M) [application/x-gzip]\n",
      "Saving to: 'StormEvents_details-ftp_v1.0_d2019_c20200416.csv.gz'\n",
      "\n",
      "StormEvents_details 100%[===================>]  11.05M  4.42MB/s    in 2.5s    \n",
      "\n",
      "2020-04-24 11:54:13 (4.42 MB/s) - 'StormEvents_details-ftp_v1.0_d2019_c20200416.csv.gz' saved [11588568/11588568]\n",
      "\n"
     ]
    }
   ],
   "source": [
    "!wget https://www1.ncdc.noaa.gov/pub/data/swdi/stormevents/csvfiles/StormEvents_details-ftp_v1.0_d2010_c20191116.csv.gz\n",
    "!mv StormEvents_details-ftp_v1.0_d2010_c20191116.csv.gz StormEvents_2010.csv.gz\n",
    "\n",
    "!wget https://www1.ncdc.noaa.gov/pub/data/swdi/stormevents/csvfiles/StormEvents_details-ftp_v1.0_d2011_c20180718.csv.gz\n",
    "!mv StormEvents_details-ftp_v1.0_d2011_c20180718.csv.gz StormEvents_2011.csv.gz\n",
    "\n",
    "!wget https://www1.ncdc.noaa.gov/pub/data/swdi/stormevents/csvfiles/StormEvents_details-ftp_v1.0_d2012_c20200317.csv.gz\n",
    "!mv StormEvents_details-ftp_v1.0_d2012_c20200317.csv.gz StormEvents_2012.csv.gz\n",
    "\n",
    "!wget https://www1.ncdc.noaa.gov/pub/data/swdi/stormevents/csvfiles/StormEvents_details-ftp_v1.0_d2013_c20170519.csv.gz\n",
    "!mv StormEvents_details-ftp_v1.0_d2013_c20170519.csv.gz StormEvents_2013.csv.gz\n",
    "\n",
    "!wget https://www1.ncdc.noaa.gov/pub/data/swdi/stormevents/csvfiles/StormEvents_details-ftp_v1.0_d2014_c20191116.csv.gz\n",
    "!mv StormEvents_details-ftp_v1.0_d2014_c20191116.csv.gz StormEvents_2014.csv.gz\n",
    "\n",
    "!wget https://www1.ncdc.noaa.gov/pub/data/swdi/stormevents/csvfiles/StormEvents_details-ftp_v1.0_d2015_c20191116.csv.gz\n",
    "!mv StormEvents_details-ftp_v1.0_d2015_c20191116.csv.gz StormEvents_2015.csv.gz\n",
    "    \n",
    "!wget https://www1.ncdc.noaa.gov/pub/data/swdi/stormevents/csvfiles/StormEvents_details-ftp_v1.0_d2016_c20190817.csv.gz    \n",
    "!mv StormEvents_details-ftp_v1.0_d2016_c20190817.csv.gz StormEvents_2016.csv.gz \n",
    "\n",
    "!wget https://www1.ncdc.noaa.gov/pub/data/swdi/stormevents/csvfiles/StormEvents_details-ftp_v1.0_d2017_c20200121.csv.gz\n",
    "!mv StormEvents_details-ftp_v1.0_d2017_c20200121.csv.gz StormEvents_2017.csv.gz  \n",
    "\n",
    "!wget https://www1.ncdc.noaa.gov/pub/data/swdi/stormevents/csvfiles/StormEvents_details-ftp_v1.0_d2018_c20200317.csv.gz\n",
    "!mv StormEvents_details-ftp_v1.0_d2018_c20200317.csv.gz StormEvents_2018.csv.gz\n",
    "\n",
    "!wget https://www1.ncdc.noaa.gov/pub/data/swdi/stormevents/csvfiles/StormEvents_details-ftp_v1.0_d2019_c20200416.csv.gz\n",
    "!mv StormEvents_details-ftp_v1.0_d2019_c20200416.csv.gz StormEvents_2019.csv.gz"
   ]
  },
  {
   "cell_type": "code",
   "execution_count": 2,
   "metadata": {},
   "outputs": [],
   "source": [
    "import numpy as np\n",
    "import pandas as pd\n",
    "import seaborn as sns\n",
    "import matplotlib.pyplot as plt\n",
    "from matplotlib.ticker import PercentFormatter\n",
    "\n",
    "%matplotlib inline"
   ]
  },
  {
   "cell_type": "markdown",
   "metadata": {},
   "source": [
    "## Initial data exploration"
   ]
  },
  {
   "cell_type": "code",
   "execution_count": 3,
   "metadata": {},
   "outputs": [],
   "source": [
    "# check 2010 storm events dataset\n",
    "df_2010 = pd.read_csv('StormEvents_2010.csv.gz', compression = 'gzip')"
   ]
  },
  {
   "cell_type": "code",
   "execution_count": 4,
   "metadata": {},
   "outputs": [
    {
     "data": {
      "text/plain": [
       "(62804, 51)"
      ]
     },
     "execution_count": 4,
     "metadata": {},
     "output_type": "execute_result"
    }
   ],
   "source": [
    "df_2010.shape"
   ]
  },
  {
   "cell_type": "code",
   "execution_count": 5,
   "metadata": {},
   "outputs": [
    {
     "data": {
      "text/plain": [
       "Index(['BEGIN_YEARMONTH', 'BEGIN_DAY', 'BEGIN_TIME', 'END_YEARMONTH',\n",
       "       'END_DAY', 'END_TIME', 'EPISODE_ID', 'EVENT_ID', 'STATE', 'STATE_FIPS',\n",
       "       'YEAR', 'MONTH_NAME', 'EVENT_TYPE', 'CZ_TYPE', 'CZ_FIPS', 'CZ_NAME',\n",
       "       'WFO', 'BEGIN_DATE_TIME', 'CZ_TIMEZONE', 'END_DATE_TIME',\n",
       "       'INJURIES_DIRECT', 'INJURIES_INDIRECT', 'DEATHS_DIRECT',\n",
       "       'DEATHS_INDIRECT', 'DAMAGE_PROPERTY', 'DAMAGE_CROPS', 'SOURCE',\n",
       "       'MAGNITUDE', 'MAGNITUDE_TYPE', 'FLOOD_CAUSE', 'CATEGORY', 'TOR_F_SCALE',\n",
       "       'TOR_LENGTH', 'TOR_WIDTH', 'TOR_OTHER_WFO', 'TOR_OTHER_CZ_STATE',\n",
       "       'TOR_OTHER_CZ_FIPS', 'TOR_OTHER_CZ_NAME', 'BEGIN_RANGE',\n",
       "       'BEGIN_AZIMUTH', 'BEGIN_LOCATION', 'END_RANGE', 'END_AZIMUTH',\n",
       "       'END_LOCATION', 'BEGIN_LAT', 'BEGIN_LON', 'END_LAT', 'END_LON',\n",
       "       'EPISODE_NARRATIVE', 'EVENT_NARRATIVE', 'DATA_SOURCE'],\n",
       "      dtype='object')"
      ]
     },
     "execution_count": 5,
     "metadata": {},
     "output_type": "execute_result"
    }
   ],
   "source": [
    "# check the fields\n",
    "df_2010.columns"
   ]
  },
  {
   "cell_type": "code",
   "execution_count": 6,
   "metadata": {},
   "outputs": [],
   "source": [
    "#  select columns of interest from the yearly Storm Events datasets\n",
    "\n",
    "selected_columns = ['EVENT_ID','STATE', 'YEAR', 'MONTH_NAME',\n",
    "                    'EVENT_TYPE', 'CZ_TYPE', 'CZ_FIPS',\n",
    "                    'WFO','INJURIES_DIRECT', 'INJURIES_INDIRECT', \n",
    "                    'DEATHS_DIRECT','DEATHS_INDIRECT', \n",
    "                    'DAMAGE_PROPERTY', 'SOURCE',\n",
    "                    'MAGNITUDE', 'MAGNITUDE_TYPE', 'FLOOD_CAUSE',\n",
    "                    'TOR_F_SCALE','TOR_LENGTH', 'TOR_WIDTH', \n",
    "                    'TOR_OTHER_WFO', 'TOR_OTHER_CZ_STATE',\n",
    "                    'TOR_OTHER_CZ_FIPS',\n",
    "                    'BEGIN_RANGE', 'END_RANGE','BEGIN_AZIMUTH',\n",
    "                    'END_AZIMUTH','BEGIN_LAT',\n",
    "                    'BEGIN_LON', 'END_LAT', 'END_LON']"
   ]
  },
  {
   "cell_type": "code",
   "execution_count": 7,
   "metadata": {},
   "outputs": [],
   "source": [
    "# read and concatenate yearly Storm Events datasets into a single data frame\n",
    "\n",
    "df = pd.read_csv('StormEvents_2010.csv.gz', compression = 'gzip')[selected_columns]\n",
    "\n",
    "for i in range(1,10):\n",
    "    df_temp = pd.read_csv('StormEvents_' + str(2010 + i) + '.csv.gz', compression = 'gzip')\n",
    "    df = pd.concat([df, df_temp[selected_columns]])\n",
    "   "
   ]
  },
  {
   "cell_type": "code",
   "execution_count": 8,
   "metadata": {},
   "outputs": [
    {
     "data": {
      "text/plain": [
       "(626777, 31)"
      ]
     },
     "execution_count": 8,
     "metadata": {},
     "output_type": "execute_result"
    }
   ],
   "source": [
    "df.shape"
   ]
  },
  {
   "cell_type": "code",
   "execution_count": 9,
   "metadata": {},
   "outputs": [
    {
     "data": {
      "text/html": [
       "<div>\n",
       "<style scoped>\n",
       "    .dataframe tbody tr th:only-of-type {\n",
       "        vertical-align: middle;\n",
       "    }\n",
       "\n",
       "    .dataframe tbody tr th {\n",
       "        vertical-align: top;\n",
       "    }\n",
       "\n",
       "    .dataframe thead th {\n",
       "        text-align: right;\n",
       "    }\n",
       "</style>\n",
       "<table border=\"1\" class=\"dataframe\">\n",
       "  <thead>\n",
       "    <tr style=\"text-align: right;\">\n",
       "      <th></th>\n",
       "      <th>EVENT_ID</th>\n",
       "      <th>STATE</th>\n",
       "      <th>YEAR</th>\n",
       "      <th>MONTH_NAME</th>\n",
       "      <th>EVENT_TYPE</th>\n",
       "      <th>CZ_TYPE</th>\n",
       "      <th>CZ_FIPS</th>\n",
       "      <th>WFO</th>\n",
       "      <th>INJURIES_DIRECT</th>\n",
       "      <th>INJURIES_INDIRECT</th>\n",
       "      <th>...</th>\n",
       "      <th>TOR_OTHER_CZ_STATE</th>\n",
       "      <th>TOR_OTHER_CZ_FIPS</th>\n",
       "      <th>BEGIN_RANGE</th>\n",
       "      <th>END_RANGE</th>\n",
       "      <th>BEGIN_AZIMUTH</th>\n",
       "      <th>END_AZIMUTH</th>\n",
       "      <th>BEGIN_LAT</th>\n",
       "      <th>BEGIN_LON</th>\n",
       "      <th>END_LAT</th>\n",
       "      <th>END_LON</th>\n",
       "    </tr>\n",
       "  </thead>\n",
       "  <tbody>\n",
       "    <tr>\n",
       "      <th>0</th>\n",
       "      <td>254780</td>\n",
       "      <td>NEW HAMPSHIRE</td>\n",
       "      <td>2010</td>\n",
       "      <td>July</td>\n",
       "      <td>Heat</td>\n",
       "      <td>Z</td>\n",
       "      <td>12</td>\n",
       "      <td>BOX</td>\n",
       "      <td>0</td>\n",
       "      <td>0</td>\n",
       "      <td>...</td>\n",
       "      <td>NaN</td>\n",
       "      <td>NaN</td>\n",
       "      <td>NaN</td>\n",
       "      <td>NaN</td>\n",
       "      <td>NaN</td>\n",
       "      <td>NaN</td>\n",
       "      <td>NaN</td>\n",
       "      <td>NaN</td>\n",
       "      <td>NaN</td>\n",
       "      <td>NaN</td>\n",
       "    </tr>\n",
       "    <tr>\n",
       "      <th>1</th>\n",
       "      <td>211550</td>\n",
       "      <td>NEW HAMPSHIRE</td>\n",
       "      <td>2010</td>\n",
       "      <td>January</td>\n",
       "      <td>Heavy Snow</td>\n",
       "      <td>Z</td>\n",
       "      <td>12</td>\n",
       "      <td>BOX</td>\n",
       "      <td>0</td>\n",
       "      <td>0</td>\n",
       "      <td>...</td>\n",
       "      <td>NaN</td>\n",
       "      <td>NaN</td>\n",
       "      <td>NaN</td>\n",
       "      <td>NaN</td>\n",
       "      <td>NaN</td>\n",
       "      <td>NaN</td>\n",
       "      <td>NaN</td>\n",
       "      <td>NaN</td>\n",
       "      <td>NaN</td>\n",
       "      <td>NaN</td>\n",
       "    </tr>\n",
       "    <tr>\n",
       "      <th>2</th>\n",
       "      <td>260014</td>\n",
       "      <td>NEW HAMPSHIRE</td>\n",
       "      <td>2010</td>\n",
       "      <td>October</td>\n",
       "      <td>Strong Wind</td>\n",
       "      <td>Z</td>\n",
       "      <td>12</td>\n",
       "      <td>BOX</td>\n",
       "      <td>0</td>\n",
       "      <td>0</td>\n",
       "      <td>...</td>\n",
       "      <td>NaN</td>\n",
       "      <td>NaN</td>\n",
       "      <td>NaN</td>\n",
       "      <td>NaN</td>\n",
       "      <td>NaN</td>\n",
       "      <td>NaN</td>\n",
       "      <td>NaN</td>\n",
       "      <td>NaN</td>\n",
       "      <td>NaN</td>\n",
       "      <td>NaN</td>\n",
       "    </tr>\n",
       "    <tr>\n",
       "      <th>3</th>\n",
       "      <td>254779</td>\n",
       "      <td>NEW HAMPSHIRE</td>\n",
       "      <td>2010</td>\n",
       "      <td>July</td>\n",
       "      <td>Heat</td>\n",
       "      <td>Z</td>\n",
       "      <td>12</td>\n",
       "      <td>BOX</td>\n",
       "      <td>0</td>\n",
       "      <td>0</td>\n",
       "      <td>...</td>\n",
       "      <td>NaN</td>\n",
       "      <td>NaN</td>\n",
       "      <td>NaN</td>\n",
       "      <td>NaN</td>\n",
       "      <td>NaN</td>\n",
       "      <td>NaN</td>\n",
       "      <td>NaN</td>\n",
       "      <td>NaN</td>\n",
       "      <td>NaN</td>\n",
       "      <td>NaN</td>\n",
       "    </tr>\n",
       "    <tr>\n",
       "      <th>4</th>\n",
       "      <td>273769</td>\n",
       "      <td>NEW HAMPSHIRE</td>\n",
       "      <td>2010</td>\n",
       "      <td>December</td>\n",
       "      <td>Winter Storm</td>\n",
       "      <td>Z</td>\n",
       "      <td>12</td>\n",
       "      <td>BOX</td>\n",
       "      <td>0</td>\n",
       "      <td>0</td>\n",
       "      <td>...</td>\n",
       "      <td>NaN</td>\n",
       "      <td>NaN</td>\n",
       "      <td>NaN</td>\n",
       "      <td>NaN</td>\n",
       "      <td>NaN</td>\n",
       "      <td>NaN</td>\n",
       "      <td>NaN</td>\n",
       "      <td>NaN</td>\n",
       "      <td>NaN</td>\n",
       "      <td>NaN</td>\n",
       "    </tr>\n",
       "  </tbody>\n",
       "</table>\n",
       "<p>5 rows × 31 columns</p>\n",
       "</div>"
      ],
      "text/plain": [
       "   EVENT_ID          STATE  YEAR MONTH_NAME    EVENT_TYPE CZ_TYPE  CZ_FIPS  \\\n",
       "0    254780  NEW HAMPSHIRE  2010       July          Heat       Z       12   \n",
       "1    211550  NEW HAMPSHIRE  2010    January    Heavy Snow       Z       12   \n",
       "2    260014  NEW HAMPSHIRE  2010    October   Strong Wind       Z       12   \n",
       "3    254779  NEW HAMPSHIRE  2010       July          Heat       Z       12   \n",
       "4    273769  NEW HAMPSHIRE  2010   December  Winter Storm       Z       12   \n",
       "\n",
       "   WFO  INJURIES_DIRECT  INJURIES_INDIRECT  ...  TOR_OTHER_CZ_STATE  \\\n",
       "0  BOX                0                  0  ...                 NaN   \n",
       "1  BOX                0                  0  ...                 NaN   \n",
       "2  BOX                0                  0  ...                 NaN   \n",
       "3  BOX                0                  0  ...                 NaN   \n",
       "4  BOX                0                  0  ...                 NaN   \n",
       "\n",
       "   TOR_OTHER_CZ_FIPS BEGIN_RANGE END_RANGE  BEGIN_AZIMUTH END_AZIMUTH  \\\n",
       "0                NaN         NaN       NaN            NaN         NaN   \n",
       "1                NaN         NaN       NaN            NaN         NaN   \n",
       "2                NaN         NaN       NaN            NaN         NaN   \n",
       "3                NaN         NaN       NaN            NaN         NaN   \n",
       "4                NaN         NaN       NaN            NaN         NaN   \n",
       "\n",
       "  BEGIN_LAT BEGIN_LON  END_LAT  END_LON  \n",
       "0       NaN       NaN      NaN      NaN  \n",
       "1       NaN       NaN      NaN      NaN  \n",
       "2       NaN       NaN      NaN      NaN  \n",
       "3       NaN       NaN      NaN      NaN  \n",
       "4       NaN       NaN      NaN      NaN  \n",
       "\n",
       "[5 rows x 31 columns]"
      ]
     },
     "execution_count": 9,
     "metadata": {},
     "output_type": "execute_result"
    }
   ],
   "source": [
    "df.head()"
   ]
  },
  {
   "cell_type": "code",
   "execution_count": 10,
   "metadata": {},
   "outputs": [
    {
     "data": {
      "text/plain": [
       "56"
      ]
     },
     "execution_count": 10,
     "metadata": {},
     "output_type": "execute_result"
    }
   ],
   "source": [
    "df['EVENT_TYPE'].nunique()"
   ]
  },
  {
   "cell_type": "code",
   "execution_count": 11,
   "metadata": {},
   "outputs": [
    {
     "name": "stdout",
     "output_type": "stream",
     "text": [
      "There are 56 storm event types.\n"
     ]
    }
   ],
   "source": [
    "# number of distinct event types\n",
    "print(\"There are {} storm event types.\".format(df['EVENT_TYPE'].nunique()))"
   ]
  },
  {
   "cell_type": "markdown",
   "metadata": {},
   "source": [
    "## Event type\n",
    "#### Which storm events occured most frequently?"
   ]
  },
  {
   "cell_type": "code",
   "execution_count": 12,
   "metadata": {},
   "outputs": [
    {
     "data": {
      "text/plain": [
       "<matplotlib.axes._subplots.AxesSubplot at 0x1a276c2e50>"
      ]
     },
     "execution_count": 12,
     "metadata": {},
     "output_type": "execute_result"
    },
    {
     "data": {
      "image/png": "[encoded data removed]",
      "text/plain": [
       "<Figure size 432x288 with 1 Axes>"
      ]
     },
     "metadata": {
      "needs_background": "light"
     },
     "output_type": "display_data"
    }
   ],
   "source": [
    "df['EVENT_TYPE'].value_counts()[0:10]\\\n",
    ".plot(kind = 'bar', title ='Top 10 Strom Events from 2010 to 2019')"
   ]
  },
  {
   "cell_type": "code",
   "execution_count": 13,
   "metadata": {},
   "outputs": [
    {
     "data": {
      "text/plain": [
       "Thunderstorm Wind           161282\n",
       "Hail                        107302\n",
       "Winter Weather               38299\n",
       "Flash Flood                  38230\n",
       "Drought                      31440\n",
       "Winter Storm                 31105\n",
       "High Wind                    30812\n",
       "Flood                        27977\n",
       "Heavy Snow                   23328\n",
       "Marine Thunderstorm Wind     18380\n",
       "Name: EVENT_TYPE, dtype: int64"
      ]
     },
     "execution_count": 13,
     "metadata": {},
     "output_type": "execute_result"
    }
   ],
   "source": [
    "df['EVENT_TYPE'].value_counts()[:10]"
   ]
  },
  {
   "cell_type": "markdown",
   "metadata": {},
   "source": [
    "# Fatalities"
   ]
  },
  {
   "cell_type": "code",
   "execution_count": 14,
   "metadata": {},
   "outputs": [],
   "source": [
    "def fatality(col_name):\n",
    "    \"\"\" Returns direct, indirect, and total fatalities grouped by col_name. \"\"\"\n",
    "    \n",
    "    df_fatality = df.groupby(col_name).sum()[['DEATHS_DIRECT','DEATHS_INDIRECT']]\n",
    "    df_fatality['DEATHS_TOTAL'] = df_fatality['DEATHS_DIRECT'] \\\n",
    "                                 + df_fatality['DEATHS_INDIRECT']\n",
    "    \n",
    "    return df_fatality    "
   ]
  },
  {
   "cell_type": "markdown",
   "metadata": {},
   "source": [
    "## Direct fatalities by event type\n",
    "\n",
    "#### Which storm events caused the most direct fatalities?"
   ]
  },
  {
   "cell_type": "code",
   "execution_count": 15,
   "metadata": {},
   "outputs": [],
   "source": [
    "df_fatalityD_event = fatality('EVENT_TYPE').sort_values('DEATHS_DIRECT', ascending = False)\n",
    "df_fatalityD_event['cumpercentage'] = df_fatalityD_event['DEATHS_DIRECT']\\\n",
    "                                      .cumsum() / df_fatalityD_event['DEATHS_DIRECT'].sum()*100\n",
    "                                      "
   ]
  },
  {
   "cell_type": "code",
   "execution_count": 16,
   "metadata": {},
   "outputs": [
    {
     "data": {
      "text/html": [
       "<div>\n",
       "<style scoped>\n",
       "    .dataframe tbody tr th:only-of-type {\n",
       "        vertical-align: middle;\n",
       "    }\n",
       "\n",
       "    .dataframe tbody tr th {\n",
       "        vertical-align: top;\n",
       "    }\n",
       "\n",
       "    .dataframe thead th {\n",
       "        text-align: right;\n",
       "    }\n",
       "</style>\n",
       "<table border=\"1\" class=\"dataframe\">\n",
       "  <thead>\n",
       "    <tr style=\"text-align: right;\">\n",
       "      <th></th>\n",
       "      <th>DEATHS_DIRECT</th>\n",
       "      <th>DEATHS_INDIRECT</th>\n",
       "      <th>DEATHS_TOTAL</th>\n",
       "      <th>cumpercentage</th>\n",
       "    </tr>\n",
       "    <tr>\n",
       "      <th>EVENT_TYPE</th>\n",
       "      <th></th>\n",
       "      <th></th>\n",
       "      <th></th>\n",
       "      <th></th>\n",
       "    </tr>\n",
       "  </thead>\n",
       "  <tbody>\n",
       "    <tr>\n",
       "      <th>Tornado</th>\n",
       "      <td>910</td>\n",
       "      <td>26</td>\n",
       "      <td>936</td>\n",
       "      <td>16.290727</td>\n",
       "    </tr>\n",
       "    <tr>\n",
       "      <th>Flash Flood</th>\n",
       "      <td>692</td>\n",
       "      <td>41</td>\n",
       "      <td>733</td>\n",
       "      <td>28.678840</td>\n",
       "    </tr>\n",
       "    <tr>\n",
       "      <th>Excessive Heat</th>\n",
       "      <td>647</td>\n",
       "      <td>129</td>\n",
       "      <td>776</td>\n",
       "      <td>40.261368</td>\n",
       "    </tr>\n",
       "    <tr>\n",
       "      <th>Heat</th>\n",
       "      <td>555</td>\n",
       "      <td>194</td>\n",
       "      <td>749</td>\n",
       "      <td>50.196921</td>\n",
       "    </tr>\n",
       "    <tr>\n",
       "      <th>Rip Current</th>\n",
       "      <td>489</td>\n",
       "      <td>7</td>\n",
       "      <td>496</td>\n",
       "      <td>58.950949</td>\n",
       "    </tr>\n",
       "    <tr>\n",
       "      <th>Thunderstorm Wind</th>\n",
       "      <td>320</td>\n",
       "      <td>59</td>\n",
       "      <td>379</td>\n",
       "      <td>64.679556</td>\n",
       "    </tr>\n",
       "    <tr>\n",
       "      <th>Flood</th>\n",
       "      <td>296</td>\n",
       "      <td>38</td>\n",
       "      <td>334</td>\n",
       "      <td>69.978518</td>\n",
       "    </tr>\n",
       "    <tr>\n",
       "      <th>Lightning</th>\n",
       "      <td>260</td>\n",
       "      <td>30</td>\n",
       "      <td>290</td>\n",
       "      <td>74.633011</td>\n",
       "    </tr>\n",
       "    <tr>\n",
       "      <th>Cold/Wind Chill</th>\n",
       "      <td>260</td>\n",
       "      <td>32</td>\n",
       "      <td>292</td>\n",
       "      <td>79.287504</td>\n",
       "    </tr>\n",
       "    <tr>\n",
       "      <th>Wildfire</th>\n",
       "      <td>190</td>\n",
       "      <td>36</td>\n",
       "      <td>226</td>\n",
       "      <td>82.688865</td>\n",
       "    </tr>\n",
       "  </tbody>\n",
       "</table>\n",
       "</div>"
      ],
      "text/plain": [
       "                   DEATHS_DIRECT  DEATHS_INDIRECT  DEATHS_TOTAL  cumpercentage\n",
       "EVENT_TYPE                                                                    \n",
       "Tornado                      910               26           936      16.290727\n",
       "Flash Flood                  692               41           733      28.678840\n",
       "Excessive Heat               647              129           776      40.261368\n",
       "Heat                         555              194           749      50.196921\n",
       "Rip Current                  489                7           496      58.950949\n",
       "Thunderstorm Wind            320               59           379      64.679556\n",
       "Flood                        296               38           334      69.978518\n",
       "Lightning                    260               30           290      74.633011\n",
       "Cold/Wind Chill              260               32           292      79.287504\n",
       "Wildfire                     190               36           226      82.688865"
      ]
     },
     "execution_count": 16,
     "metadata": {},
     "output_type": "execute_result"
    }
   ],
   "source": [
    "df_fatalityD_event[:10]"
   ]
  },
  {
   "cell_type": "code",
   "execution_count": 17,
   "metadata": {},
   "outputs": [
    {
     "data": {
      "text/plain": [
       "DEATHS_DIRECT      5586.000000\n",
       "DEATHS_INDIRECT    1985.000000\n",
       "DEATHS_TOTAL       7571.000000\n",
       "cumpercentage      5070.676692\n",
       "dtype: float64"
      ]
     },
     "execution_count": 17,
     "metadata": {},
     "output_type": "execute_result"
    }
   ],
   "source": [
    "# total fatalities\n",
    "df_fatalityD_event.sum()"
   ]
  },
  {
   "cell_type": "code",
   "execution_count": 18,
   "metadata": {},
   "outputs": [
    {
     "name": "stdout",
     "output_type": "stream",
     "text": [
      "The total direct fatality is 5586.0.\n"
     ]
    }
   ],
   "source": [
    "print(\"The total direct fatality is {}.\".format(df_fatalityD_event.sum()[0]))"
   ]
  },
  {
   "cell_type": "code",
   "execution_count": 19,
   "metadata": {},
   "outputs": [
    {
     "data": {
      "text/plain": [
       "Index(['Tornado', 'Flash Flood', 'Excessive Heat', 'Heat', 'Rip Current',\n",
       "       'Thunderstorm Wind', 'Flood', 'Lightning', 'Cold/Wind Chill',\n",
       "       'Wildfire', 'Avalanche', 'Strong Wind', 'High Surf', 'High Wind',\n",
       "       'Debris Flow', 'Extreme Cold/Wind Chill', 'Winter Weather',\n",
       "       'Coastal Flood', 'Marine Strong Wind', 'Winter Storm', 'Tropical Storm',\n",
       "       'Blizzard', 'Heavy Rain', 'Marine Thunderstorm Wind', 'Sneakerwave',\n",
       "       'Heavy Snow', 'Storm Surge/Tide', 'Hurricane', 'Dust Storm',\n",
       "       'Hurricane (Typhoon)', 'Freezing Fog', 'Ice Storm', 'Waterspout',\n",
       "       'Lakeshore Flood', 'Marine High Wind', 'Astronomical Low Tide',\n",
       "       'Tsunami', 'Landslide', 'Lake-Effect Snow', 'Tropical Depression',\n",
       "       'Frost/Freeze', 'Dense Fog', 'Dense Smoke', 'Drought',\n",
       "       'Volcanic Ashfall', 'Dust Devil', 'Marine Hurricane/Typhoon',\n",
       "       'Funnel Cloud', 'Marine Lightning', 'Sleet', 'Seiche',\n",
       "       'Marine Dense Fog', 'Marine Tropical Storm',\n",
       "       'Marine Tropical Depression', 'Marine Hail', 'Hail'],\n",
       "      dtype='object', name='EVENT_TYPE')"
      ]
     },
     "execution_count": 19,
     "metadata": {},
     "output_type": "execute_result"
    }
   ],
   "source": [
    "df_fatalityD_event.index"
   ]
  },
  {
   "cell_type": "code",
   "execution_count": 20,
   "metadata": {},
   "outputs": [
    {
     "data": {
      "image/png": "[encoded data removed]",
      "text/plain": [
       "<Figure size 1080x720 with 2 Axes>"
      ]
     },
     "metadata": {
      "needs_background": "light"
     },
     "output_type": "display_data"
    }
   ],
   "source": [
    "# create and save direct_fatalities bar plot\n",
    "\n",
    "fig, axs = plt.subplots(figsize=(15,10))    \n",
    "df_fatalityD_event['DEATHS_DIRECT'][:33].plot(kind = 'bar')\n",
    "axs.set_title('Direct Fatality', fontsize=24)\n",
    "axs.set_xlabel('',fontsize=16)\n",
    "plt.xticks(fontsize=16)\n",
    "plt.yticks(fontsize=16)\n",
    "plt.tight_layout() # to make sure that the ticks are not cut off\n",
    "\n",
    "axs2 = axs.twinx()\n",
    "axs2.yaxis.set_major_formatter(PercentFormatter())\n",
    "axs2.plot(df_fatalityD_event.index, df_fatalityD_event['cumpercentage'],\n",
    "         color=\"C1\", marker=\"D\", ms=7)\n",
    "plt.xticks(fontsize=16)\n",
    "plt.yticks(fontsize=16)\n",
    "plt.tight_layout()\n",
    "fig.savefig('direct_fatalities.png')"
   ]
  },
  {
   "cell_type": "code",
   "execution_count": 21,
   "metadata": {},
   "outputs": [],
   "source": [
    "top5_events = ['Tornado', 'Flash Flood', 'Excessive Heat', 'Heat', 'Rip Current']"
   ]
  },
  {
   "cell_type": "markdown",
   "metadata": {},
   "source": [
    "## Top 5 direct fatalities by year\n",
    "\n",
    "#### What are the yearly direct fatalities caused by the top five storm event types?"
   ]
  },
  {
   "cell_type": "code",
   "execution_count": 22,
   "metadata": {},
   "outputs": [],
   "source": [
    "df_yearly_deaths = df[df['EVENT_TYPE'] == 'Tornado'].groupby('YEAR').sum()['DEATHS_DIRECT']\n",
    "\n",
    "for event in top5_events[1:]:\n",
    "    df_yearly_temp = df[df['EVENT_TYPE'] == event].groupby('YEAR').sum()['DEATHS_DIRECT']\n",
    "    df_yearly_deaths = pd.concat([df_yearly_deaths, df_yearly_temp], axis=1)\n",
    "\n",
    "df_yearly_deaths.columns = top5_events # rename the columns"
   ]
  },
  {
   "cell_type": "code",
   "execution_count": 23,
   "metadata": {},
   "outputs": [
    {
     "data": {
      "text/html": [
       "<div>\n",
       "<style scoped>\n",
       "    .dataframe tbody tr th:only-of-type {\n",
       "        vertical-align: middle;\n",
       "    }\n",
       "\n",
       "    .dataframe tbody tr th {\n",
       "        vertical-align: top;\n",
       "    }\n",
       "\n",
       "    .dataframe thead th {\n",
       "        text-align: right;\n",
       "    }\n",
       "</style>\n",
       "<table border=\"1\" class=\"dataframe\">\n",
       "  <thead>\n",
       "    <tr style=\"text-align: right;\">\n",
       "      <th></th>\n",
       "      <th>Tornado</th>\n",
       "      <th>Flash Flood</th>\n",
       "      <th>Excessive Heat</th>\n",
       "      <th>Heat</th>\n",
       "      <th>Rip Current</th>\n",
       "    </tr>\n",
       "    <tr>\n",
       "      <th>YEAR</th>\n",
       "      <th></th>\n",
       "      <th></th>\n",
       "      <th></th>\n",
       "      <th></th>\n",
       "      <th></th>\n",
       "    </tr>\n",
       "  </thead>\n",
       "  <tbody>\n",
       "    <tr>\n",
       "      <th>2010</th>\n",
       "      <td>45</td>\n",
       "      <td>67</td>\n",
       "      <td>74</td>\n",
       "      <td>64</td>\n",
       "      <td>47</td>\n",
       "    </tr>\n",
       "    <tr>\n",
       "      <th>2011</th>\n",
       "      <td>553</td>\n",
       "      <td>69</td>\n",
       "      <td>127</td>\n",
       "      <td>79</td>\n",
       "      <td>30</td>\n",
       "    </tr>\n",
       "    <tr>\n",
       "      <th>2012</th>\n",
       "      <td>69</td>\n",
       "      <td>18</td>\n",
       "      <td>91</td>\n",
       "      <td>65</td>\n",
       "      <td>38</td>\n",
       "    </tr>\n",
       "    <tr>\n",
       "      <th>2013</th>\n",
       "      <td>55</td>\n",
       "      <td>60</td>\n",
       "      <td>50</td>\n",
       "      <td>42</td>\n",
       "      <td>53</td>\n",
       "    </tr>\n",
       "    <tr>\n",
       "      <th>2014</th>\n",
       "      <td>47</td>\n",
       "      <td>31</td>\n",
       "      <td>5</td>\n",
       "      <td>15</td>\n",
       "      <td>47</td>\n",
       "    </tr>\n",
       "    <tr>\n",
       "      <th>2015</th>\n",
       "      <td>36</td>\n",
       "      <td>142</td>\n",
       "      <td>12</td>\n",
       "      <td>33</td>\n",
       "      <td>46</td>\n",
       "    </tr>\n",
       "    <tr>\n",
       "      <th>2016</th>\n",
       "      <td>18</td>\n",
       "      <td>86</td>\n",
       "      <td>50</td>\n",
       "      <td>44</td>\n",
       "      <td>49</td>\n",
       "    </tr>\n",
       "    <tr>\n",
       "      <th>2017</th>\n",
       "      <td>35</td>\n",
       "      <td>123</td>\n",
       "      <td>54</td>\n",
       "      <td>53</td>\n",
       "      <td>63</td>\n",
       "    </tr>\n",
       "    <tr>\n",
       "      <th>2018</th>\n",
       "      <td>10</td>\n",
       "      <td>54</td>\n",
       "      <td>156</td>\n",
       "      <td>125</td>\n",
       "      <td>59</td>\n",
       "    </tr>\n",
       "    <tr>\n",
       "      <th>2019</th>\n",
       "      <td>42</td>\n",
       "      <td>42</td>\n",
       "      <td>28</td>\n",
       "      <td>35</td>\n",
       "      <td>57</td>\n",
       "    </tr>\n",
       "  </tbody>\n",
       "</table>\n",
       "</div>"
      ],
      "text/plain": [
       "      Tornado  Flash Flood  Excessive Heat  Heat  Rip Current\n",
       "YEAR                                                         \n",
       "2010       45           67              74    64           47\n",
       "2011      553           69             127    79           30\n",
       "2012       69           18              91    65           38\n",
       "2013       55           60              50    42           53\n",
       "2014       47           31               5    15           47\n",
       "2015       36          142              12    33           46\n",
       "2016       18           86              50    44           49\n",
       "2017       35          123              54    53           63\n",
       "2018       10           54             156   125           59\n",
       "2019       42           42              28    35           57"
      ]
     },
     "execution_count": 23,
     "metadata": {},
     "output_type": "execute_result"
    }
   ],
   "source": [
    "df_yearly_deaths"
   ]
  },
  {
   "cell_type": "code",
   "execution_count": 24,
   "metadata": {},
   "outputs": [
    {
     "data": {
      "text/plain": [
       "YEAR\n",
       "2010    297\n",
       "2011    858\n",
       "2012    281\n",
       "2013    260\n",
       "2014    145\n",
       "2015    269\n",
       "2016    247\n",
       "2017    328\n",
       "2018    404\n",
       "2019    204\n",
       "dtype: int64"
      ]
     },
     "execution_count": 24,
     "metadata": {},
     "output_type": "execute_result"
    }
   ],
   "source": [
    "df_yearly_deaths.sum(axis=1)"
   ]
  },
  {
   "cell_type": "code",
   "execution_count": 25,
   "metadata": {},
   "outputs": [
    {
     "data": {
      "text/plain": [
       "Tornado           910\n",
       "Flash Flood       692\n",
       "Excessive Heat    647\n",
       "Heat              555\n",
       "Rip Current       489\n",
       "dtype: int64"
      ]
     },
     "execution_count": 25,
     "metadata": {},
     "output_type": "execute_result"
    }
   ],
   "source": [
    "df_yearly_deaths.sum(axis=0)"
   ]
  },
  {
   "cell_type": "code",
   "execution_count": 26,
   "metadata": {},
   "outputs": [
    {
     "data": {
      "text/plain": [
       "3293"
      ]
     },
     "execution_count": 26,
     "metadata": {},
     "output_type": "execute_result"
    }
   ],
   "source": [
    "df_yearly_deaths.sum().sum()"
   ]
  },
  {
   "cell_type": "code",
   "execution_count": 27,
   "metadata": {},
   "outputs": [
    {
     "name": "stdout",
     "output_type": "stream",
     "text": [
      "The total direct fatality by the top 5 storm events is 3293.\n"
     ]
    }
   ],
   "source": [
    "print(\"The total direct fatality by the top 5 storm events is {}.\" \\\n",
    "      .format(df_yearly_deaths.sum().sum()))"
   ]
  },
  {
   "cell_type": "code",
   "execution_count": 28,
   "metadata": {},
   "outputs": [
    {
     "data": {
      "text/plain": [
       "0.5881824712643678"
      ]
     },
     "execution_count": 28,
     "metadata": {},
     "output_type": "execute_result"
    }
   ],
   "source": [
    "3275/5568"
   ]
  },
  {
   "cell_type": "code",
   "execution_count": 29,
   "metadata": {},
   "outputs": [
    {
     "name": "stdout",
     "output_type": "stream",
     "text": [
      "58.8% of direct fatality was caused by the top 5 strom events.\n"
     ]
    }
   ],
   "source": [
    "print(\"58.8% of direct fatality was caused by the top 5 strom events.\")"
   ]
  },
  {
   "cell_type": "code",
   "execution_count": 30,
   "metadata": {},
   "outputs": [
    {
     "data": {
      "text/html": [
       "<div>\n",
       "<style scoped>\n",
       "    .dataframe tbody tr th:only-of-type {\n",
       "        vertical-align: middle;\n",
       "    }\n",
       "\n",
       "    .dataframe tbody tr th {\n",
       "        vertical-align: top;\n",
       "    }\n",
       "\n",
       "    .dataframe thead th {\n",
       "        text-align: right;\n",
       "    }\n",
       "</style>\n",
       "<table border=\"1\" class=\"dataframe\">\n",
       "  <thead>\n",
       "    <tr style=\"text-align: right;\">\n",
       "      <th></th>\n",
       "      <th>count</th>\n",
       "      <th>mean</th>\n",
       "      <th>std</th>\n",
       "      <th>min</th>\n",
       "      <th>25%</th>\n",
       "      <th>50%</th>\n",
       "      <th>75%</th>\n",
       "      <th>max</th>\n",
       "    </tr>\n",
       "  </thead>\n",
       "  <tbody>\n",
       "    <tr>\n",
       "      <th>Tornado</th>\n",
       "      <td>10.0</td>\n",
       "      <td>91.0</td>\n",
       "      <td>163.206754</td>\n",
       "      <td>10.0</td>\n",
       "      <td>35.25</td>\n",
       "      <td>43.5</td>\n",
       "      <td>53.00</td>\n",
       "      <td>553.0</td>\n",
       "    </tr>\n",
       "    <tr>\n",
       "      <th>Flash Flood</th>\n",
       "      <td>10.0</td>\n",
       "      <td>69.2</td>\n",
       "      <td>38.898158</td>\n",
       "      <td>18.0</td>\n",
       "      <td>45.00</td>\n",
       "      <td>63.5</td>\n",
       "      <td>81.75</td>\n",
       "      <td>142.0</td>\n",
       "    </tr>\n",
       "    <tr>\n",
       "      <th>Excessive Heat</th>\n",
       "      <td>10.0</td>\n",
       "      <td>64.7</td>\n",
       "      <td>48.568508</td>\n",
       "      <td>5.0</td>\n",
       "      <td>33.50</td>\n",
       "      <td>52.0</td>\n",
       "      <td>86.75</td>\n",
       "      <td>156.0</td>\n",
       "    </tr>\n",
       "    <tr>\n",
       "      <th>Heat</th>\n",
       "      <td>10.0</td>\n",
       "      <td>55.5</td>\n",
       "      <td>30.609548</td>\n",
       "      <td>15.0</td>\n",
       "      <td>36.75</td>\n",
       "      <td>48.5</td>\n",
       "      <td>64.75</td>\n",
       "      <td>125.0</td>\n",
       "    </tr>\n",
       "    <tr>\n",
       "      <th>Rip Current</th>\n",
       "      <td>10.0</td>\n",
       "      <td>48.9</td>\n",
       "      <td>9.859570</td>\n",
       "      <td>30.0</td>\n",
       "      <td>46.25</td>\n",
       "      <td>48.0</td>\n",
       "      <td>56.00</td>\n",
       "      <td>63.0</td>\n",
       "    </tr>\n",
       "  </tbody>\n",
       "</table>\n",
       "</div>"
      ],
      "text/plain": [
       "                count  mean         std   min    25%   50%    75%    max\n",
       "Tornado          10.0  91.0  163.206754  10.0  35.25  43.5  53.00  553.0\n",
       "Flash Flood      10.0  69.2   38.898158  18.0  45.00  63.5  81.75  142.0\n",
       "Excessive Heat   10.0  64.7   48.568508   5.0  33.50  52.0  86.75  156.0\n",
       "Heat             10.0  55.5   30.609548  15.0  36.75  48.5  64.75  125.0\n",
       "Rip Current      10.0  48.9    9.859570  30.0  46.25  48.0  56.00   63.0"
      ]
     },
     "execution_count": 30,
     "metadata": {},
     "output_type": "execute_result"
    }
   ],
   "source": [
    "# statistics for the yearly direct fatalities by the top five storm types\n",
    "df_yearly_deaths.describe().transpose()"
   ]
  },
  {
   "cell_type": "code",
   "execution_count": 31,
   "metadata": {},
   "outputs": [
    {
     "data": {
      "image/png": "[encoded data removed]",
      "text/plain": [
       "<Figure size 576x360 with 1 Axes>"
      ]
     },
     "metadata": {
      "needs_background": "light"
     },
     "output_type": "display_data"
    }
   ],
   "source": [
    "# create and save the yearly direct fatalities by the top five storm types box plot\n",
    "fig, axs = plt.subplots(figsize=(8,5))\n",
    "fig = sns.boxplot(data = df_yearly_deaths)\n",
    "axs.set_title('Direct Fatality',fontsize=16)\n",
    "plt.xticks(fontsize=12)\n",
    "plt.yticks(fontsize=12)\n",
    "fig.figure.savefig('direct_boxplt.png')"
   ]
  },
  {
   "cell_type": "code",
   "execution_count": 32,
   "metadata": {},
   "outputs": [
    {
     "data": {
      "image/png": "[encoded data removed]",
      "text/plain": [
       "<Figure size 720x360 with 1 Axes>"
      ]
     },
     "metadata": {
      "needs_background": "light"
     },
     "output_type": "display_data"
    }
   ],
   "source": [
    "# create and save the yearly direct fatalities by the top five storm types stacked bar plot\n",
    "fig, axs = plt.subplots(figsize=(10,5))   \n",
    "df_yearly_deaths.plot(kind = 'bar',stacked = True,ax=axs)\n",
    "axs.set_title('Direct fatality by top 5 storm events', fontsize=16)\n",
    "axs.set_xlabel('')\n",
    "#axs.yaxis.grid(True)\n",
    "plt.xticks(fontsize=14)\n",
    "plt.yticks(fontsize=14)\n",
    "plt.tight_layout()\n",
    "fig.savefig('top5_direct_fatalities.png')"
   ]
  },
  {
   "cell_type": "markdown",
   "metadata": {},
   "source": [
    "### Total fatalities by event type\n",
    "\n",
    "#### Which storm event types caused the most total fatalities?"
   ]
  },
  {
   "cell_type": "code",
   "execution_count": 33,
   "metadata": {},
   "outputs": [],
   "source": [
    "df_fatality_event = fatality('EVENT_TYPE')\\\n",
    "                    .sort_values('DEATHS_TOTAL', ascending = False) # sort by total fatality"
   ]
  },
  {
   "cell_type": "code",
   "execution_count": 34,
   "metadata": {},
   "outputs": [],
   "source": [
    "df_fatality_event['cumpercentage'] = df_fatality_event['DEATHS_TOTAL']\\\n",
    "                                     .cumsum()/df_fatality_event['DEATHS_TOTAL'].sum()*100"
   ]
  },
  {
   "cell_type": "code",
   "execution_count": 35,
   "metadata": {},
   "outputs": [
    {
     "data": {
      "text/html": [
       "<div>\n",
       "<style scoped>\n",
       "    .dataframe tbody tr th:only-of-type {\n",
       "        vertical-align: middle;\n",
       "    }\n",
       "\n",
       "    .dataframe tbody tr th {\n",
       "        vertical-align: top;\n",
       "    }\n",
       "\n",
       "    .dataframe thead th {\n",
       "        text-align: right;\n",
       "    }\n",
       "</style>\n",
       "<table border=\"1\" class=\"dataframe\">\n",
       "  <thead>\n",
       "    <tr style=\"text-align: right;\">\n",
       "      <th></th>\n",
       "      <th>DEATHS_DIRECT</th>\n",
       "      <th>DEATHS_INDIRECT</th>\n",
       "      <th>DEATHS_TOTAL</th>\n",
       "      <th>cumpercentage</th>\n",
       "    </tr>\n",
       "    <tr>\n",
       "      <th>EVENT_TYPE</th>\n",
       "      <th></th>\n",
       "      <th></th>\n",
       "      <th></th>\n",
       "      <th></th>\n",
       "    </tr>\n",
       "  </thead>\n",
       "  <tbody>\n",
       "    <tr>\n",
       "      <th>Tornado</th>\n",
       "      <td>910</td>\n",
       "      <td>26</td>\n",
       "      <td>936</td>\n",
       "      <td>12.362964</td>\n",
       "    </tr>\n",
       "    <tr>\n",
       "      <th>Excessive Heat</th>\n",
       "      <td>647</td>\n",
       "      <td>129</td>\n",
       "      <td>776</td>\n",
       "      <td>22.612601</td>\n",
       "    </tr>\n",
       "    <tr>\n",
       "      <th>Heat</th>\n",
       "      <td>555</td>\n",
       "      <td>194</td>\n",
       "      <td>749</td>\n",
       "      <td>32.505614</td>\n",
       "    </tr>\n",
       "    <tr>\n",
       "      <th>Flash Flood</th>\n",
       "      <td>692</td>\n",
       "      <td>41</td>\n",
       "      <td>733</td>\n",
       "      <td>42.187294</td>\n",
       "    </tr>\n",
       "    <tr>\n",
       "      <th>Winter Weather</th>\n",
       "      <td>56</td>\n",
       "      <td>500</td>\n",
       "      <td>556</td>\n",
       "      <td>49.531106</td>\n",
       "    </tr>\n",
       "    <tr>\n",
       "      <th>Rip Current</th>\n",
       "      <td>489</td>\n",
       "      <td>7</td>\n",
       "      <td>496</td>\n",
       "      <td>56.082420</td>\n",
       "    </tr>\n",
       "    <tr>\n",
       "      <th>Thunderstorm Wind</th>\n",
       "      <td>320</td>\n",
       "      <td>59</td>\n",
       "      <td>379</td>\n",
       "      <td>61.088363</td>\n",
       "    </tr>\n",
       "    <tr>\n",
       "      <th>Flood</th>\n",
       "      <td>296</td>\n",
       "      <td>38</td>\n",
       "      <td>334</td>\n",
       "      <td>65.499934</td>\n",
       "    </tr>\n",
       "    <tr>\n",
       "      <th>Cold/Wind Chill</th>\n",
       "      <td>260</td>\n",
       "      <td>32</td>\n",
       "      <td>292</td>\n",
       "      <td>69.356756</td>\n",
       "    </tr>\n",
       "    <tr>\n",
       "      <th>Lightning</th>\n",
       "      <td>260</td>\n",
       "      <td>30</td>\n",
       "      <td>290</td>\n",
       "      <td>73.187162</td>\n",
       "    </tr>\n",
       "    <tr>\n",
       "      <th>Wildfire</th>\n",
       "      <td>190</td>\n",
       "      <td>36</td>\n",
       "      <td>226</td>\n",
       "      <td>76.172236</td>\n",
       "    </tr>\n",
       "    <tr>\n",
       "      <th>Winter Storm</th>\n",
       "      <td>41</td>\n",
       "      <td>170</td>\n",
       "      <td>211</td>\n",
       "      <td>78.959186</td>\n",
       "    </tr>\n",
       "    <tr>\n",
       "      <th>High Wind</th>\n",
       "      <td>93</td>\n",
       "      <td>70</td>\n",
       "      <td>163</td>\n",
       "      <td>81.112138</td>\n",
       "    </tr>\n",
       "    <tr>\n",
       "      <th>Strong Wind</th>\n",
       "      <td>108</td>\n",
       "      <td>42</td>\n",
       "      <td>150</td>\n",
       "      <td>83.093383</td>\n",
       "    </tr>\n",
       "    <tr>\n",
       "      <th>Avalanche</th>\n",
       "      <td>147</td>\n",
       "      <td>3</td>\n",
       "      <td>150</td>\n",
       "      <td>85.074627</td>\n",
       "    </tr>\n",
       "    <tr>\n",
       "      <th>High Surf</th>\n",
       "      <td>103</td>\n",
       "      <td>15</td>\n",
       "      <td>118</td>\n",
       "      <td>86.633206</td>\n",
       "    </tr>\n",
       "    <tr>\n",
       "      <th>Tropical Storm</th>\n",
       "      <td>36</td>\n",
       "      <td>70</td>\n",
       "      <td>106</td>\n",
       "      <td>88.033285</td>\n",
       "    </tr>\n",
       "    <tr>\n",
       "      <th>Heavy Rain</th>\n",
       "      <td>26</td>\n",
       "      <td>78</td>\n",
       "      <td>104</td>\n",
       "      <td>89.406948</td>\n",
       "    </tr>\n",
       "    <tr>\n",
       "      <th>Heavy Snow</th>\n",
       "      <td>14</td>\n",
       "      <td>86</td>\n",
       "      <td>100</td>\n",
       "      <td>90.727777</td>\n",
       "    </tr>\n",
       "    <tr>\n",
       "      <th>Blizzard</th>\n",
       "      <td>28</td>\n",
       "      <td>69</td>\n",
       "      <td>97</td>\n",
       "      <td>92.008982</td>\n",
       "    </tr>\n",
       "    <tr>\n",
       "      <th>Dense Fog</th>\n",
       "      <td>0</td>\n",
       "      <td>91</td>\n",
       "      <td>91</td>\n",
       "      <td>93.210936</td>\n",
       "    </tr>\n",
       "    <tr>\n",
       "      <th>Debris Flow</th>\n",
       "      <td>75</td>\n",
       "      <td>3</td>\n",
       "      <td>78</td>\n",
       "      <td>94.241183</td>\n",
       "    </tr>\n",
       "    <tr>\n",
       "      <th>Hurricane</th>\n",
       "      <td>9</td>\n",
       "      <td>63</td>\n",
       "      <td>72</td>\n",
       "      <td>95.192181</td>\n",
       "    </tr>\n",
       "    <tr>\n",
       "      <th>Extreme Cold/Wind Chill</th>\n",
       "      <td>60</td>\n",
       "      <td>8</td>\n",
       "      <td>68</td>\n",
       "      <td>96.090345</td>\n",
       "    </tr>\n",
       "    <tr>\n",
       "      <th>Coastal Flood</th>\n",
       "      <td>45</td>\n",
       "      <td>5</td>\n",
       "      <td>50</td>\n",
       "      <td>96.750759</td>\n",
       "    </tr>\n",
       "    <tr>\n",
       "      <th>Marine Strong Wind</th>\n",
       "      <td>41</td>\n",
       "      <td>8</td>\n",
       "      <td>49</td>\n",
       "      <td>97.397966</td>\n",
       "    </tr>\n",
       "    <tr>\n",
       "      <th>Ice Storm</th>\n",
       "      <td>4</td>\n",
       "      <td>34</td>\n",
       "      <td>38</td>\n",
       "      <td>97.899881</td>\n",
       "    </tr>\n",
       "    <tr>\n",
       "      <th>Dust Storm</th>\n",
       "      <td>5</td>\n",
       "      <td>21</td>\n",
       "      <td>26</td>\n",
       "      <td>98.243297</td>\n",
       "    </tr>\n",
       "    <tr>\n",
       "      <th>Marine Thunderstorm Wind</th>\n",
       "      <td>21</td>\n",
       "      <td>0</td>\n",
       "      <td>21</td>\n",
       "      <td>98.520671</td>\n",
       "    </tr>\n",
       "    <tr>\n",
       "      <th>Lake-Effect Snow</th>\n",
       "      <td>1</td>\n",
       "      <td>20</td>\n",
       "      <td>21</td>\n",
       "      <td>98.798045</td>\n",
       "    </tr>\n",
       "    <tr>\n",
       "      <th>Sneakerwave</th>\n",
       "      <td>20</td>\n",
       "      <td>0</td>\n",
       "      <td>20</td>\n",
       "      <td>99.062211</td>\n",
       "    </tr>\n",
       "    <tr>\n",
       "      <th>Freezing Fog</th>\n",
       "      <td>4</td>\n",
       "      <td>11</td>\n",
       "      <td>15</td>\n",
       "      <td>99.260335</td>\n",
       "    </tr>\n",
       "    <tr>\n",
       "      <th>Storm Surge/Tide</th>\n",
       "      <td>14</td>\n",
       "      <td>0</td>\n",
       "      <td>14</td>\n",
       "      <td>99.445252</td>\n",
       "    </tr>\n",
       "    <tr>\n",
       "      <th>Hail</th>\n",
       "      <td>0</td>\n",
       "      <td>8</td>\n",
       "      <td>8</td>\n",
       "      <td>99.550918</td>\n",
       "    </tr>\n",
       "    <tr>\n",
       "      <th>Tropical Depression</th>\n",
       "      <td>1</td>\n",
       "      <td>6</td>\n",
       "      <td>7</td>\n",
       "      <td>99.643376</td>\n",
       "    </tr>\n",
       "    <tr>\n",
       "      <th>Hurricane (Typhoon)</th>\n",
       "      <td>5</td>\n",
       "      <td>1</td>\n",
       "      <td>6</td>\n",
       "      <td>99.722626</td>\n",
       "    </tr>\n",
       "    <tr>\n",
       "      <th>Marine Dense Fog</th>\n",
       "      <td>0</td>\n",
       "      <td>4</td>\n",
       "      <td>4</td>\n",
       "      <td>99.775459</td>\n",
       "    </tr>\n",
       "    <tr>\n",
       "      <th>Marine High Wind</th>\n",
       "      <td>2</td>\n",
       "      <td>1</td>\n",
       "      <td>3</td>\n",
       "      <td>99.815084</td>\n",
       "    </tr>\n",
       "    <tr>\n",
       "      <th>Waterspout</th>\n",
       "      <td>3</td>\n",
       "      <td>0</td>\n",
       "      <td>3</td>\n",
       "      <td>99.854709</td>\n",
       "    </tr>\n",
       "    <tr>\n",
       "      <th>Lakeshore Flood</th>\n",
       "      <td>2</td>\n",
       "      <td>0</td>\n",
       "      <td>2</td>\n",
       "      <td>99.881125</td>\n",
       "    </tr>\n",
       "    <tr>\n",
       "      <th>Frost/Freeze</th>\n",
       "      <td>0</td>\n",
       "      <td>2</td>\n",
       "      <td>2</td>\n",
       "      <td>99.907542</td>\n",
       "    </tr>\n",
       "    <tr>\n",
       "      <th>Dense Smoke</th>\n",
       "      <td>0</td>\n",
       "      <td>2</td>\n",
       "      <td>2</td>\n",
       "      <td>99.933959</td>\n",
       "    </tr>\n",
       "    <tr>\n",
       "      <th>Sleet</th>\n",
       "      <td>0</td>\n",
       "      <td>1</td>\n",
       "      <td>1</td>\n",
       "      <td>99.947167</td>\n",
       "    </tr>\n",
       "    <tr>\n",
       "      <th>Landslide</th>\n",
       "      <td>1</td>\n",
       "      <td>0</td>\n",
       "      <td>1</td>\n",
       "      <td>99.960375</td>\n",
       "    </tr>\n",
       "    <tr>\n",
       "      <th>Tsunami</th>\n",
       "      <td>1</td>\n",
       "      <td>0</td>\n",
       "      <td>1</td>\n",
       "      <td>99.973583</td>\n",
       "    </tr>\n",
       "    <tr>\n",
       "      <th>Dust Devil</th>\n",
       "      <td>0</td>\n",
       "      <td>1</td>\n",
       "      <td>1</td>\n",
       "      <td>99.986792</td>\n",
       "    </tr>\n",
       "    <tr>\n",
       "      <th>Astronomical Low Tide</th>\n",
       "      <td>1</td>\n",
       "      <td>0</td>\n",
       "      <td>1</td>\n",
       "      <td>100.000000</td>\n",
       "    </tr>\n",
       "    <tr>\n",
       "      <th>Marine Tropical Storm</th>\n",
       "      <td>0</td>\n",
       "      <td>0</td>\n",
       "      <td>0</td>\n",
       "      <td>100.000000</td>\n",
       "    </tr>\n",
       "    <tr>\n",
       "      <th>Seiche</th>\n",
       "      <td>0</td>\n",
       "      <td>0</td>\n",
       "      <td>0</td>\n",
       "      <td>100.000000</td>\n",
       "    </tr>\n",
       "    <tr>\n",
       "      <th>Marine Tropical Depression</th>\n",
       "      <td>0</td>\n",
       "      <td>0</td>\n",
       "      <td>0</td>\n",
       "      <td>100.000000</td>\n",
       "    </tr>\n",
       "    <tr>\n",
       "      <th>Marine Lightning</th>\n",
       "      <td>0</td>\n",
       "      <td>0</td>\n",
       "      <td>0</td>\n",
       "      <td>100.000000</td>\n",
       "    </tr>\n",
       "    <tr>\n",
       "      <th>Marine Hurricane/Typhoon</th>\n",
       "      <td>0</td>\n",
       "      <td>0</td>\n",
       "      <td>0</td>\n",
       "      <td>100.000000</td>\n",
       "    </tr>\n",
       "    <tr>\n",
       "      <th>Marine Hail</th>\n",
       "      <td>0</td>\n",
       "      <td>0</td>\n",
       "      <td>0</td>\n",
       "      <td>100.000000</td>\n",
       "    </tr>\n",
       "    <tr>\n",
       "      <th>Funnel Cloud</th>\n",
       "      <td>0</td>\n",
       "      <td>0</td>\n",
       "      <td>0</td>\n",
       "      <td>100.000000</td>\n",
       "    </tr>\n",
       "    <tr>\n",
       "      <th>Volcanic Ashfall</th>\n",
       "      <td>0</td>\n",
       "      <td>0</td>\n",
       "      <td>0</td>\n",
       "      <td>100.000000</td>\n",
       "    </tr>\n",
       "    <tr>\n",
       "      <th>Drought</th>\n",
       "      <td>0</td>\n",
       "      <td>0</td>\n",
       "      <td>0</td>\n",
       "      <td>100.000000</td>\n",
       "    </tr>\n",
       "  </tbody>\n",
       "</table>\n",
       "</div>"
      ],
      "text/plain": [
       "                            DEATHS_DIRECT  DEATHS_INDIRECT  DEATHS_TOTAL  \\\n",
       "EVENT_TYPE                                                                 \n",
       "Tornado                               910               26           936   \n",
       "Excessive Heat                        647              129           776   \n",
       "Heat                                  555              194           749   \n",
       "Flash Flood                           692               41           733   \n",
       "Winter Weather                         56              500           556   \n",
       "Rip Current                           489                7           496   \n",
       "Thunderstorm Wind                     320               59           379   \n",
       "Flood                                 296               38           334   \n",
       "Cold/Wind Chill                       260               32           292   \n",
       "Lightning                             260               30           290   \n",
       "Wildfire                              190               36           226   \n",
       "Winter Storm                           41              170           211   \n",
       "High Wind                              93               70           163   \n",
       "Strong Wind                           108               42           150   \n",
       "Avalanche                             147                3           150   \n",
       "High Surf                             103               15           118   \n",
       "Tropical Storm                         36               70           106   \n",
       "Heavy Rain                             26               78           104   \n",
       "Heavy Snow                             14               86           100   \n",
       "Blizzard                               28               69            97   \n",
       "Dense Fog                               0               91            91   \n",
       "Debris Flow                            75                3            78   \n",
       "Hurricane                               9               63            72   \n",
       "Extreme Cold/Wind Chill                60                8            68   \n",
       "Coastal Flood                          45                5            50   \n",
       "Marine Strong Wind                     41                8            49   \n",
       "Ice Storm                               4               34            38   \n",
       "Dust Storm                              5               21            26   \n",
       "Marine Thunderstorm Wind               21                0            21   \n",
       "Lake-Effect Snow                        1               20            21   \n",
       "Sneakerwave                            20                0            20   \n",
       "Freezing Fog                            4               11            15   \n",
       "Storm Surge/Tide                       14                0            14   \n",
       "Hail                                    0                8             8   \n",
       "Tropical Depression                     1                6             7   \n",
       "Hurricane (Typhoon)                     5                1             6   \n",
       "Marine Dense Fog                        0                4             4   \n",
       "Marine High Wind                        2                1             3   \n",
       "Waterspout                              3                0             3   \n",
       "Lakeshore Flood                         2                0             2   \n",
       "Frost/Freeze                            0                2             2   \n",
       "Dense Smoke                             0                2             2   \n",
       "Sleet                                   0                1             1   \n",
       "Landslide                               1                0             1   \n",
       "Tsunami                                 1                0             1   \n",
       "Dust Devil                              0                1             1   \n",
       "Astronomical Low Tide                   1                0             1   \n",
       "Marine Tropical Storm                   0                0             0   \n",
       "Seiche                                  0                0             0   \n",
       "Marine Tropical Depression              0                0             0   \n",
       "Marine Lightning                        0                0             0   \n",
       "Marine Hurricane/Typhoon                0                0             0   \n",
       "Marine Hail                             0                0             0   \n",
       "Funnel Cloud                            0                0             0   \n",
       "Volcanic Ashfall                        0                0             0   \n",
       "Drought                                 0                0             0   \n",
       "\n",
       "                            cumpercentage  \n",
       "EVENT_TYPE                                 \n",
       "Tornado                         12.362964  \n",
       "Excessive Heat                  22.612601  \n",
       "Heat                            32.505614  \n",
       "Flash Flood                     42.187294  \n",
       "Winter Weather                  49.531106  \n",
       "Rip Current                     56.082420  \n",
       "Thunderstorm Wind               61.088363  \n",
       "Flood                           65.499934  \n",
       "Cold/Wind Chill                 69.356756  \n",
       "Lightning                       73.187162  \n",
       "Wildfire                        76.172236  \n",
       "Winter Storm                    78.959186  \n",
       "High Wind                       81.112138  \n",
       "Strong Wind                     83.093383  \n",
       "Avalanche                       85.074627  \n",
       "High Surf                       86.633206  \n",
       "Tropical Storm                  88.033285  \n",
       "Heavy Rain                      89.406948  \n",
       "Heavy Snow                      90.727777  \n",
       "Blizzard                        92.008982  \n",
       "Dense Fog                       93.210936  \n",
       "Debris Flow                     94.241183  \n",
       "Hurricane                       95.192181  \n",
       "Extreme Cold/Wind Chill         96.090345  \n",
       "Coastal Flood                   96.750759  \n",
       "Marine Strong Wind              97.397966  \n",
       "Ice Storm                       97.899881  \n",
       "Dust Storm                      98.243297  \n",
       "Marine Thunderstorm Wind        98.520671  \n",
       "Lake-Effect Snow                98.798045  \n",
       "Sneakerwave                     99.062211  \n",
       "Freezing Fog                    99.260335  \n",
       "Storm Surge/Tide                99.445252  \n",
       "Hail                            99.550918  \n",
       "Tropical Depression             99.643376  \n",
       "Hurricane (Typhoon)             99.722626  \n",
       "Marine Dense Fog                99.775459  \n",
       "Marine High Wind                99.815084  \n",
       "Waterspout                      99.854709  \n",
       "Lakeshore Flood                 99.881125  \n",
       "Frost/Freeze                    99.907542  \n",
       "Dense Smoke                     99.933959  \n",
       "Sleet                           99.947167  \n",
       "Landslide                       99.960375  \n",
       "Tsunami                         99.973583  \n",
       "Dust Devil                      99.986792  \n",
       "Astronomical Low Tide          100.000000  \n",
       "Marine Tropical Storm          100.000000  \n",
       "Seiche                         100.000000  \n",
       "Marine Tropical Depression     100.000000  \n",
       "Marine Lightning               100.000000  \n",
       "Marine Hurricane/Typhoon       100.000000  \n",
       "Marine Hail                    100.000000  \n",
       "Funnel Cloud                   100.000000  \n",
       "Volcanic Ashfall               100.000000  \n",
       "Drought                        100.000000  "
      ]
     },
     "execution_count": 35,
     "metadata": {},
     "output_type": "execute_result"
    }
   ],
   "source": [
    "df_fatality_event"
   ]
  },
  {
   "cell_type": "code",
   "execution_count": 36,
   "metadata": {},
   "outputs": [
    {
     "data": {
      "text/plain": [
       "DEATHS_DIRECT      5586.000000\n",
       "DEATHS_INDIRECT    1985.000000\n",
       "DEATHS_TOTAL       7571.000000\n",
       "cumpercentage      4897.701757\n",
       "dtype: float64"
      ]
     },
     "execution_count": 36,
     "metadata": {},
     "output_type": "execute_result"
    }
   ],
   "source": [
    "# fatalities\n",
    "df_fatality_event.sum()"
   ]
  },
  {
   "cell_type": "code",
   "execution_count": 37,
   "metadata": {},
   "outputs": [
    {
     "data": {
      "image/png": "[encoded data removed]",
      "text/plain": [
       "<Figure size 1080x720 with 2 Axes>"
      ]
     },
     "metadata": {
      "needs_background": "light"
     },
     "output_type": "display_data"
    }
   ],
   "source": [
    "# create and save total_fatalities bar plot\n",
    "fig, axs = plt.subplots(figsize=(15,10))  \n",
    "df_fatality_event['DEATHS_TOTAL'][:41].plot(kind = 'bar')\n",
    "axs.set_title('Total Fatality', fontsize=24)\n",
    "axs.set_xlabel('',fontsize=16)\n",
    "plt.xticks(fontsize=16)\n",
    "plt.yticks(fontsize=16)\n",
    "plt.tight_layout()\n",
    "\n",
    "axs2 = axs.twinx()\n",
    "axs2.yaxis.set_major_formatter(PercentFormatter())\n",
    "axs2.plot(df_fatality_event.index, df_fatality_event['cumpercentage'],\n",
    "         color=\"C1\", marker=\"D\", ms=7)\n",
    "plt.xticks(fontsize=16)\n",
    "plt.yticks(fontsize=16)\n",
    "plt.tight_layout()\n",
    "\n",
    "fig.savefig('total_fatalities.png')"
   ]
  },
  {
   "cell_type": "code",
   "execution_count": 38,
   "metadata": {},
   "outputs": [
    {
     "data": {
      "text/plain": [
       "EVENT_TYPE\n",
       "Tornado           936\n",
       "Excessive Heat    776\n",
       "Heat              749\n",
       "Flash Flood       733\n",
       "Winter Weather    556\n",
       "Name: DEATHS_TOTAL, dtype: int64"
      ]
     },
     "execution_count": 38,
     "metadata": {},
     "output_type": "execute_result"
    }
   ],
   "source": [
    "df_fatality_event['DEATHS_TOTAL'][:5]"
   ]
  },
  {
   "cell_type": "code",
   "execution_count": 39,
   "metadata": {},
   "outputs": [
    {
     "data": {
      "text/plain": [
       "3750"
      ]
     },
     "execution_count": 39,
     "metadata": {},
     "output_type": "execute_result"
    }
   ],
   "source": [
    "df_fatality_event['DEATHS_TOTAL'][:5].sum()"
   ]
  },
  {
   "cell_type": "code",
   "execution_count": 40,
   "metadata": {},
   "outputs": [
    {
     "data": {
      "text/plain": [
       "0.4939743080386704"
      ]
     },
     "execution_count": 40,
     "metadata": {},
     "output_type": "execute_result"
    }
   ],
   "source": [
    "3730/7551"
   ]
  },
  {
   "cell_type": "markdown",
   "metadata": {},
   "source": [
    "### Total fatalities by state"
   ]
  },
  {
   "cell_type": "code",
   "execution_count": 41,
   "metadata": {},
   "outputs": [],
   "source": [
    "df_fatality_state = fatality('STATE').sort_values('DEATHS_TOTAL', ascending = False)"
   ]
  },
  {
   "cell_type": "code",
   "execution_count": 42,
   "metadata": {},
   "outputs": [
    {
     "data": {
      "text/html": [
       "<div>\n",
       "<style scoped>\n",
       "    .dataframe tbody tr th:only-of-type {\n",
       "        vertical-align: middle;\n",
       "    }\n",
       "\n",
       "    .dataframe tbody tr th {\n",
       "        vertical-align: top;\n",
       "    }\n",
       "\n",
       "    .dataframe thead th {\n",
       "        text-align: right;\n",
       "    }\n",
       "</style>\n",
       "<table border=\"1\" class=\"dataframe\">\n",
       "  <thead>\n",
       "    <tr style=\"text-align: right;\">\n",
       "      <th></th>\n",
       "      <th>DEATHS_DIRECT</th>\n",
       "      <th>DEATHS_INDIRECT</th>\n",
       "      <th>DEATHS_TOTAL</th>\n",
       "    </tr>\n",
       "    <tr>\n",
       "      <th>STATE</th>\n",
       "      <th></th>\n",
       "      <th></th>\n",
       "      <th></th>\n",
       "    </tr>\n",
       "  </thead>\n",
       "  <tbody>\n",
       "    <tr>\n",
       "      <th>TEXAS</th>\n",
       "      <td>467</td>\n",
       "      <td>178</td>\n",
       "      <td>645</td>\n",
       "    </tr>\n",
       "    <tr>\n",
       "      <th>NEVADA</th>\n",
       "      <td>359</td>\n",
       "      <td>173</td>\n",
       "      <td>532</td>\n",
       "    </tr>\n",
       "    <tr>\n",
       "      <th>CALIFORNIA</th>\n",
       "      <td>342</td>\n",
       "      <td>94</td>\n",
       "      <td>436</td>\n",
       "    </tr>\n",
       "    <tr>\n",
       "      <th>FLORIDA</th>\n",
       "      <td>281</td>\n",
       "      <td>140</td>\n",
       "      <td>421</td>\n",
       "    </tr>\n",
       "    <tr>\n",
       "      <th>ALABAMA</th>\n",
       "      <td>361</td>\n",
       "      <td>36</td>\n",
       "      <td>397</td>\n",
       "    </tr>\n",
       "  </tbody>\n",
       "</table>\n",
       "</div>"
      ],
      "text/plain": [
       "            DEATHS_DIRECT  DEATHS_INDIRECT  DEATHS_TOTAL\n",
       "STATE                                                   \n",
       "TEXAS                 467              178           645\n",
       "NEVADA                359              173           532\n",
       "CALIFORNIA            342               94           436\n",
       "FLORIDA               281              140           421\n",
       "ALABAMA               361               36           397"
      ]
     },
     "execution_count": 42,
     "metadata": {},
     "output_type": "execute_result"
    }
   ],
   "source": [
    "df_fatality_state.head()"
   ]
  },
  {
   "cell_type": "code",
   "execution_count": 43,
   "metadata": {},
   "outputs": [
    {
     "data": {
      "image/png": "[encoded data removed]",
      "text/plain": [
       "<Figure size 1080x504 with 1 Axes>"
      ]
     },
     "metadata": {
      "needs_background": "light"
     },
     "output_type": "display_data"
    }
   ],
   "source": [
    "fig, axs = plt.subplots(figsize=(15,7))  \n",
    "df_fatality_state['DEATHS_TOTAL'].plot(kind = 'bar')\n",
    "axs.set_title('Total Fatalities')\n",
    "plt.tight_layout()"
   ]
  },
  {
   "cell_type": "markdown",
   "metadata": {},
   "source": [
    "### Total fatalities by year"
   ]
  },
  {
   "cell_type": "code",
   "execution_count": 44,
   "metadata": {},
   "outputs": [],
   "source": [
    "df_fatality_year = fatality('YEAR').sort_values('DEATHS_TOTAL', ascending = False)"
   ]
  },
  {
   "cell_type": "code",
   "execution_count": 45,
   "metadata": {},
   "outputs": [
    {
     "data": {
      "text/html": [
       "<div>\n",
       "<style scoped>\n",
       "    .dataframe tbody tr th:only-of-type {\n",
       "        vertical-align: middle;\n",
       "    }\n",
       "\n",
       "    .dataframe tbody tr th {\n",
       "        vertical-align: top;\n",
       "    }\n",
       "\n",
       "    .dataframe thead th {\n",
       "        text-align: right;\n",
       "    }\n",
       "</style>\n",
       "<table border=\"1\" class=\"dataframe\">\n",
       "  <thead>\n",
       "    <tr style=\"text-align: right;\">\n",
       "      <th></th>\n",
       "      <th>DEATHS_DIRECT</th>\n",
       "      <th>DEATHS_INDIRECT</th>\n",
       "      <th>DEATHS_TOTAL</th>\n",
       "    </tr>\n",
       "    <tr>\n",
       "      <th>YEAR</th>\n",
       "      <th></th>\n",
       "      <th></th>\n",
       "      <th></th>\n",
       "    </tr>\n",
       "  </thead>\n",
       "  <tbody>\n",
       "    <tr>\n",
       "      <th>2011</th>\n",
       "      <td>1096</td>\n",
       "      <td>240</td>\n",
       "      <td>1336</td>\n",
       "    </tr>\n",
       "    <tr>\n",
       "      <th>2018</th>\n",
       "      <td>728</td>\n",
       "      <td>315</td>\n",
       "      <td>1043</td>\n",
       "    </tr>\n",
       "    <tr>\n",
       "      <th>2017</th>\n",
       "      <td>491</td>\n",
       "      <td>230</td>\n",
       "      <td>721</td>\n",
       "    </tr>\n",
       "    <tr>\n",
       "      <th>2012</th>\n",
       "      <td>537</td>\n",
       "      <td>170</td>\n",
       "      <td>707</td>\n",
       "    </tr>\n",
       "    <tr>\n",
       "      <th>2015</th>\n",
       "      <td>536</td>\n",
       "      <td>165</td>\n",
       "      <td>701</td>\n",
       "    </tr>\n",
       "  </tbody>\n",
       "</table>\n",
       "</div>"
      ],
      "text/plain": [
       "      DEATHS_DIRECT  DEATHS_INDIRECT  DEATHS_TOTAL\n",
       "YEAR                                              \n",
       "2011           1096              240          1336\n",
       "2018            728              315          1043\n",
       "2017            491              230           721\n",
       "2012            537              170           707\n",
       "2015            536              165           701"
      ]
     },
     "execution_count": 45,
     "metadata": {},
     "output_type": "execute_result"
    }
   ],
   "source": [
    "df_fatality_year.head()"
   ]
  },
  {
   "cell_type": "code",
   "execution_count": 46,
   "metadata": {},
   "outputs": [
    {
     "data": {
      "text/plain": [
       "<matplotlib.axes._subplots.AxesSubplot at 0x10b93cb90>"
      ]
     },
     "execution_count": 46,
     "metadata": {},
     "output_type": "execute_result"
    },
    {
     "data": {
      "image/png": "[encoded data removed]",
      "text/plain": [
       "<Figure size 432x288 with 1 Axes>"
      ]
     },
     "metadata": {
      "needs_background": "light"
     },
     "output_type": "display_data"
    }
   ],
   "source": [
    "df_fatality_year['DEATHS_TOTAL'] \\\n",
    ".plot(kind = 'bar', title = 'Total Fatalities')"
   ]
  },
  {
   "cell_type": "markdown",
   "metadata": {},
   "source": [
    "# Property Damage"
   ]
  },
  {
   "cell_type": "code",
   "execution_count": 47,
   "metadata": {},
   "outputs": [],
   "source": [
    "df_damage = df[['EVENT_ID','STATE','EVENT_TYPE','YEAR','MONTH_NAME','DAMAGE_PROPERTY']]"
   ]
  },
  {
   "cell_type": "code",
   "execution_count": 48,
   "metadata": {},
   "outputs": [
    {
     "data": {
      "text/plain": [
       "EVENT_ID           626777\n",
       "STATE              626777\n",
       "EVENT_TYPE         626777\n",
       "YEAR               626777\n",
       "MONTH_NAME         626777\n",
       "DAMAGE_PROPERTY    513777\n",
       "dtype: int64"
      ]
     },
     "execution_count": 48,
     "metadata": {},
     "output_type": "execute_result"
    }
   ],
   "source": [
    "# check for null values\n",
    "df_damage.count()"
   ]
  },
  {
   "cell_type": "code",
   "execution_count": 49,
   "metadata": {
    "scrolled": true
   },
   "outputs": [
    {
     "data": {
      "text/plain": [
       "113000"
      ]
     },
     "execution_count": 49,
     "metadata": {},
     "output_type": "execute_result"
    }
   ],
   "source": [
    "# number of missing values for DAMAGE_PROPERTY\n",
    "626677-513677"
   ]
  },
  {
   "cell_type": "code",
   "execution_count": 50,
   "metadata": {},
   "outputs": [],
   "source": [
    "# drop null values\n",
    "df_damage = df_damage.dropna()"
   ]
  },
  {
   "cell_type": "code",
   "execution_count": 51,
   "metadata": {},
   "outputs": [
    {
     "data": {
      "text/plain": [
       "(513777, 6)"
      ]
     },
     "execution_count": 51,
     "metadata": {},
     "output_type": "execute_result"
    }
   ],
   "source": [
    "df_damage.shape"
   ]
  },
  {
   "cell_type": "code",
   "execution_count": 52,
   "metadata": {},
   "outputs": [
    {
     "data": {
      "text/html": [
       "<div>\n",
       "<style scoped>\n",
       "    .dataframe tbody tr th:only-of-type {\n",
       "        vertical-align: middle;\n",
       "    }\n",
       "\n",
       "    .dataframe tbody tr th {\n",
       "        vertical-align: top;\n",
       "    }\n",
       "\n",
       "    .dataframe thead th {\n",
       "        text-align: right;\n",
       "    }\n",
       "</style>\n",
       "<table border=\"1\" class=\"dataframe\">\n",
       "  <thead>\n",
       "    <tr style=\"text-align: right;\">\n",
       "      <th></th>\n",
       "      <th>EVENT_ID</th>\n",
       "      <th>STATE</th>\n",
       "      <th>EVENT_TYPE</th>\n",
       "      <th>YEAR</th>\n",
       "      <th>MONTH_NAME</th>\n",
       "      <th>DAMAGE_PROPERTY</th>\n",
       "    </tr>\n",
       "  </thead>\n",
       "  <tbody>\n",
       "    <tr>\n",
       "      <th>0</th>\n",
       "      <td>254780</td>\n",
       "      <td>NEW HAMPSHIRE</td>\n",
       "      <td>Heat</td>\n",
       "      <td>2010</td>\n",
       "      <td>July</td>\n",
       "      <td>0.00K</td>\n",
       "    </tr>\n",
       "    <tr>\n",
       "      <th>1</th>\n",
       "      <td>211550</td>\n",
       "      <td>NEW HAMPSHIRE</td>\n",
       "      <td>Heavy Snow</td>\n",
       "      <td>2010</td>\n",
       "      <td>January</td>\n",
       "      <td>0.00K</td>\n",
       "    </tr>\n",
       "    <tr>\n",
       "      <th>2</th>\n",
       "      <td>260014</td>\n",
       "      <td>NEW HAMPSHIRE</td>\n",
       "      <td>Strong Wind</td>\n",
       "      <td>2010</td>\n",
       "      <td>October</td>\n",
       "      <td>50.00K</td>\n",
       "    </tr>\n",
       "    <tr>\n",
       "      <th>3</th>\n",
       "      <td>254779</td>\n",
       "      <td>NEW HAMPSHIRE</td>\n",
       "      <td>Heat</td>\n",
       "      <td>2010</td>\n",
       "      <td>July</td>\n",
       "      <td>0.00K</td>\n",
       "    </tr>\n",
       "    <tr>\n",
       "      <th>4</th>\n",
       "      <td>273769</td>\n",
       "      <td>NEW HAMPSHIRE</td>\n",
       "      <td>Winter Storm</td>\n",
       "      <td>2010</td>\n",
       "      <td>December</td>\n",
       "      <td>0.00K</td>\n",
       "    </tr>\n",
       "  </tbody>\n",
       "</table>\n",
       "</div>"
      ],
      "text/plain": [
       "   EVENT_ID          STATE    EVENT_TYPE  YEAR MONTH_NAME DAMAGE_PROPERTY\n",
       "0    254780  NEW HAMPSHIRE          Heat  2010       July           0.00K\n",
       "1    211550  NEW HAMPSHIRE    Heavy Snow  2010    January           0.00K\n",
       "2    260014  NEW HAMPSHIRE   Strong Wind  2010    October          50.00K\n",
       "3    254779  NEW HAMPSHIRE          Heat  2010       July           0.00K\n",
       "4    273769  NEW HAMPSHIRE  Winter Storm  2010   December           0.00K"
      ]
     },
     "execution_count": 52,
     "metadata": {},
     "output_type": "execute_result"
    }
   ],
   "source": [
    "df_damage.head()"
   ]
  },
  {
   "cell_type": "code",
   "execution_count": 53,
   "metadata": {},
   "outputs": [
    {
     "data": {
      "text/html": [
       "<div>\n",
       "<style scoped>\n",
       "    .dataframe tbody tr th:only-of-type {\n",
       "        vertical-align: middle;\n",
       "    }\n",
       "\n",
       "    .dataframe tbody tr th {\n",
       "        vertical-align: top;\n",
       "    }\n",
       "\n",
       "    .dataframe thead th {\n",
       "        text-align: right;\n",
       "    }\n",
       "</style>\n",
       "<table border=\"1\" class=\"dataframe\">\n",
       "  <thead>\n",
       "    <tr style=\"text-align: right;\">\n",
       "      <th></th>\n",
       "      <th>EVENT_ID</th>\n",
       "      <th>STATE</th>\n",
       "      <th>EVENT_TYPE</th>\n",
       "      <th>YEAR</th>\n",
       "      <th>MONTH_NAME</th>\n",
       "      <th>DAMAGE_PROPERTY</th>\n",
       "    </tr>\n",
       "  </thead>\n",
       "  <tbody>\n",
       "    <tr>\n",
       "      <th>70113</th>\n",
       "      <td>340690</td>\n",
       "      <td>MICHIGAN</td>\n",
       "      <td>Flash Flood</td>\n",
       "      <td>2011</td>\n",
       "      <td>July</td>\n",
       "      <td>0.00</td>\n",
       "    </tr>\n",
       "  </tbody>\n",
       "</table>\n",
       "</div>"
      ],
      "text/plain": [
       "       EVENT_ID     STATE   EVENT_TYPE  YEAR MONTH_NAME DAMAGE_PROPERTY\n",
       "70113    340690  MICHIGAN  Flash Flood  2011       July            0.00"
      ]
     },
     "execution_count": 53,
     "metadata": {},
     "output_type": "execute_result"
    }
   ],
   "source": [
    "# check if any DAMAGE_PROPERTY values are without K, M, or B\n",
    "df_damage[df_damage['DAMAGE_PROPERTY'].str.contains('K|M|B')== False]"
   ]
  },
  {
   "cell_type": "code",
   "execution_count": 54,
   "metadata": {},
   "outputs": [],
   "source": [
    "df_damage_1 = df_damage[df_damage['DAMAGE_PROPERTY'].str.contains('K|M|B')== True].copy()"
   ]
  },
  {
   "cell_type": "code",
   "execution_count": 55,
   "metadata": {},
   "outputs": [
    {
     "data": {
      "text/plain": [
       "(513776, 6)"
      ]
     },
     "execution_count": 55,
     "metadata": {},
     "output_type": "execute_result"
    }
   ],
   "source": [
    "df_damage_1.shape"
   ]
  },
  {
   "cell_type": "code",
   "execution_count": 56,
   "metadata": {},
   "outputs": [],
   "source": [
    "# Create a numeric column for DAMAGE_PROPERTY in billion. \n",
    "dict_1 ={'K':0.000001, 'M':0.001, 'B':1}\n",
    "\n",
    "df_damage_1['DAMAGE_PROPERTY_billion'] = df_damage_1['DAMAGE_PROPERTY']\\\n",
    "                                        .transform(lambda x: float(x[:-1]) * dict_1[x[-1]])"
   ]
  },
  {
   "cell_type": "markdown",
   "metadata": {},
   "source": [
    "## Billion-dollar storm events"
   ]
  },
  {
   "cell_type": "code",
   "execution_count": 57,
   "metadata": {},
   "outputs": [
    {
     "data": {
      "text/html": [
       "<div>\n",
       "<style scoped>\n",
       "    .dataframe tbody tr th:only-of-type {\n",
       "        vertical-align: middle;\n",
       "    }\n",
       "\n",
       "    .dataframe tbody tr th {\n",
       "        vertical-align: top;\n",
       "    }\n",
       "\n",
       "    .dataframe thead th {\n",
       "        text-align: right;\n",
       "    }\n",
       "</style>\n",
       "<table border=\"1\" class=\"dataframe\">\n",
       "  <thead>\n",
       "    <tr style=\"text-align: right;\">\n",
       "      <th></th>\n",
       "      <th>EVENT_ID</th>\n",
       "      <th>STATE</th>\n",
       "      <th>EVENT_TYPE</th>\n",
       "      <th>YEAR</th>\n",
       "      <th>MONTH_NAME</th>\n",
       "      <th>DAMAGE_PROPERTY</th>\n",
       "      <th>DAMAGE_PROPERTY_billion</th>\n",
       "    </tr>\n",
       "  </thead>\n",
       "  <tbody>\n",
       "    <tr>\n",
       "      <th>33321</th>\n",
       "      <td>788675</td>\n",
       "      <td>CALIFORNIA</td>\n",
       "      <td>Wildfire</td>\n",
       "      <td>2018</td>\n",
       "      <td>November</td>\n",
       "      <td>17.00B</td>\n",
       "      <td>17.00</td>\n",
       "    </tr>\n",
       "    <tr>\n",
       "      <th>56447</th>\n",
       "      <td>720861</td>\n",
       "      <td>TEXAS</td>\n",
       "      <td>Flash Flood</td>\n",
       "      <td>2017</td>\n",
       "      <td>August</td>\n",
       "      <td>10.00B</td>\n",
       "      <td>10.00</td>\n",
       "    </tr>\n",
       "    <tr>\n",
       "      <th>55840</th>\n",
       "      <td>720871</td>\n",
       "      <td>TEXAS</td>\n",
       "      <td>Flash Flood</td>\n",
       "      <td>2017</td>\n",
       "      <td>August</td>\n",
       "      <td>10.00B</td>\n",
       "      <td>10.00</td>\n",
       "    </tr>\n",
       "    <tr>\n",
       "      <th>55657</th>\n",
       "      <td>720852</td>\n",
       "      <td>TEXAS</td>\n",
       "      <td>Flash Flood</td>\n",
       "      <td>2017</td>\n",
       "      <td>August</td>\n",
       "      <td>8.00B</td>\n",
       "      <td>8.00</td>\n",
       "    </tr>\n",
       "    <tr>\n",
       "      <th>19923</th>\n",
       "      <td>416942</td>\n",
       "      <td>NEW JERSEY</td>\n",
       "      <td>Coastal Flood</td>\n",
       "      <td>2012</td>\n",
       "      <td>October</td>\n",
       "      <td>7.50B</td>\n",
       "      <td>7.50</td>\n",
       "    </tr>\n",
       "    <tr>\n",
       "      <th>55831</th>\n",
       "      <td>728349</td>\n",
       "      <td>TEXAS</td>\n",
       "      <td>Flash Flood</td>\n",
       "      <td>2017</td>\n",
       "      <td>August</td>\n",
       "      <td>7.00B</td>\n",
       "      <td>7.00</td>\n",
       "    </tr>\n",
       "    <tr>\n",
       "      <th>20182</th>\n",
       "      <td>416946</td>\n",
       "      <td>NEW JERSEY</td>\n",
       "      <td>Coastal Flood</td>\n",
       "      <td>2012</td>\n",
       "      <td>October</td>\n",
       "      <td>5.00B</td>\n",
       "      <td>5.00</td>\n",
       "    </tr>\n",
       "    <tr>\n",
       "      <th>20183</th>\n",
       "      <td>416948</td>\n",
       "      <td>NEW JERSEY</td>\n",
       "      <td>Coastal Flood</td>\n",
       "      <td>2012</td>\n",
       "      <td>October</td>\n",
       "      <td>5.00B</td>\n",
       "      <td>5.00</td>\n",
       "    </tr>\n",
       "    <tr>\n",
       "      <th>37016</th>\n",
       "      <td>719342</td>\n",
       "      <td>TEXAS</td>\n",
       "      <td>Flash Flood</td>\n",
       "      <td>2017</td>\n",
       "      <td>August</td>\n",
       "      <td>3.00B</td>\n",
       "      <td>3.00</td>\n",
       "    </tr>\n",
       "    <tr>\n",
       "      <th>37812</th>\n",
       "      <td>296617</td>\n",
       "      <td>MISSOURI</td>\n",
       "      <td>Tornado</td>\n",
       "      <td>2011</td>\n",
       "      <td>May</td>\n",
       "      <td>2.80B</td>\n",
       "      <td>2.80</td>\n",
       "    </tr>\n",
       "    <tr>\n",
       "      <th>19924</th>\n",
       "      <td>416943</td>\n",
       "      <td>NEW JERSEY</td>\n",
       "      <td>Coastal Flood</td>\n",
       "      <td>2012</td>\n",
       "      <td>October</td>\n",
       "      <td>2.50B</td>\n",
       "      <td>2.50</td>\n",
       "    </tr>\n",
       "    <tr>\n",
       "      <th>370</th>\n",
       "      <td>749456</td>\n",
       "      <td>PUERTO RICO</td>\n",
       "      <td>Flash Flood</td>\n",
       "      <td>2017</td>\n",
       "      <td>September</td>\n",
       "      <td>2.50B</td>\n",
       "      <td>2.50</td>\n",
       "    </tr>\n",
       "    <tr>\n",
       "      <th>50207</th>\n",
       "      <td>684770</td>\n",
       "      <td>COLORADO</td>\n",
       "      <td>Hail</td>\n",
       "      <td>2017</td>\n",
       "      <td>May</td>\n",
       "      <td>2.30B</td>\n",
       "      <td>2.30</td>\n",
       "    </tr>\n",
       "    <tr>\n",
       "      <th>55815</th>\n",
       "      <td>720865</td>\n",
       "      <td>TEXAS</td>\n",
       "      <td>Flash Flood</td>\n",
       "      <td>2017</td>\n",
       "      <td>August</td>\n",
       "      <td>2.00B</td>\n",
       "      <td>2.00</td>\n",
       "    </tr>\n",
       "    <tr>\n",
       "      <th>38775</th>\n",
       "      <td>659430</td>\n",
       "      <td>FLORIDA</td>\n",
       "      <td>Tropical Storm</td>\n",
       "      <td>2016</td>\n",
       "      <td>October</td>\n",
       "      <td>2.00B</td>\n",
       "      <td>2.00</td>\n",
       "    </tr>\n",
       "    <tr>\n",
       "      <th>59465</th>\n",
       "      <td>451572</td>\n",
       "      <td>OKLAHOMA</td>\n",
       "      <td>Tornado</td>\n",
       "      <td>2013</td>\n",
       "      <td>May</td>\n",
       "      <td>2.00B</td>\n",
       "      <td>2.00</td>\n",
       "    </tr>\n",
       "    <tr>\n",
       "      <th>76433</th>\n",
       "      <td>320303</td>\n",
       "      <td>TENNESSEE</td>\n",
       "      <td>Flood</td>\n",
       "      <td>2011</td>\n",
       "      <td>May</td>\n",
       "      <td>2.00B</td>\n",
       "      <td>2.00</td>\n",
       "    </tr>\n",
       "    <tr>\n",
       "      <th>52784</th>\n",
       "      <td>266216</td>\n",
       "      <td>ARIZONA</td>\n",
       "      <td>Hail</td>\n",
       "      <td>2010</td>\n",
       "      <td>October</td>\n",
       "      <td>1.80B</td>\n",
       "      <td>1.80</td>\n",
       "    </tr>\n",
       "    <tr>\n",
       "      <th>55888</th>\n",
       "      <td>718519</td>\n",
       "      <td>TEXAS</td>\n",
       "      <td>Hurricane</td>\n",
       "      <td>2017</td>\n",
       "      <td>August</td>\n",
       "      <td>1.75B</td>\n",
       "      <td>1.75</td>\n",
       "    </tr>\n",
       "    <tr>\n",
       "      <th>34015</th>\n",
       "      <td>656856</td>\n",
       "      <td>LOUISIANA</td>\n",
       "      <td>Flood</td>\n",
       "      <td>2016</td>\n",
       "      <td>August</td>\n",
       "      <td>1.68B</td>\n",
       "      <td>1.68</td>\n",
       "    </tr>\n",
       "    <tr>\n",
       "      <th>27808</th>\n",
       "      <td>856409</td>\n",
       "      <td>TEXAS</td>\n",
       "      <td>Tornado</td>\n",
       "      <td>2019</td>\n",
       "      <td>October</td>\n",
       "      <td>1.55B</td>\n",
       "      <td>1.55</td>\n",
       "    </tr>\n",
       "    <tr>\n",
       "      <th>55748</th>\n",
       "      <td>226199</td>\n",
       "      <td>TENNESSEE</td>\n",
       "      <td>Flood</td>\n",
       "      <td>2010</td>\n",
       "      <td>May</td>\n",
       "      <td>1.50B</td>\n",
       "      <td>1.50</td>\n",
       "    </tr>\n",
       "    <tr>\n",
       "      <th>41068</th>\n",
       "      <td>719489</td>\n",
       "      <td>TEXAS</td>\n",
       "      <td>Flash Flood</td>\n",
       "      <td>2017</td>\n",
       "      <td>August</td>\n",
       "      <td>1.50B</td>\n",
       "      <td>1.50</td>\n",
       "    </tr>\n",
       "    <tr>\n",
       "      <th>19677</th>\n",
       "      <td>416960</td>\n",
       "      <td>NEW JERSEY</td>\n",
       "      <td>High Wind</td>\n",
       "      <td>2012</td>\n",
       "      <td>October</td>\n",
       "      <td>1.50B</td>\n",
       "      <td>1.50</td>\n",
       "    </tr>\n",
       "    <tr>\n",
       "      <th>71951</th>\n",
       "      <td>314662</td>\n",
       "      <td>ALABAMA</td>\n",
       "      <td>Tornado</td>\n",
       "      <td>2011</td>\n",
       "      <td>April</td>\n",
       "      <td>1.50B</td>\n",
       "      <td>1.50</td>\n",
       "    </tr>\n",
       "    <tr>\n",
       "      <th>54945</th>\n",
       "      <td>774715</td>\n",
       "      <td>CALIFORNIA</td>\n",
       "      <td>Wildfire</td>\n",
       "      <td>2018</td>\n",
       "      <td>July</td>\n",
       "      <td>1.50B</td>\n",
       "      <td>1.50</td>\n",
       "    </tr>\n",
       "    <tr>\n",
       "      <th>36162</th>\n",
       "      <td>623870</td>\n",
       "      <td>TEXAS</td>\n",
       "      <td>Hail</td>\n",
       "      <td>2016</td>\n",
       "      <td>April</td>\n",
       "      <td>1.36B</td>\n",
       "      <td>1.36</td>\n",
       "    </tr>\n",
       "    <tr>\n",
       "      <th>33378</th>\n",
       "      <td>655862</td>\n",
       "      <td>LOUISIANA</td>\n",
       "      <td>Flood</td>\n",
       "      <td>2016</td>\n",
       "      <td>August</td>\n",
       "      <td>1.34B</td>\n",
       "      <td>1.34</td>\n",
       "    </tr>\n",
       "    <tr>\n",
       "      <th>33907</th>\n",
       "      <td>538943</td>\n",
       "      <td>MICHIGAN</td>\n",
       "      <td>Flash Flood</td>\n",
       "      <td>2014</td>\n",
       "      <td>August</td>\n",
       "      <td>1.10B</td>\n",
       "      <td>1.10</td>\n",
       "    </tr>\n",
       "    <tr>\n",
       "      <th>35395</th>\n",
       "      <td>657049</td>\n",
       "      <td>LOUISIANA</td>\n",
       "      <td>Flood</td>\n",
       "      <td>2016</td>\n",
       "      <td>August</td>\n",
       "      <td>1.07B</td>\n",
       "      <td>1.07</td>\n",
       "    </tr>\n",
       "    <tr>\n",
       "      <th>49811</th>\n",
       "      <td>723658</td>\n",
       "      <td>TEXAS</td>\n",
       "      <td>Tropical Storm</td>\n",
       "      <td>2017</td>\n",
       "      <td>August</td>\n",
       "      <td>1.00B</td>\n",
       "      <td>1.00</td>\n",
       "    </tr>\n",
       "    <tr>\n",
       "      <th>55812</th>\n",
       "      <td>720925</td>\n",
       "      <td>TEXAS</td>\n",
       "      <td>Hurricane</td>\n",
       "      <td>2017</td>\n",
       "      <td>August</td>\n",
       "      <td>1.00B</td>\n",
       "      <td>1.00</td>\n",
       "    </tr>\n",
       "    <tr>\n",
       "      <th>37974</th>\n",
       "      <td>603502</td>\n",
       "      <td>TEXAS</td>\n",
       "      <td>Flash Flood</td>\n",
       "      <td>2015</td>\n",
       "      <td>October</td>\n",
       "      <td>1.00B</td>\n",
       "      <td>1.00</td>\n",
       "    </tr>\n",
       "    <tr>\n",
       "      <th>63483</th>\n",
       "      <td>301902</td>\n",
       "      <td>ALABAMA</td>\n",
       "      <td>Tornado</td>\n",
       "      <td>2011</td>\n",
       "      <td>April</td>\n",
       "      <td>1.00B</td>\n",
       "      <td>1.00</td>\n",
       "    </tr>\n",
       "    <tr>\n",
       "      <th>62969</th>\n",
       "      <td>320293</td>\n",
       "      <td>MISSISSIPPI</td>\n",
       "      <td>Flood</td>\n",
       "      <td>2011</td>\n",
       "      <td>May</td>\n",
       "      <td>1.00B</td>\n",
       "      <td>1.00</td>\n",
       "    </tr>\n",
       "    <tr>\n",
       "      <th>52754</th>\n",
       "      <td>786760</td>\n",
       "      <td>NORTH CAROLINA</td>\n",
       "      <td>Hurricane</td>\n",
       "      <td>2018</td>\n",
       "      <td>September</td>\n",
       "      <td>1.00B</td>\n",
       "      <td>1.00</td>\n",
       "    </tr>\n",
       "  </tbody>\n",
       "</table>\n",
       "</div>"
      ],
      "text/plain": [
       "       EVENT_ID           STATE      EVENT_TYPE  YEAR MONTH_NAME  \\\n",
       "33321    788675      CALIFORNIA        Wildfire  2018   November   \n",
       "56447    720861           TEXAS     Flash Flood  2017     August   \n",
       "55840    720871           TEXAS     Flash Flood  2017     August   \n",
       "55657    720852           TEXAS     Flash Flood  2017     August   \n",
       "19923    416942      NEW JERSEY   Coastal Flood  2012    October   \n",
       "55831    728349           TEXAS     Flash Flood  2017     August   \n",
       "20182    416946      NEW JERSEY   Coastal Flood  2012    October   \n",
       "20183    416948      NEW JERSEY   Coastal Flood  2012    October   \n",
       "37016    719342           TEXAS     Flash Flood  2017     August   \n",
       "37812    296617        MISSOURI         Tornado  2011        May   \n",
       "19924    416943      NEW JERSEY   Coastal Flood  2012    October   \n",
       "370      749456     PUERTO RICO     Flash Flood  2017  September   \n",
       "50207    684770        COLORADO            Hail  2017        May   \n",
       "55815    720865           TEXAS     Flash Flood  2017     August   \n",
       "38775    659430         FLORIDA  Tropical Storm  2016    October   \n",
       "59465    451572        OKLAHOMA         Tornado  2013        May   \n",
       "76433    320303       TENNESSEE           Flood  2011        May   \n",
       "52784    266216         ARIZONA            Hail  2010    October   \n",
       "55888    718519           TEXAS       Hurricane  2017     August   \n",
       "34015    656856       LOUISIANA           Flood  2016     August   \n",
       "27808    856409           TEXAS         Tornado  2019    October   \n",
       "55748    226199       TENNESSEE           Flood  2010        May   \n",
       "41068    719489           TEXAS     Flash Flood  2017     August   \n",
       "19677    416960      NEW JERSEY       High Wind  2012    October   \n",
       "71951    314662         ALABAMA         Tornado  2011      April   \n",
       "54945    774715      CALIFORNIA        Wildfire  2018       July   \n",
       "36162    623870           TEXAS            Hail  2016      April   \n",
       "33378    655862       LOUISIANA           Flood  2016     August   \n",
       "33907    538943        MICHIGAN     Flash Flood  2014     August   \n",
       "35395    657049       LOUISIANA           Flood  2016     August   \n",
       "49811    723658           TEXAS  Tropical Storm  2017     August   \n",
       "55812    720925           TEXAS       Hurricane  2017     August   \n",
       "37974    603502           TEXAS     Flash Flood  2015    October   \n",
       "63483    301902         ALABAMA         Tornado  2011      April   \n",
       "62969    320293     MISSISSIPPI           Flood  2011        May   \n",
       "52754    786760  NORTH CAROLINA       Hurricane  2018  September   \n",
       "\n",
       "      DAMAGE_PROPERTY  DAMAGE_PROPERTY_billion  \n",
       "33321          17.00B                    17.00  \n",
       "56447          10.00B                    10.00  \n",
       "55840          10.00B                    10.00  \n",
       "55657           8.00B                     8.00  \n",
       "19923           7.50B                     7.50  \n",
       "55831           7.00B                     7.00  \n",
       "20182           5.00B                     5.00  \n",
       "20183           5.00B                     5.00  \n",
       "37016           3.00B                     3.00  \n",
       "37812           2.80B                     2.80  \n",
       "19924           2.50B                     2.50  \n",
       "370             2.50B                     2.50  \n",
       "50207           2.30B                     2.30  \n",
       "55815           2.00B                     2.00  \n",
       "38775           2.00B                     2.00  \n",
       "59465           2.00B                     2.00  \n",
       "76433           2.00B                     2.00  \n",
       "52784           1.80B                     1.80  \n",
       "55888           1.75B                     1.75  \n",
       "34015           1.68B                     1.68  \n",
       "27808           1.55B                     1.55  \n",
       "55748           1.50B                     1.50  \n",
       "41068           1.50B                     1.50  \n",
       "19677           1.50B                     1.50  \n",
       "71951           1.50B                     1.50  \n",
       "54945           1.50B                     1.50  \n",
       "36162           1.36B                     1.36  \n",
       "33378           1.34B                     1.34  \n",
       "33907           1.10B                     1.10  \n",
       "35395           1.07B                     1.07  \n",
       "49811           1.00B                     1.00  \n",
       "55812           1.00B                     1.00  \n",
       "37974           1.00B                     1.00  \n",
       "63483           1.00B                     1.00  \n",
       "62969           1.00B                     1.00  \n",
       "52754           1.00B                     1.00  "
      ]
     },
     "execution_count": 57,
     "metadata": {},
     "output_type": "execute_result"
    }
   ],
   "source": [
    "df_damage_billion = df_damage_1[df_damage_1['DAMAGE_PROPERTY_billion'] >= 1]\n",
    "df_damage_billion.sort_values('DAMAGE_PROPERTY_billion', ascending = False)"
   ]
  },
  {
   "cell_type": "code",
   "execution_count": 58,
   "metadata": {},
   "outputs": [
    {
     "data": {
      "text/plain": [
       "Flash Flood       10\n",
       "Flood              6\n",
       "Tornado            5\n",
       "Coastal Flood      4\n",
       "Hail               3\n",
       "Hurricane          3\n",
       "Tropical Storm     2\n",
       "Wildfire           2\n",
       "High Wind          1\n",
       "Name: EVENT_TYPE, dtype: int64"
      ]
     },
     "execution_count": 58,
     "metadata": {},
     "output_type": "execute_result"
    }
   ],
   "source": [
    "df_damage_billion['EVENT_TYPE'].value_counts()"
   ]
  },
  {
   "cell_type": "code",
   "execution_count": 59,
   "metadata": {},
   "outputs": [
    {
     "data": {
      "text/plain": [
       "Text(0.5, 1.0, 'Billion-dollar storm events')"
      ]
     },
     "execution_count": 59,
     "metadata": {},
     "output_type": "execute_result"
    },
    {
     "data": {
      "image/png": "[encoded data removed]",
      "text/plain": [
       "<Figure size 864x360 with 1 Axes>"
      ]
     },
     "metadata": {
      "needs_background": "light"
     },
     "output_type": "display_data"
    }
   ],
   "source": [
    "fig, axs = plt.subplots(figsize=(12,5)) \n",
    "sns.countplot(x='EVENT_TYPE', data=df_damage_billion)\n",
    "axs.set_title('Billion-dollar storm events')"
   ]
  },
  {
   "cell_type": "code",
   "execution_count": 60,
   "metadata": {},
   "outputs": [
    {
     "data": {
      "text/html": [
       "<div>\n",
       "<style scoped>\n",
       "    .dataframe tbody tr th:only-of-type {\n",
       "        vertical-align: middle;\n",
       "    }\n",
       "\n",
       "    .dataframe tbody tr th {\n",
       "        vertical-align: top;\n",
       "    }\n",
       "\n",
       "    .dataframe thead th {\n",
       "        text-align: right;\n",
       "    }\n",
       "</style>\n",
       "<table border=\"1\" class=\"dataframe\">\n",
       "  <thead>\n",
       "    <tr style=\"text-align: right;\">\n",
       "      <th></th>\n",
       "      <th>EVENT_ID</th>\n",
       "      <th>STATE</th>\n",
       "      <th>EVENT_TYPE</th>\n",
       "      <th>YEAR</th>\n",
       "      <th>MONTH_NAME</th>\n",
       "      <th>DAMAGE_PROPERTY</th>\n",
       "      <th>DAMAGE_PROPERTY_billion</th>\n",
       "    </tr>\n",
       "  </thead>\n",
       "  <tbody>\n",
       "    <tr>\n",
       "      <th>19923</th>\n",
       "      <td>416942</td>\n",
       "      <td>NEW JERSEY</td>\n",
       "      <td>Coastal Flood</td>\n",
       "      <td>2012</td>\n",
       "      <td>October</td>\n",
       "      <td>7.50B</td>\n",
       "      <td>7.5</td>\n",
       "    </tr>\n",
       "    <tr>\n",
       "      <th>19924</th>\n",
       "      <td>416943</td>\n",
       "      <td>NEW JERSEY</td>\n",
       "      <td>Coastal Flood</td>\n",
       "      <td>2012</td>\n",
       "      <td>October</td>\n",
       "      <td>2.50B</td>\n",
       "      <td>2.5</td>\n",
       "    </tr>\n",
       "    <tr>\n",
       "      <th>20182</th>\n",
       "      <td>416946</td>\n",
       "      <td>NEW JERSEY</td>\n",
       "      <td>Coastal Flood</td>\n",
       "      <td>2012</td>\n",
       "      <td>October</td>\n",
       "      <td>5.00B</td>\n",
       "      <td>5.0</td>\n",
       "    </tr>\n",
       "    <tr>\n",
       "      <th>20183</th>\n",
       "      <td>416948</td>\n",
       "      <td>NEW JERSEY</td>\n",
       "      <td>Coastal Flood</td>\n",
       "      <td>2012</td>\n",
       "      <td>October</td>\n",
       "      <td>5.00B</td>\n",
       "      <td>5.0</td>\n",
       "    </tr>\n",
       "  </tbody>\n",
       "</table>\n",
       "</div>"
      ],
      "text/plain": [
       "       EVENT_ID       STATE     EVENT_TYPE  YEAR MONTH_NAME DAMAGE_PROPERTY  \\\n",
       "19923    416942  NEW JERSEY  Coastal Flood  2012    October           7.50B   \n",
       "19924    416943  NEW JERSEY  Coastal Flood  2012    October           2.50B   \n",
       "20182    416946  NEW JERSEY  Coastal Flood  2012    October           5.00B   \n",
       "20183    416948  NEW JERSEY  Coastal Flood  2012    October           5.00B   \n",
       "\n",
       "       DAMAGE_PROPERTY_billion  \n",
       "19923                      7.5  \n",
       "19924                      2.5  \n",
       "20182                      5.0  \n",
       "20183                      5.0  "
      ]
     },
     "execution_count": 60,
     "metadata": {},
     "output_type": "execute_result"
    }
   ],
   "source": [
    "# check if coastal floods have different EVENT_ID's\n",
    "\n",
    "df_damage_billion_test = df_damage_1[(df_damage_1['DAMAGE_PROPERTY_billion'] >= 1) &\n",
    "                               (df_damage_1['EVENT_TYPE'] == 'Coastal Flood')]\n",
    "df_damage_billion_test"
   ]
  },
  {
   "cell_type": "code",
   "execution_count": 61,
   "metadata": {},
   "outputs": [
    {
     "name": "stdout",
     "output_type": "stream",
     "text": [
      "There are 36 storm events that caused 1 billion or more in property damage.\n"
     ]
    }
   ],
   "source": [
    "print(\"There are {} storm events that caused 1 billion or more in property damage.\" \\\n",
    "     .format(df_damage_billion.shape[0]))"
   ]
  },
  {
   "cell_type": "code",
   "execution_count": 62,
   "metadata": {},
   "outputs": [
    {
     "data": {
      "text/plain": [
       "115.75"
      ]
     },
     "execution_count": 62,
     "metadata": {},
     "output_type": "execute_result"
    }
   ],
   "source": [
    "df_damage_billion['DAMAGE_PROPERTY_billion'].sum()"
   ]
  },
  {
   "cell_type": "code",
   "execution_count": 63,
   "metadata": {},
   "outputs": [
    {
     "name": "stdout",
     "output_type": "stream",
     "text": [
      "The total property damage by billion-dollar storm events is $115.75 billion.\n"
     ]
    }
   ],
   "source": [
    "print(\"The total property damage by billion-dollar storm events is $115.75 billion.\")"
   ]
  },
  {
   "cell_type": "markdown",
   "metadata": {},
   "source": [
    "## Property damage by event type\n",
    "\n",
    "#### Which storm events caused the most property damage?"
   ]
  },
  {
   "cell_type": "code",
   "execution_count": 64,
   "metadata": {},
   "outputs": [],
   "source": [
    "df_damage_event = df_damage_1.groupby('EVENT_TYPE')\\\n",
    "                             .sum()['DAMAGE_PROPERTY_billion']\\\n",
    "                             .sort_values(ascending = False)"
   ]
  },
  {
   "cell_type": "code",
   "execution_count": 65,
   "metadata": {},
   "outputs": [
    {
     "data": {
      "text/plain": [
       "EVENT_TYPE\n",
       "Flash Flood          76.725019\n",
       "Wildfire             22.282317\n",
       "Flood                21.978110\n",
       "Tornado              21.627474\n",
       "Coastal Flood        21.147935\n",
       "Hail                 16.547881\n",
       "Hurricane            12.551620\n",
       "Tropical Storm        7.499766\n",
       "High Wind             5.171167\n",
       "Thunderstorm Wind     2.711854\n",
       "Name: DAMAGE_PROPERTY_billion, dtype: float64"
      ]
     },
     "execution_count": 65,
     "metadata": {},
     "output_type": "execute_result"
    }
   ],
   "source": [
    "df_damage_event[:10]"
   ]
  },
  {
   "cell_type": "code",
   "execution_count": 66,
   "metadata": {
    "scrolled": false
   },
   "outputs": [
    {
     "data": {
      "image/png": "[encoded data removed]",
      "text/plain": [
       "<Figure size 864x504 with 1 Axes>"
      ]
     },
     "metadata": {
      "needs_background": "light"
     },
     "output_type": "display_data"
    }
   ],
   "source": [
    "fig, axs = plt.subplots(figsize=(12,7))  \n",
    "df_damage_event[:24].plot(kind = 'bar', title = 'Damage_property in billion $')\n",
    "axs.set_title('Damage_property in billions', fontsize = 16)\n",
    "axs.set_xlabel('')\n",
    "axs.set_ylabel('US $ in billions')\n",
    "plt.xticks(fontsize=12)\n",
    "plt.yticks(fontsize=12)\n",
    "plt.tight_layout()"
   ]
  },
  {
   "cell_type": "code",
   "execution_count": 67,
   "metadata": {},
   "outputs": [],
   "source": [
    "# top 5 damage events\n",
    "top5_damage = ['Flash Flood', 'Wildfire', 'Flood', 'Tornado', 'Coastal Flood']"
   ]
  },
  {
   "cell_type": "code",
   "execution_count": 68,
   "metadata": {},
   "outputs": [
    {
     "data": {
      "text/plain": [
       "217.00757093000084"
      ]
     },
     "execution_count": 68,
     "metadata": {},
     "output_type": "execute_result"
    }
   ],
   "source": [
    "# total property damage in millions\n",
    "df_damage_event.sum()"
   ]
  },
  {
   "cell_type": "code",
   "execution_count": 69,
   "metadata": {},
   "outputs": [
    {
     "data": {
      "text/plain": [
       "163.7608554400016"
      ]
     },
     "execution_count": 69,
     "metadata": {},
     "output_type": "execute_result"
    }
   ],
   "source": [
    "# property damage by the top 5 events\n",
    "df_damage_event[:5].sum()"
   ]
  },
  {
   "cell_type": "code",
   "execution_count": 70,
   "metadata": {},
   "outputs": [
    {
     "data": {
      "text/plain": [
       "0.7546311116292935"
      ]
     },
     "execution_count": 70,
     "metadata": {},
     "output_type": "execute_result"
    }
   ],
   "source": [
    "163760.04643999983/217006.75193000212"
   ]
  },
  {
   "cell_type": "code",
   "execution_count": 71,
   "metadata": {},
   "outputs": [
    {
     "name": "stdout",
     "output_type": "stream",
     "text": [
      "75.5% of property damage was caused by top 5 strom events.\n"
     ]
    }
   ],
   "source": [
    "print(\"75.5% of property damage was caused by top 5 strom events.\")"
   ]
  },
  {
   "cell_type": "markdown",
   "metadata": {},
   "source": [
    "## Top 5 property damage by year\n",
    "\n",
    "#### What are the yearly property damages caused by the top 5 storm event types?"
   ]
  },
  {
   "cell_type": "code",
   "execution_count": 72,
   "metadata": {},
   "outputs": [],
   "source": [
    "# yearly distribution of top 5 property damage\n",
    "\n",
    "df_yearly_damage = df_damage_1[df_damage_1['EVENT_TYPE'] == 'Flash Flood']\\\n",
    "                   .groupby('YEAR')\\\n",
    "                   .sum()['DAMAGE_PROPERTY_billion']\n",
    "\n",
    "for event in top5_damage[1:]:\n",
    "    df_yearly_temp = df_damage_1[df_damage_1['EVENT_TYPE'] == event]\\\n",
    "                     .groupby('YEAR')\\\n",
    "                     .sum()['DAMAGE_PROPERTY_billion']\n",
    "    df_yearly_damage = pd.concat([df_yearly_damage, df_yearly_temp], axis=1)\n",
    "\n",
    "df_yearly_damage.columns = top5_damage # rename the columns"
   ]
  },
  {
   "cell_type": "code",
   "execution_count": 73,
   "metadata": {},
   "outputs": [
    {
     "data": {
      "text/html": [
       "<div>\n",
       "<style scoped>\n",
       "    .dataframe tbody tr th:only-of-type {\n",
       "        vertical-align: middle;\n",
       "    }\n",
       "\n",
       "    .dataframe tbody tr th {\n",
       "        vertical-align: top;\n",
       "    }\n",
       "\n",
       "    .dataframe thead th {\n",
       "        text-align: right;\n",
       "    }\n",
       "</style>\n",
       "<table border=\"1\" class=\"dataframe\">\n",
       "  <thead>\n",
       "    <tr style=\"text-align: right;\">\n",
       "      <th></th>\n",
       "      <th>Flash Flood</th>\n",
       "      <th>Wildfire</th>\n",
       "      <th>Flood</th>\n",
       "      <th>Tornado</th>\n",
       "      <th>Coastal Flood</th>\n",
       "    </tr>\n",
       "    <tr>\n",
       "      <th>YEAR</th>\n",
       "      <th></th>\n",
       "      <th></th>\n",
       "      <th></th>\n",
       "      <th></th>\n",
       "      <th></th>\n",
       "    </tr>\n",
       "  </thead>\n",
       "  <tbody>\n",
       "    <tr>\n",
       "      <th>2010</th>\n",
       "      <td>0.833800</td>\n",
       "      <td>0.244890</td>\n",
       "      <td>3.093919</td>\n",
       "      <td>1.136920</td>\n",
       "      <td>0.007745</td>\n",
       "    </tr>\n",
       "    <tr>\n",
       "      <th>2011</th>\n",
       "      <td>1.356247</td>\n",
       "      <td>0.667217</td>\n",
       "      <td>6.621686</td>\n",
       "      <td>9.684151</td>\n",
       "      <td>0.027274</td>\n",
       "    </tr>\n",
       "    <tr>\n",
       "      <th>2012</th>\n",
       "      <td>0.379162</td>\n",
       "      <td>1.460087</td>\n",
       "      <td>0.119051</td>\n",
       "      <td>1.648696</td>\n",
       "      <td>21.049549</td>\n",
       "    </tr>\n",
       "    <tr>\n",
       "      <th>2013</th>\n",
       "      <td>0.957033</td>\n",
       "      <td>0.355809</td>\n",
       "      <td>1.215710</td>\n",
       "      <td>3.642168</td>\n",
       "      <td>0.023943</td>\n",
       "    </tr>\n",
       "    <tr>\n",
       "      <th>2014</th>\n",
       "      <td>2.476868</td>\n",
       "      <td>0.323811</td>\n",
       "      <td>0.148985</td>\n",
       "      <td>0.622070</td>\n",
       "      <td>0.003387</td>\n",
       "    </tr>\n",
       "    <tr>\n",
       "      <th>2015</th>\n",
       "      <td>1.833832</td>\n",
       "      <td>0.022897</td>\n",
       "      <td>0.686595</td>\n",
       "      <td>0.317881</td>\n",
       "      <td>0.014394</td>\n",
       "    </tr>\n",
       "    <tr>\n",
       "      <th>2016</th>\n",
       "      <td>3.645402</td>\n",
       "      <td>0.181501</td>\n",
       "      <td>7.066266</td>\n",
       "      <td>0.181176</td>\n",
       "      <td>0.000724</td>\n",
       "    </tr>\n",
       "    <tr>\n",
       "      <th>2017</th>\n",
       "      <td>63.118685</td>\n",
       "      <td>0.155965</td>\n",
       "      <td>1.527377</td>\n",
       "      <td>0.633772</td>\n",
       "      <td>0.006311</td>\n",
       "    </tr>\n",
       "    <tr>\n",
       "      <th>2018</th>\n",
       "      <td>0.683104</td>\n",
       "      <td>18.842008</td>\n",
       "      <td>0.520451</td>\n",
       "      <td>0.670254</td>\n",
       "      <td>0.014165</td>\n",
       "    </tr>\n",
       "    <tr>\n",
       "      <th>2019</th>\n",
       "      <td>1.440887</td>\n",
       "      <td>0.028131</td>\n",
       "      <td>0.978070</td>\n",
       "      <td>3.090385</td>\n",
       "      <td>0.000445</td>\n",
       "    </tr>\n",
       "  </tbody>\n",
       "</table>\n",
       "</div>"
      ],
      "text/plain": [
       "      Flash Flood   Wildfire     Flood   Tornado  Coastal Flood\n",
       "YEAR                                                           \n",
       "2010     0.833800   0.244890  3.093919  1.136920       0.007745\n",
       "2011     1.356247   0.667217  6.621686  9.684151       0.027274\n",
       "2012     0.379162   1.460087  0.119051  1.648696      21.049549\n",
       "2013     0.957033   0.355809  1.215710  3.642168       0.023943\n",
       "2014     2.476868   0.323811  0.148985  0.622070       0.003387\n",
       "2015     1.833832   0.022897  0.686595  0.317881       0.014394\n",
       "2016     3.645402   0.181501  7.066266  0.181176       0.000724\n",
       "2017    63.118685   0.155965  1.527377  0.633772       0.006311\n",
       "2018     0.683104  18.842008  0.520451  0.670254       0.014165\n",
       "2019     1.440887   0.028131  0.978070  3.090385       0.000445"
      ]
     },
     "execution_count": 73,
     "metadata": {},
     "output_type": "execute_result"
    }
   ],
   "source": [
    "df_yearly_damage"
   ]
  },
  {
   "cell_type": "code",
   "execution_count": 74,
   "metadata": {},
   "outputs": [
    {
     "data": {
      "text/html": [
       "<div>\n",
       "<style scoped>\n",
       "    .dataframe tbody tr th:only-of-type {\n",
       "        vertical-align: middle;\n",
       "    }\n",
       "\n",
       "    .dataframe tbody tr th {\n",
       "        vertical-align: top;\n",
       "    }\n",
       "\n",
       "    .dataframe thead th {\n",
       "        text-align: right;\n",
       "    }\n",
       "</style>\n",
       "<table border=\"1\" class=\"dataframe\">\n",
       "  <thead>\n",
       "    <tr style=\"text-align: right;\">\n",
       "      <th></th>\n",
       "      <th>count</th>\n",
       "      <th>mean</th>\n",
       "      <th>std</th>\n",
       "      <th>min</th>\n",
       "      <th>25%</th>\n",
       "      <th>50%</th>\n",
       "      <th>75%</th>\n",
       "      <th>max</th>\n",
       "    </tr>\n",
       "  </thead>\n",
       "  <tbody>\n",
       "    <tr>\n",
       "      <th>Flash Flood</th>\n",
       "      <td>10.0</td>\n",
       "      <td>7.672502</td>\n",
       "      <td>19.505610</td>\n",
       "      <td>0.379162</td>\n",
       "      <td>0.864609</td>\n",
       "      <td>1.398567</td>\n",
       "      <td>2.316109</td>\n",
       "      <td>63.118685</td>\n",
       "    </tr>\n",
       "    <tr>\n",
       "      <th>Wildfire</th>\n",
       "      <td>10.0</td>\n",
       "      <td>2.228232</td>\n",
       "      <td>5.852807</td>\n",
       "      <td>0.022897</td>\n",
       "      <td>0.162349</td>\n",
       "      <td>0.284351</td>\n",
       "      <td>0.589365</td>\n",
       "      <td>18.842008</td>\n",
       "    </tr>\n",
       "    <tr>\n",
       "      <th>Flood</th>\n",
       "      <td>10.0</td>\n",
       "      <td>2.197811</td>\n",
       "      <td>2.594729</td>\n",
       "      <td>0.119051</td>\n",
       "      <td>0.561987</td>\n",
       "      <td>1.096890</td>\n",
       "      <td>2.702283</td>\n",
       "      <td>7.066266</td>\n",
       "    </tr>\n",
       "    <tr>\n",
       "      <th>Tornado</th>\n",
       "      <td>10.0</td>\n",
       "      <td>2.162747</td>\n",
       "      <td>2.890721</td>\n",
       "      <td>0.181176</td>\n",
       "      <td>0.624996</td>\n",
       "      <td>0.903587</td>\n",
       "      <td>2.729963</td>\n",
       "      <td>9.684151</td>\n",
       "    </tr>\n",
       "    <tr>\n",
       "      <th>Coastal Flood</th>\n",
       "      <td>10.0</td>\n",
       "      <td>2.114794</td>\n",
       "      <td>6.653001</td>\n",
       "      <td>0.000445</td>\n",
       "      <td>0.004117</td>\n",
       "      <td>0.010955</td>\n",
       "      <td>0.021556</td>\n",
       "      <td>21.049549</td>\n",
       "    </tr>\n",
       "  </tbody>\n",
       "</table>\n",
       "</div>"
      ],
      "text/plain": [
       "               count      mean        std       min       25%       50%  \\\n",
       "Flash Flood     10.0  7.672502  19.505610  0.379162  0.864609  1.398567   \n",
       "Wildfire        10.0  2.228232   5.852807  0.022897  0.162349  0.284351   \n",
       "Flood           10.0  2.197811   2.594729  0.119051  0.561987  1.096890   \n",
       "Tornado         10.0  2.162747   2.890721  0.181176  0.624996  0.903587   \n",
       "Coastal Flood   10.0  2.114794   6.653001  0.000445  0.004117  0.010955   \n",
       "\n",
       "                    75%        max  \n",
       "Flash Flood    2.316109  63.118685  \n",
       "Wildfire       0.589365  18.842008  \n",
       "Flood          2.702283   7.066266  \n",
       "Tornado        2.729963   9.684151  \n",
       "Coastal Flood  0.021556  21.049549  "
      ]
     },
     "execution_count": 74,
     "metadata": {},
     "output_type": "execute_result"
    }
   ],
   "source": [
    "df_yearly_damage.describe().transpose()"
   ]
  },
  {
   "cell_type": "code",
   "execution_count": 75,
   "metadata": {},
   "outputs": [
    {
     "data": {
      "image/png": "[encoded data removed]",
      "text/plain": [
       "<Figure size 576x360 with 1 Axes>"
      ]
     },
     "metadata": {
      "needs_background": "light"
     },
     "output_type": "display_data"
    }
   ],
   "source": [
    "fig, axs = plt.subplots(figsize=(8,5))\n",
    "fig = sns.boxplot(data = df_yearly_damage)\n",
    "axs.set_title('Property damage in $billions',fontsize=16)\n",
    "plt.xticks(fontsize=12)\n",
    "plt.yticks(fontsize=12)\n",
    "fig.figure.savefig('property_boxplt.png')"
   ]
  },
  {
   "cell_type": "code",
   "execution_count": 76,
   "metadata": {
    "scrolled": true
   },
   "outputs": [
    {
     "data": {
      "image/png": "[encoded data removed]",
      "text/plain": [
       "<Figure size 720x360 with 1 Axes>"
      ]
     },
     "metadata": {
      "needs_background": "light"
     },
     "output_type": "display_data"
    }
   ],
   "source": [
    "fig, axs = plt.subplots(figsize=(10,5))   \n",
    "df_yearly_damage.plot(kind = 'bar',\n",
    "                      stacked = True, \n",
    "                      ax = axs)\n",
    "axs.set_title('Property damage in $billions by top 5 strom events',fontsize=16)\n",
    "axs.set_xlabel('')\n",
    "#axs.yaxis.grid(True)\n",
    "plt.xticks(fontsize=14)\n",
    "plt.yticks(fontsize=14)\n",
    "plt.tight_layout()\n",
    "fig.savefig('top5_damage.png')"
   ]
  }
 ],
 "metadata": {
  "kernelspec": {
   "display_name": "Python 3",
   "language": "python",
   "name": "python3"
  },
  "language_info": {
   "codemirror_mode": {
    "name": "ipython",
    "version": 3
   },
   "file_extension": ".py",
   "mimetype": "text/x-python",
   "name": "python",
   "nbconvert_exporter": "python",
   "pygments_lexer": "ipython3",
   "version": "3.7.4"
  }
 },
 "nbformat": 4,
 "nbformat_minor": 2
}
